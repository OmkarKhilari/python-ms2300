{
 "cells": [
  {
   "cell_type": "code",
   "execution_count": 1,
   "id": "09a071a7-4074-4fcb-8fd7-20fdae40049c",
   "metadata": {},
   "outputs": [],
   "source": [
    "\n",
    "def func(x):\n",
    "    return x**3 - x**2 - 1\n",
    "\n",
    "def func_dash(x):\n",
    "    return 3*(x**2) - 2*x\n",
    "\n",
    "def solver(x1, tol):\n",
    "    for i in range(500):\n",
    "        x2 = x1 - func(x1)/func_dash(x1)\n",
    "        if abs(func(x2)) < tol:\n",
    "            print('found root')\n",
    "            return x2\n",
    "        x1 = x2\n",
    "    print('root not found')\n"
   ]
  },
  {
   "cell_type": "code",
   "execution_count": 2,
   "id": "81277b2a-98e1-408d-bc53-7237f45ea6f9",
   "metadata": {},
   "outputs": [
    {
     "name": "stdout",
     "output_type": "stream",
     "text": [
      "found root\n"
     ]
    },
    {
     "data": {
      "text/plain": [
       "1.4655712318795535"
      ]
     },
     "execution_count": 2,
     "metadata": {},
     "output_type": "execute_result"
    }
   ],
   "source": [
    "tol = 1e-6\n",
    "x1 = 6\n",
    "solver(x1, tol)"
   ]
  },
  {
   "cell_type": "code",
   "execution_count": null,
   "id": "f2e39795-0179-4ba2-bfa3-d70f1f58c306",
   "metadata": {},
   "outputs": [],
   "source": []
  }
 ],
 "metadata": {
  "kernelspec": {
   "display_name": "Python 3 (ipykernel)",
   "language": "python",
   "name": "python3"
  },
  "language_info": {
   "codemirror_mode": {
    "name": "ipython",
    "version": 3
   },
   "file_extension": ".py",
   "mimetype": "text/x-python",
   "name": "python",
   "nbconvert_exporter": "python",
   "pygments_lexer": "ipython3",
   "version": "3.11.7"
  }
 },
 "nbformat": 4,
 "nbformat_minor": 5
}
