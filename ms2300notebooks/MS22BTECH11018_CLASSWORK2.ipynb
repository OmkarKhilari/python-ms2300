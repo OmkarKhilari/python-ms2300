{
 "cells": [
  {
   "cell_type": "code",
   "execution_count": 30,
   "id": "663bf49c-013f-4a7b-a6b4-a14d59e7a719",
   "metadata": {},
   "outputs": [
    {
     "data": {
      "text/plain": [
       "array([[ 1.  ,  0.  ,  0.  ,  0.14, -0.29,  0.  ],\n",
       "       [ 0.  ,  1.  ,  0.  ,  0.29,  0.43, -1.  ],\n",
       "       [ 0.  , -0.  ,  1.  , -0.43, -0.14,  2.  ]])"
      ]
     },
     "execution_count": 30,
     "metadata": {},
     "output_type": "execute_result"
    }
   ],
   "source": [
    "# Gauss-Jordan Method\n",
    "\n",
    "import numpy as np\n",
    "\n",
    "# add row\n",
    "def add_row(A,m,i,j):\n",
    "    \n",
    "    '''\n",
    "    m: multiplier\n",
    "    Add m times row j to row i in a matrix A\n",
    "    '''\n",
    "    # n stores the the size of a matrix A of size n x n\n",
    "    n = A.shape[0] # row dimension of A\n",
    "    E = np.eye(n) # nxn identity matrix\n",
    "    if i==j:\n",
    "        E[i,j] = m + 1\n",
    "    else:\n",
    "        E[i,j] = m\n",
    "    return E @ A\n",
    "\n",
    "# swap-rows\n",
    "def swap_rows(A,i,j):\n",
    "    '''\n",
    "    Interchange rows i and j of a matrix A\n",
    "    Note the identity matrix E is always a square matrix\n",
    "    Swap rows of identity matrix E to interchange rows of A\n",
    "    Returns E @ A\n",
    "    '''\n",
    "    n = A.shape[0]\n",
    "    E = np.eye(n)\n",
    "    E[i,i] = 0\n",
    "    E[j,j] = 0\n",
    "    E[i,j] = 1\n",
    "    E[j,i] = 1\n",
    "    return E @ A\n",
    "\n",
    "# scale-row\n",
    "def scale_row(A,s,i):\n",
    "    '''\n",
    "    A: a matrix \n",
    "    s: scale factor\n",
    "    Multiply row i of A by scale factor s\n",
    "    '''\n",
    "    n = A.shape[0]\n",
    "    E = np.eye(n)\n",
    "# [i,i] is the index of diagonal element of row i that is scaled by s\n",
    "    E[i,i] = s\n",
    "    return E @ A\n",
    "\n",
    "Y = np.array([[5,4,2],[-1,2,1],[1,1,1]])\n",
    "\n",
    "I = np.array([[1,0,0],[0,1,0],[0,0,1]])\n",
    "\n",
    "A = np.hstack((Y,I))\n",
    "\n",
    "A2 = scale_row(A,1/5,0)\n",
    "\n",
    "A3 = add_row(A2,1,1,0)\n",
    "\n",
    "A4 = add_row(A3,-1,2,0)\n",
    "\n",
    "A5 = scale_row(A4,1/2.8,1)\n",
    "\n",
    "A6 = add_row(A5,-0.2,2,1)\n",
    "\n",
    "A7 = scale_row(A6, 1/0.5, 2)\n",
    "\n",
    "A8 = add_row(A7,-0.5,1,2)\n",
    "\n",
    "A9 = add_row(A8,-0.4,0,2)\n",
    "\n",
    "A10 = add_row(A9,-0.8,0,1)\n",
    "\n",
    "A_ = np.linalg.inv(Y)\n",
    "A_\n",
    "np.round(A10,2)\n"
   ]
  },
  {
   "cell_type": "code",
   "execution_count": null,
   "id": "34910621-bbc2-4dc1-a34b-b8ead1de87e4",
   "metadata": {},
   "outputs": [],
   "source": []
  }
 ],
 "metadata": {
  "kernelspec": {
   "display_name": "Python 3 (ipykernel)",
   "language": "python",
   "name": "python3"
  },
  "language_info": {
   "codemirror_mode": {
    "name": "ipython",
    "version": 3
   },
   "file_extension": ".py",
   "mimetype": "text/x-python",
   "name": "python",
   "nbconvert_exporter": "python",
   "pygments_lexer": "ipython3",
   "version": "3.11.7"
  }
 },
 "nbformat": 4,
 "nbformat_minor": 5
}
