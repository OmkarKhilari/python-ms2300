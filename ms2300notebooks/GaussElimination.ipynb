{
 "cells": [
  {
   "cell_type": "code",
   "execution_count": null,
   "id": "a8169e87",
   "metadata": {},
   "outputs": [],
   "source": [
    "## Solve for set of linear equations using Numerical methods"
   ]
  },
  {
   "cell_type": "markdown",
   "id": "3c391724",
   "metadata": {},
   "source": [
    "# Gaussian elimination with pivoting\n",
    "\n",
    "Solving Ax=b using Gaussian elimination with partial pivoting\n",
    "\n",
    "Input: A: n x n matrix, b: vector of n dimensions\n",
    "\n",
    "Output: x: vector of n dimensions\n",
    "\n",
    "Afull = stack(A,b) # A is now n x n+1, as we append b as a new column\n",
    "\n",
    "for k=1:n do # traverse through columns of A\n",
    "\n",
    "# Find pivot (largest element of active column)\n",
    "\n",
    "pivot = Afull[k][k]\n",
    "\n",
    "pivot_row = k\n",
    "\n",
    "for i=k+1:n do\n",
    "    \n",
    "    if Afull[i][k] > pivot:\n",
    "       \n",
    "        pivot = Afull[i][k]\n",
    "        \n",
    "        pivot_row = k\n",
    "\n",
    "# Swap k-th row with row with the pivot element\n",
    "\n",
    "swap(Afull,k,pivot_row) # Afull[k][k] is now the pivot\n",
    "\n",
    "# Update bottom-right part of matrix\n",
    "\n",
    "for i=k+1:n:\n",
    "\n",
    "    m = A[i][k]/A[k][k]\n",
    "\n",
    "    for j=1:n+1 do:\n",
    "    \n",
    "        Afull[i][j] = Afull[i][j] - m*Afull[k][j]\n",
    "\n",
    "After this, A should be in upper diagonal form.\n",
    "\n",
    "Solving for x:\n",
    "\n",
    "x[n] = Afull[n][n+1]/Afull[n][n] \n",
    "\n",
    "for i=n-1:1 do:\n",
    "\n",
    "    sum = 0\n",
    "    \n",
    "    for j=i+1:n do:\n",
    "    \n",
    "    sum = sum + Afull[i][j]*x[j]\n",
    "\n",
    "x[i] = (Afull[i][n+1] - sum ) / Afull[i][i]\n",
    "\n",
    "x now contains the solution of the system"
   ]
  },
  {
   "cell_type": "code",
   "execution_count": null,
   "id": "4a0adba6",
   "metadata": {},
   "outputs": [],
   "source": []
  }
 ],
 "metadata": {
  "kernelspec": {
   "display_name": "Python 3 (ipykernel)",
   "language": "python",
   "name": "python3"
  },
  "language_info": {
   "codemirror_mode": {
    "name": "ipython",
    "version": 3
   },
   "file_extension": ".py",
   "mimetype": "text/x-python",
   "name": "python",
   "nbconvert_exporter": "python",
   "pygments_lexer": "ipython3",
   "version": "3.10.6"
  }
 },
 "nbformat": 4,
 "nbformat_minor": 5
}
