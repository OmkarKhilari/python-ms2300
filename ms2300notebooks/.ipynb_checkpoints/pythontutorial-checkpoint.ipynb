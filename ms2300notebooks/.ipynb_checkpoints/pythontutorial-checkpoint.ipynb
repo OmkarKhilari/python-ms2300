{
 "cells": [
  {
   "cell_type": "markdown",
   "metadata": {},
   "source": [
    "#### Reference: Prof. Saswata lecture (Jan 2023)"
   ]
  },
  {
   "cell_type": "markdown",
   "metadata": {},
   "source": [
    "#### For detailed documentation/tutorial on python refer to: https://docs.python.org/3/tutorial/index.html"
   ]
  },
  {
   "cell_type": "markdown",
   "metadata": {
    "id": "k3kpHZ9ITohV"
   },
   "source": [
    "| Character | Names |\n",
    "|:---: |:--- |\n",
    "| **`+`** | **plus** |\n",
    "| **`-`** | **minus, dash** |\n",
    "| **`_`** | **underscore** |\n",
    "| **`*`** | **star, asterisk** |\n",
    "| **`/`** | **forwardslash (it's leaning forward)** |\n",
    "| **`\\`** | **backslash (it's leaning back)** |\n",
    "| **`=`** | **equals sign** |\n",
    "| **`%`** | **percent sign** |\n",
    "| **`.`** | **dot** |\n",
    "| **`,`** | **comma** |\n",
    "| **`:`** | **colon** |\n",
    "| **`;`** | **semi-colon** |\n",
    "| **`?`** | **question mark** |\n",
    "| **`!`** | **exclamation mark** |\n",
    "| **`< >`** | **less-than and greater-than signs** |\n",
    "| **`' \"`** | **single quote and double quote** |\n",
    "| **`#`** | **hashtag** |\n",
    "| **`()`** | **parentheses** |\n",
    "| **`[]`** | **square brackets, brackets** |\n",
    "| **`{}`** | **curly braces, braces, curly brackets** |\n"
   ]
  },
  {
   "cell_type": "code",
   "execution_count": 10,
   "metadata": {
    "colab": {
     "base_uri": "https://localhost:8080/"
    },
    "executionInfo": {
     "elapsed": 520,
     "status": "ok",
     "timestamp": 1695194861210,
     "user": {
      "displayName": "Saswata Bhattacharya",
      "userId": "15308225954730866968"
     },
     "user_tz": -330
    },
    "id": "71MBm7kkb7a9",
    "outputId": "14e8dad4-55c9-435e-c434-f118216235df"
   },
   "outputs": [
    {
     "name": "stdout",
     "output_type": "stream",
     "text": [
      "3 <class 'int'>\n"
     ]
    }
   ],
   "source": [
    "#Direct addition\n",
    "0.1 + 0.1\n",
    "\n",
    "#Variable and type\n",
    "a = 3\n",
    "print(a, type(a))"
   ]
  },
  {
   "cell_type": "code",
   "execution_count": 16,
   "metadata": {},
   "outputs": [
    {
     "name": "stdout",
     "output_type": "stream",
     "text": [
      "Hello, World!\n"
     ]
    }
   ],
   "source": [
    "print(\"Hello, World!\")"
   ]
  },
  {
   "cell_type": "code",
   "execution_count": null,
   "metadata": {},
   "outputs": [],
   "source": [
    "#Variables and assignment\n",
    "a = 2\n",
    "b = 3\n",
    "sum = a + b\n",
    "print(sum)"
   ]
  },
  {
   "cell_type": "code",
   "execution_count": 11,
   "metadata": {
    "id": "UPPbiiBeEmfA"
   },
   "outputs": [
    {
     "name": "stdout",
     "output_type": "stream",
     "text": [
      "1.0 \n",
      " <class 'float'>\n",
      "1 \n",
      " <class 'int'>\n",
      "0 \n",
      " <class 'int'>\n"
     ]
    }
   ],
   "source": [
    "#Division\n",
    "a = 3\n",
    "b = 3\n",
    "\n",
    "div1=a/b ## float division\n",
    "print(div1,\"\\n\",type(div1))\n",
    "\n",
    "\n",
    "div2=a//b ## integer division\n",
    "print(div2,\"\\n\",type(div2))\n",
    "\n",
    "rem = a%b ## remainder of the division\n",
    "print(rem, \"\\n\", type(rem))"
   ]
  },
  {
   "cell_type": "code",
   "execution_count": 12,
   "metadata": {},
   "outputs": [
    {
     "name": "stdout",
     "output_type": "stream",
     "text": [
      "Hello, My name is Tushar and I'm 23 years old.\n"
     ]
    }
   ],
   "source": [
    "#Introducing f-string\n",
    "name = 'Tushar'\n",
    "age = 23\n",
    "print(f\"Hello, My name is {name} and I'm {age} years old.\")"
   ]
  },
  {
   "cell_type": "code",
   "execution_count": 17,
   "metadata": {
    "id": "eT9DehffEvnv"
   },
   "outputs": [
    {
     "name": "stdout",
     "output_type": "stream",
     "text": [
      "Before swapping: a, b =15,27\n",
      "After swapping: a, b = 27,15\n"
     ]
    }
   ],
   "source": [
    "#Swapping - it is an easy and intuitive language\n",
    "a = 15\n",
    "b = 27\n",
    "#example of f-string formatted print statement (f-string is for greater convenience)\n",
    "print(f'Before swapping: a, b ={a},{b}')\n",
    "a, b = b, a\n",
    "print(f'After swapping: a, b = {a},{b}')"
   ]
  },
  {
   "cell_type": "code",
   "execution_count": 18,
   "metadata": {
    "colab": {
     "base_uri": "https://localhost:8080/"
    },
    "executionInfo": {
     "elapsed": 622,
     "status": "ok",
     "timestamp": 1695195351324,
     "user": {
      "displayName": "Saswata Bhattacharya",
      "userId": "15308225954730866968"
     },
     "user_tz": -330
    },
    "id": "KSgqSZQkZ7T-",
    "outputId": "074968f0-165c-497b-d2e4-d5d9cf4bae14"
   },
   "outputs": [
    {
     "name": "stdout",
     "output_type": "stream",
     "text": [
      "\n",
      "\n",
      "\n",
      "\n"
     ]
    }
   ],
   "source": [
    "print(3 * \"\\n\")\n",
    "# 3 newlines are printed"
   ]
  },
  {
   "cell_type": "markdown",
   "metadata": {
    "id": "wP6yjMVtan4_"
   },
   "source": [
    "The parameter **end** at each line signifies the last character of a string"
   ]
  },
  {
   "cell_type": "code",
   "execution_count": 19,
   "metadata": {
    "id": "QCn3-U13aDs9"
   },
   "outputs": [
    {
     "name": "stdout",
     "output_type": "stream",
     "text": [
      "Welcome to Python!"
     ]
    }
   ],
   "source": [
    "print (\"Welcome to\", end = ' ')\n",
    "print (\"Python\", end = '!')"
   ]
  },
  {
   "cell_type": "code",
   "execution_count": 20,
   "metadata": {
    "id": "2hyzYBmpbTNx"
   },
   "outputs": [
    {
     "name": "stdout",
     "output_type": "stream",
     "text": [
      "There are 35 keywords\n",
      "False\n",
      "None\n",
      "True\n",
      "and\n",
      "as\n",
      "assert\n",
      "async\n",
      "await\n",
      "break\n",
      "class\n",
      "continue\n",
      "def\n",
      "del\n",
      "elif\n",
      "else\n",
      "except\n",
      "finally\n",
      "for\n",
      "from\n",
      "global\n",
      "if\n",
      "import\n",
      "in\n",
      "is\n",
      "lambda\n",
      "nonlocal\n",
      "not\n",
      "or\n",
      "pass\n",
      "raise\n",
      "return\n",
      "try\n",
      "while\n",
      "with\n",
      "yield\n"
     ]
    }
   ],
   "source": [
    "import keyword #import statement is used to import libraries, modules, functions\n",
    "print(f'There are {len(keyword.kwlist)} keywords')\n",
    "for x in keyword.kwlist:\n",
    "    print(x)\n"
   ]
  },
  {
   "cell_type": "code",
   "execution_count": 21,
   "metadata": {
    "colab": {
     "base_uri": "https://localhost:8080/"
    },
    "executionInfo": {
     "elapsed": 552,
     "status": "ok",
     "timestamp": 1695710461406,
     "user": {
      "displayName": "Saswata Bhattacharya",
      "userId": "15308225954730866968"
     },
     "user_tz": -330
    },
    "id": "9869742mbhv4",
    "outputId": "a6ee86b0-d07f-4ca5-fd3b-7c8aacb31d83"
   },
   "outputs": [
    {
     "data": {
      "text/plain": [
       "15"
      ]
     },
     "execution_count": 21,
     "metadata": {},
     "output_type": "execute_result"
    }
   ],
   "source": [
    "1+2+3+4 \\\n",
    "+5"
   ]
  },
  {
   "cell_type": "code",
   "execution_count": 22,
   "metadata": {
    "id": "X8lgcw8bcVzx"
   },
   "outputs": [
    {
     "data": {
      "text/plain": [
       "\u001b[0;31mInit signature:\u001b[0m \u001b[0mrange\u001b[0m\u001b[0;34m(\u001b[0m\u001b[0mself\u001b[0m\u001b[0;34m,\u001b[0m \u001b[0;34m/\u001b[0m\u001b[0;34m,\u001b[0m \u001b[0;34m*\u001b[0m\u001b[0margs\u001b[0m\u001b[0;34m,\u001b[0m \u001b[0;34m**\u001b[0m\u001b[0mkwargs\u001b[0m\u001b[0;34m)\u001b[0m\u001b[0;34m\u001b[0m\u001b[0;34m\u001b[0m\u001b[0m\n",
       "\u001b[0;31mDocstring:\u001b[0m     \n",
       "range(stop) -> range object\n",
       "range(start, stop[, step]) -> range object\n",
       "\n",
       "Return an object that produces a sequence of integers from start (inclusive)\n",
       "to stop (exclusive) by step.  range(i, j) produces i, i+1, i+2, ..., j-1.\n",
       "start defaults to 0, and stop is omitted!  range(4) produces 0, 1, 2, 3.\n",
       "These are exactly the valid indices for a list of 4 elements.\n",
       "When step is given, it specifies the increment (or decrement).\n",
       "\u001b[0;31mType:\u001b[0m           type\n",
       "\u001b[0;31mSubclasses:\u001b[0m     "
      ]
     },
     "metadata": {},
     "output_type": "display_data"
    }
   ],
   "source": [
    "(1 + 2 + 3 + 4 + 5 + 6\n",
    "+ 7)\n",
    "\n",
    "range?"
   ]
  },
  {
   "cell_type": "code",
   "execution_count": 23,
   "metadata": {
    "colab": {
     "base_uri": "https://localhost:8080/"
    },
    "executionInfo": {
     "elapsed": 435,
     "status": "ok",
     "timestamp": 1695711913410,
     "user": {
      "displayName": "Saswata Bhattacharya",
      "userId": "15308225954730866968"
     },
     "user_tz": -330
    },
    "id": "9_9k2DpXci2H",
    "outputId": "f5b349dc-3f70-46da-fdf2-cdaea62db839"
   },
   "outputs": [
    {
     "name": "stdout",
     "output_type": "stream",
     "text": [
      "1\n",
      "2\n",
      "3\n",
      "4\n",
      "5\n"
     ]
    }
   ],
   "source": [
    "#iterations\n",
    "for i in range(1,11):\n",
    "  if i == 6:\n",
    "    break\n",
    "  print(i)"
   ]
  },
  {
   "cell_type": "markdown",
   "metadata": {
    "id": "wBzMXFP5PNH8"
   },
   "source": [
    "print $x^2 + y^2$"
   ]
  },
  {
   "cell_type": "code",
   "execution_count": 24,
   "metadata": {
    "colab": {
     "base_uri": "https://localhost:8080/"
    },
    "executionInfo": {
     "elapsed": 6,
     "status": "ok",
     "timestamp": 1695712058518,
     "user": {
      "displayName": "Saswata Bhattacharya",
      "userId": "15308225954730866968"
     },
     "user_tz": -330
    },
    "id": "zAHdj7a8hTcn",
    "outputId": "009eaaee-48e4-4b8c-81ea-0d5ee49964c9"
   },
   "outputs": [
    {
     "name": "stdout",
     "output_type": "stream",
     "text": [
      "Hello\n",
      "True\n"
     ]
    }
   ],
   "source": [
    "if True:\n",
    "    print('Hello')\n",
    "    a = 6\n",
    "    print(True)"
   ]
  },
  {
   "cell_type": "code",
   "execution_count": 25,
   "metadata": {
    "colab": {
     "base_uri": "https://localhost:8080/"
    },
    "executionInfo": {
     "elapsed": 6,
     "status": "ok",
     "timestamp": 1695712181583,
     "user": {
      "displayName": "Saswata Bhattacharya",
      "userId": "15308225954730866968"
     },
     "user_tz": -330
    },
    "id": "28wBbD80nF8B",
    "outputId": "0c37a054-674e-425c-fc17-f87972d2837b"
   },
   "outputs": [
    {
     "name": "stdout",
     "output_type": "stream",
     "text": [
      "2\n"
     ]
    }
   ],
   "source": [
    "a = True\n",
    "b = False\n",
    "c = a + a\n",
    "print(c)"
   ]
  },
  {
   "cell_type": "code",
   "execution_count": 26,
   "metadata": {
    "id": "wdVGnahWhmNj"
   },
   "outputs": [
    {
     "name": "stdout",
     "output_type": "stream",
     "text": [
      "6\n",
      "9.3\n",
      "Hello\n"
     ]
    },
    {
     "data": {
      "text/plain": [
       "str"
      ]
     },
     "execution_count": 26,
     "metadata": {},
     "output_type": "execute_result"
    }
   ],
   "source": [
    "a, b, c = 6, 9.3, \"Hello\"\n",
    "\n",
    "print (a)\n",
    "print (b)\n",
    "print (c)\n",
    "type(c)"
   ]
  },
  {
   "cell_type": "code",
   "execution_count": 27,
   "metadata": {
    "id": "UwSKv1KldQo8"
   },
   "outputs": [
    {
     "name": "stdout",
     "output_type": "stream",
     "text": [
      "same\n",
      "same\n",
      "same\n"
     ]
    }
   ],
   "source": [
    "x = y = z = \"same\"\n",
    "\n",
    "print (x)\n",
    "print (y)\n",
    "print (z)"
   ]
  },
  {
   "cell_type": "code",
   "execution_count": 28,
   "metadata": {
    "id": "sjpG77NgdYwP"
   },
   "outputs": [
    {
     "name": "stdout",
     "output_type": "stream",
     "text": [
      "Enter your name\n"
     ]
    },
    {
     "name": "stdin",
     "output_type": "stream",
     "text": [
      " Test\n"
     ]
    }
   ],
   "source": [
    "print(\"Enter your name\")\n",
    "a=input()"
   ]
  },
  {
   "cell_type": "code",
   "execution_count": null,
   "metadata": {
    "id": "rFqt-_mFd329"
   },
   "outputs": [],
   "source": [
    "a"
   ]
  },
  {
   "cell_type": "code",
   "execution_count": 29,
   "metadata": {
    "id": "ouT-nu6deQ2U"
   },
   "outputs": [
    {
     "name": "stdout",
     "output_type": "stream",
     "text": [
      "4\n"
     ]
    },
    {
     "data": {
      "text/plain": [
       "str"
      ]
     },
     "execution_count": 29,
     "metadata": {},
     "output_type": "execute_result"
    }
   ],
   "source": [
    "print(len(a))\n",
    "type(a)"
   ]
  },
  {
   "cell_type": "code",
   "execution_count": 30,
   "metadata": {
    "id": "-_HQMMS0eTKH"
   },
   "outputs": [
    {
     "name": "stdin",
     "output_type": "stream",
     "text": [
      "Enter your name: Test\n"
     ]
    },
    {
     "name": "stdout",
     "output_type": "stream",
     "text": [
      "Hello, Test\n"
     ]
    }
   ],
   "source": [
    "x = input('Enter your name:')\n",
    "print('Hello, ' + x)"
   ]
  },
  {
   "cell_type": "code",
   "execution_count": 31,
   "metadata": {
    "colab": {
     "base_uri": "https://localhost:8080/"
    },
    "executionInfo": {
     "elapsed": 5,
     "status": "ok",
     "timestamp": 1695713347867,
     "user": {
      "displayName": "Saswata Bhattacharya",
      "userId": "15308225954730866968"
     },
     "user_tz": -330
    },
    "id": "Fhwj-F4sejVl",
    "outputId": "7132ac3b-fe0e-4996-cc6b-8ab54f162038"
   },
   "outputs": [
    {
     "name": "stdout",
     "output_type": "stream",
     "text": [
      "41\n",
      "4.0\n",
      "(4+0j)\n",
      "(19.66+0j)\n",
      "(4+19.66j)\n"
     ]
    }
   ],
   "source": [
    "import math\n",
    "a = 4   #integer\n",
    "b = 19.66 #float\n",
    "c = 3 + 27j #complex\n",
    "d = 20.97\n",
    "#converting float to int\n",
    "print (round(b+d))\n",
    "\n",
    "#converting int to float\n",
    "print (float(a))\n",
    "\n",
    "#converting int to complex\n",
    "print (complex(a))\n",
    "\n",
    "#converting float to complex\n",
    "print (complex(b))\n",
    "\n",
    "#converting to complex\n",
    "print (complex(a, b))"
   ]
  },
  {
   "cell_type": "code",
   "execution_count": 36,
   "metadata": {
    "colab": {
     "base_uri": "https://localhost:8080/"
    },
    "executionInfo": {
     "elapsed": 6,
     "status": "ok",
     "timestamp": 1695713435113,
     "user": {
      "displayName": "Saswata Bhattacharya",
      "userId": "15308225954730866968"
     },
     "user_tz": -330
    },
    "id": "dXA1JaxdnF8F",
    "outputId": "2c02026f-ddeb-40fa-f7f8-733e97a528be"
   },
   "outputs": [
    {
     "data": {
      "text/plain": [
       "True"
      ]
     },
     "execution_count": 36,
     "metadata": {},
     "output_type": "execute_result"
    }
   ],
   "source": [
    "1 == True\n",
    "#0 == False\n",
    "#0 == True"
   ]
  },
  {
   "cell_type": "code",
   "execution_count": 41,
   "metadata": {
    "id": "MM-22JuUfB2-"
   },
   "outputs": [
    {
     "name": "stdout",
     "output_type": "stream",
     "text": [
      "x is False\n",
      "y is True\n",
      "a: 6\n",
      "b: 91\n"
     ]
    }
   ],
   "source": [
    "#REMEMBER  True == 1   False == 0\n",
    "\n",
    "x = (0.1+0.2==0.3)\n",
    "y = (0.1+0.1==0.2)\n",
    "a = x + 6\n",
    "b = y + 90\n",
    "\n",
    "print(\"x is\", x)\n",
    "print(\"y is\", y)\n",
    "print(\"a:\", a)\n",
    "print(\"b:\", b)"
   ]
  },
  {
   "cell_type": "code",
   "execution_count": 47,
   "metadata": {},
   "outputs": [
    {
     "name": "stdin",
     "output_type": "stream",
     "text": [
      "Once deleted, variables cannot be recovered. Proceed (y/[n])?  y\n"
     ]
    }
   ],
   "source": [
    "%reset ## reset all variables\n",
    "#%reset -f "
   ]
  },
  {
   "cell_type": "code",
   "execution_count": 46,
   "metadata": {
    "colab": {
     "base_uri": "https://localhost:8080/"
    },
    "executionInfo": {
     "elapsed": 1245,
     "status": "ok",
     "timestamp": 1695715341676,
     "user": {
      "displayName": "Saswata Bhattacharya",
      "userId": "15308225954730866968"
     },
     "user_tz": -330
    },
    "id": "FDRfF6j2ZyK-",
    "outputId": "25deef24-8e4d-43f8-d080-1e120e2d4343"
   },
   "outputs": [
    {
     "data": {
      "text/plain": [
       "list"
      ]
     },
     "execution_count": 46,
     "metadata": {},
     "output_type": "execute_result"
    }
   ],
   "source": [
    "a = (1,2,3)\n",
    "#type(a)\n",
    "#b = [1,2,3]\n",
    "#type(b)\n",
    "#c = [0,1,2]\n",
    "#d = []\n"
   ]
  },
  {
   "cell_type": "code",
   "execution_count": 48,
   "metadata": {
    "executionInfo": {
     "elapsed": 7,
     "status": "ok",
     "timestamp": 1695797701463,
     "user": {
      "displayName": "Saswata Bhattacharya",
      "userId": "15308225954730866968"
     },
     "user_tz": -330
    },
    "id": "I0idSrh8f4HZ"
   },
   "outputs": [],
   "source": [
    "juice = \"Available\"\n",
    "soup = None\n",
    "def menu(x):\n",
    "    if x == juice:\n",
    "        print(juice)\n",
    "    else:\n",
    "        print(soup)"
   ]
  },
  {
   "cell_type": "code",
   "execution_count": 49,
   "metadata": {
    "colab": {
     "base_uri": "https://localhost:8080/"
    },
    "executionInfo": {
     "elapsed": 506,
     "status": "ok",
     "timestamp": 1695797754570,
     "user": {
      "displayName": "Saswata Bhattacharya",
      "userId": "15308225954730866968"
     },
     "user_tz": -330
    },
    "id": "8-_oPnsraIYb",
    "outputId": "fdf05868-9ef5-4312-fc6a-dfd5df22de8a"
   },
   "outputs": [
    {
     "name": "stdout",
     "output_type": "stream",
     "text": [
      "Available\n"
     ]
    }
   ],
   "source": [
    "menu(juice)"
   ]
  },
  {
   "cell_type": "code",
   "execution_count": 50,
   "metadata": {
    "id": "cVS031j2nF8H"
   },
   "outputs": [
    {
     "name": "stdout",
     "output_type": "stream",
     "text": [
      "None\n"
     ]
    }
   ],
   "source": [
    "menu(1)"
   ]
  },
  {
   "cell_type": "code",
   "execution_count": 52,
   "metadata": {},
   "outputs": [
    {
     "name": "stdout",
     "output_type": "stream",
     "text": [
      "None\n"
     ]
    }
   ],
   "source": [
    "menu('tea')"
   ]
  },
  {
   "cell_type": "code",
   "execution_count": 66,
   "metadata": {
    "colab": {
     "base_uri": "https://localhost:8080/",
     "height": 54
    },
    "executionInfo": {
     "elapsed": 366,
     "status": "ok",
     "timestamp": 1693739117547,
     "user": {
      "displayName": "Saswata Bhattacharya",
      "userId": "15308225954730866968"
     },
     "user_tz": -330
    },
    "id": "XSEC46nYrAQg",
    "outputId": "44edc3c3-7bc2-4650-b9e7-4fbf1d941369"
   },
   "outputs": [
    {
     "name": "stdout",
     "output_type": "stream",
     "text": [
      "1\n"
     ]
    },
    {
     "data": {
      "text/plain": [
       "'b'"
      ]
     },
     "execution_count": 66,
     "metadata": {},
     "output_type": "execute_result"
    }
   ],
   "source": [
    "fruits4 = {\"a\":'Apple',\"b\":'Banana',\"c\":'Cantaloupe',\"d\":'Mango',\"e\":'Strawberry'}\n",
    "#create a list of keys from the dictionary\n",
    "lk=list(fruits4.keys())\n",
    "lk\n",
    "#create a list of values from the dictionary\n",
    "lv=list(fruits4.values())\n",
    "lv\n",
    "#find the index corresponding to the value 'Strawberry'\n",
    "vindex=lv.index('Banana')\n",
    "print(vindex)\n",
    "lk[vindex]\n",
    "\n",
    "#lv.index?\n",
    "#lv.index('Strawberry')"
   ]
  },
  {
   "cell_type": "code",
   "execution_count": 67,
   "metadata": {
    "colab": {
     "base_uri": "https://localhost:8080/"
    },
    "executionInfo": {
     "elapsed": 340,
     "status": "ok",
     "timestamp": 1693739879293,
     "user": {
      "displayName": "Saswata Bhattacharya",
      "userId": "15308225954730866968"
     },
     "user_tz": -330
    },
    "id": "9KD-BWn5ryGw",
    "outputId": "ff1dc2f9-a202-4f33-ecdc-2cf5f377ef0a"
   },
   "outputs": [
    {
     "name": "stdout",
     "output_type": "stream",
     "text": [
      "<class 'tuple'>\n",
      "<class 'tuple'>\n",
      "(1, 2, 3, 4)\n"
     ]
    },
    {
     "data": {
      "text/plain": [
       "(1, 2, 3)"
      ]
     },
     "execution_count": 67,
     "metadata": {},
     "output_type": "execute_result"
    }
   ],
   "source": [
    "fruits1 = (\"Banana\", \"Apple\", \"Strawberry\")\n",
    "# print(type(fruits1))\n",
    "f1 = list(fruits1)\n",
    "f1\n",
    "f1.append(\"Orange\")\n",
    "f1\n",
    "fruits1 = tuple(f1)\n",
    "fruits1\n",
    "\n",
    "x = (1,2,3)\n",
    "print(type(x))\n",
    "y = (4,)\n",
    "print(type(y))\n",
    "x += y\n",
    "print(x)\n",
    "z = list(x)\n",
    "z.remove(4)\n",
    "z\n",
    "x = tuple(z)\n",
    "x"
   ]
  },
  {
   "cell_type": "code",
   "execution_count": 68,
   "metadata": {
    "colab": {
     "base_uri": "https://localhost:8080/"
    },
    "executionInfo": {
     "elapsed": 768,
     "status": "ok",
     "timestamp": 1695798847193,
     "user": {
      "displayName": "Saswata Bhattacharya",
      "userId": "15308225954730866968"
     },
     "user_tz": -330
    },
    "id": "W5QFs573gldm",
    "outputId": "b43242b2-1522-4240-ebcc-d7ffe6580051"
   },
   "outputs": [
    {
     "name": "stdout",
     "output_type": "stream",
     "text": [
      "('Banana', 'Apple', 'Strawberry')\n",
      "['Banana', 'Apple', 'Strawberry']\n",
      "{'Banana', 'Apple', 'Strawberry', 'Guava'}\n",
      "{'1': 'Guava'}\n",
      "dict_values(['Guava'])\n"
     ]
    },
    {
     "data": {
      "text/plain": [
       "\u001b[0;31mDocstring:\u001b[0m D.values() -> an object providing a view on D's values\n",
       "\u001b[0;31mType:\u001b[0m      method_descriptor"
      ]
     },
     "metadata": {},
     "output_type": "display_data"
    }
   ],
   "source": [
    "fruits1 = (\"Banana\", \"Apple\", \"Strawberry\")             # tuple ()\n",
    "fruits2 = [\"Banana\", \"Apple\", \"Strawberry\"]             # list []\n",
    "fruits3 = {\"Banana\", \"Apple\", \"Strawberry\", \"Banana\", \"Guava\", \"Apple\"}             # set {}\n",
    "fruits4 = {\"1\":\"Banana\", \"1\":\"Apple\", \"1\":\"Guava\"}\n",
    "\n",
    "print(fruits1)\n",
    "print(fruits2)\n",
    "print(fruits3)\n",
    "print(fruits4)\n",
    "fruits2[0]=\"Guava\"\n",
    "fruits2\n",
    "fruits3\n",
    "\"Strawberry\" in fruits4\n",
    "b=fruits4.values()\n",
    "print(b)\n",
    "dict.values?"
   ]
  },
  {
   "cell_type": "code",
   "execution_count": 69,
   "metadata": {
    "id": "ZBGdyAztnF8H"
   },
   "outputs": [
    {
     "name": "stdout",
     "output_type": "stream",
     "text": [
      "Banana\n",
      "Banana\n"
     ]
    }
   ],
   "source": [
    "x = 'Banana'\n",
    "y = \"Banana\"\n",
    "print(x)\n",
    "print(y)\n",
    "\n",
    "#tuple is imutable or not writable\n"
   ]
  },
  {
   "cell_type": "code",
   "execution_count": null,
   "metadata": {
    "id": "jGu5o6HRg1D9"
   },
   "outputs": [],
   "source": [
    "a = 6\n",
    "print(a, \"is of type\", type(a))\n",
    "print(a, \"is integer number?\", isinstance(5,int))\n",
    "\n",
    "a = 3.0\n",
    "print(a, \"is of type\", type(a))\n",
    "print(a, \"is float number?\", isinstance(2.0,float))\n",
    "\n",
    "a = 1+2j  # '1' is real part and '2j' is imaginary part\n",
    "print(a, \"is of type\", type(a))\n",
    "print(a, \"is complex number?\", isinstance(1+2j,complex))"
   ]
  },
  {
   "cell_type": "code",
   "execution_count": null,
   "metadata": {
    "id": "vOu7Rl4ohMuI"
   },
   "outputs": [],
   "source": [
    "x = [6, 99, 77, 'Apple']\n",
    "print(x, \"is of type\", type(x))"
   ]
  },
  {
   "cell_type": "code",
   "execution_count": null,
   "metadata": {
    "colab": {
     "base_uri": "https://localhost:8080/"
    },
    "executionInfo": {
     "elapsed": 4,
     "status": "ok",
     "timestamp": 1694265300667,
     "user": {
      "displayName": "Saswata Bhattacharya",
      "userId": "15308225954730866968"
     },
     "user_tz": -330
    },
    "id": "f-f_EgZPhhwF",
    "outputId": "3b6eb487-5e1d-4099-8f8f-8210cfade499"
   },
   "outputs": [
    {
     "name": "stdout",
     "output_type": "stream",
     "text": [
      "a[2] =  15\n",
      "a[0:3] =  [5, 10, 15]\n",
      "a[5:] =  [30, 35, 40]\n"
     ]
    }
   ],
   "source": [
    "a = [5, 10, 15, 20, 25, 30, 35, 40]  # Total elemnets is 8\n",
    "#   [0   1   2   3   4   5   6   7]  ⬅ Index forward\n",
    "#   [-8 -7  -6  -5  -4  -3  -2  -1]  ➡ Index backward\n",
    "\n",
    "# index '0' is element '1' = 5,\n",
    "# index '1' is element '2' = 10,\n",
    "# index '2' is element '3' = 15,\n",
    "# .\n",
    "# .\n",
    "# .\n",
    "# index '7' is element '8' = 40,\n",
    "\n",
    "a[1] # To access the elements in the list\n",
    "\n",
    "# a[2] = 15\n",
    "print(\"a[2] = \", a[2])\n",
    "\n",
    "# a[0:3] = [5, 10, 15]\n",
    "print(\"a[0:3] = \", a[0:3])  # [0:3] means elements from 0 uptil 2 index (not include last element)\n",
    "                            # [0:3] means from index 0 to 3 - 1\n",
    "                            # [0:3] means from index 0 to 2\n",
    "\n",
    "# a[5:] = [30, 35, 40]  # [5:] means all the elements from 5 till end\n",
    "print(\"a[5:] = \", a[5:])"
   ]
  },
  {
   "cell_type": "code",
   "execution_count": null,
   "metadata": {
    "colab": {
     "base_uri": "https://localhost:8080/"
    },
    "executionInfo": {
     "elapsed": 347,
     "status": "ok",
     "timestamp": 1694265399092,
     "user": {
      "displayName": "Saswata Bhattacharya",
      "userId": "15308225954730866968"
     },
     "user_tz": -330
    },
    "id": "DVcYQX2HhtVx",
    "outputId": "37661d04-6690-4619-f52a-94f367184863"
   },
   "outputs": [
    {
     "name": "stdout",
     "output_type": "stream",
     "text": [
      "<class 'list'> 8 [5, 10, 15, 20, 25, 30, 35, 40]\n"
     ]
    },
    {
     "data": {
      "text/plain": [
       "[10, 15, 20, 25, 30, 35]"
      ]
     },
     "execution_count": 4,
     "metadata": {},
     "output_type": "execute_result"
    }
   ],
   "source": [
    "#Slicing\n",
    "print(type(a),len(a),a)\n",
    "#a[0:]\n",
    "a[1:-1]"
   ]
  },
  {
   "cell_type": "code",
   "execution_count": null,
   "metadata": {
    "id": "0rc-0HeXh-ph"
   },
   "outputs": [],
   "source": [
    "a[-1]"
   ]
  },
  {
   "cell_type": "code",
   "execution_count": null,
   "metadata": {
    "id": "sY1sEoa6iOi-"
   },
   "outputs": [],
   "source": [
    "a[:5]"
   ]
  },
  {
   "cell_type": "code",
   "execution_count": null,
   "metadata": {
    "id": "1ACkinlJiYko"
   },
   "outputs": [],
   "source": [
    "# Change the element of the List\n",
    "a = [1, 2, 3]\n",
    "#   [0  1  2] ➡ Index forward\n",
    "\n",
    "a[2] = 4  # Change my third element from '3' to '4' # [2] is the index number\n",
    "print(a)"
   ]
  },
  {
   "cell_type": "code",
   "execution_count": 22,
   "metadata": {
    "colab": {
     "base_uri": "https://localhost:8080/",
     "height": 255
    },
    "executionInfo": {
     "elapsed": 595,
     "status": "error",
     "timestamp": 1695799050012,
     "user": {
      "displayName": "Saswata Bhattacharya",
      "userId": "15308225954730866968"
     },
     "user_tz": -330
    },
    "id": "u20avEx6ihhe",
    "outputId": "6eb07cc5-eb8e-487f-ab24-0f6c96ba5566"
   },
   "outputs": [
    {
     "name": "stdout",
     "output_type": "stream",
     "text": [
      "t[1] =  program\n",
      "t[0:3] =  (6, 'program', (1+3j))\n"
     ]
    },
    {
     "ename": "TypeError",
     "evalue": "ignored",
     "output_type": "error",
     "traceback": [
      "\u001b[0;31m---------------------------------------------------------------------------\u001b[0m",
      "\u001b[0;31mTypeError\u001b[0m                                 Traceback (most recent call last)",
      "\u001b[0;32m<ipython-input-22-09c9432b90fd>\u001b[0m in \u001b[0;36m<cell line: 17>\u001b[0;34m()\u001b[0m\n\u001b[1;32m     15\u001b[0m \u001b[0;31m# Generates error\u001b[0m\u001b[0;34m\u001b[0m\u001b[0;34m\u001b[0m\u001b[0m\n\u001b[1;32m     16\u001b[0m \u001b[0;31m# Tuples are immutable\u001b[0m\u001b[0;34m\u001b[0m\u001b[0;34m\u001b[0m\u001b[0m\n\u001b[0;32m---> 17\u001b[0;31m \u001b[0mt\u001b[0m\u001b[0;34m[\u001b[0m\u001b[0;36m0\u001b[0m\u001b[0;34m]\u001b[0m \u001b[0;34m=\u001b[0m \u001b[0;36m10\u001b[0m  \u001b[0;31m# trying to change element 0 from '6' to '10'\u001b[0m\u001b[0;34m\u001b[0m\u001b[0;34m\u001b[0m\u001b[0m\n\u001b[0m",
      "\u001b[0;31mTypeError\u001b[0m: 'tuple' object does not support item assignment"
     ]
    }
   ],
   "source": [
    "# Tuple 't' have 3 elements\n",
    "t = (6,'program', 1+3j)\n",
    "#   (0        1      2) ➡ Index forward\n",
    "\n",
    "# index '0' is element '1'= 6\n",
    "# index '1' is element '2'= program\n",
    "# index '2' is elemtnt '3'= 1+3j\n",
    "\n",
    "# t[1] = 'program'\n",
    "print(\"t[1] = \", t[1])\n",
    "\n",
    "# t[0:3] = (6, 'program', (1+3j))\n",
    "print(\"t[0:3] = \", t[0:3])\n",
    "\n",
    "# Generates error\n",
    "# Tuples are immutable\n",
    "t[0] = 10  # trying to change element 0 from '6' to '10'"
   ]
  },
  {
   "cell_type": "code",
   "execution_count": 39,
   "metadata": {
    "colab": {
     "base_uri": "https://localhost:8080/"
    },
    "executionInfo": {
     "elapsed": 965,
     "status": "ok",
     "timestamp": 1695799616922,
     "user": {
      "displayName": "Saswata Bhattacharya",
      "userId": "15308225954730866968"
     },
     "user_tz": -330
    },
    "id": "gUv0R-WSgEHo",
    "outputId": "8497b590-fb06-4081-e93e-4ef852f53575"
   },
   "outputs": [
    {
     "name": "stdout",
     "output_type": "stream",
     "text": [
      "(6, 'program', 3.1622776601683795)\n",
      "[6, 'program', 3.1622776601683795]\n",
      "<class 'tuple'>\n",
      "(6, 'program', 3.1622776601683795)\n"
     ]
    }
   ],
   "source": [
    "import math\n",
    "print(t)\n",
    "len(t)\n",
    "a = [0,0,0]\n",
    "type(a)\n",
    "a[0]=t[0]\n",
    "a[1]=t[1]\n",
    "a[2]=t[2]\n",
    "a[2] = math.sqrt(10)\n",
    "print(a)\n",
    "t = (a[0],a[1],a[2])\n",
    "print(type(t))\n",
    "print(t)\n"
   ]
  },
  {
   "cell_type": "code",
   "execution_count": null,
   "metadata": {
    "id": "1kGV4rDiiu8q"
   },
   "outputs": [],
   "source": [
    "s = '''Apple'''\n",
    "print(s)\n",
    "s = \"\"\"Apple\"\"\"\n",
    "print(s)\n",
    "s = 'Apple'\n",
    "print(s)\n",
    "s = \"Apple\"\n",
    "print(s)\n",
    "s = Apple   # cannot write string with out quotes ('', \" \", \"\"\" \"\"\", ''' ''')\n",
    "print(s)"
   ]
  },
  {
   "cell_type": "code",
   "execution_count": null,
   "metadata": {
    "id": "8M6I--yNgBLi"
   },
   "outputs": [],
   "source": []
  },
  {
   "cell_type": "code",
   "execution_count": null,
   "metadata": {
    "id": "xhkK_QrsjIeC"
   },
   "outputs": [],
   "source": [
    "a = 'Apple'\n",
    "a[0]\n",
    "a[1] = b"
   ]
  },
  {
   "cell_type": "code",
   "execution_count": null,
   "metadata": {
    "id": "BdNNGj2GjN4Z"
   },
   "outputs": [],
   "source": [
    "a = {7,1,3,6,9}\n",
    "\n",
    "# printing set variable\n",
    "print(\"a = \", a)\n",
    "\n",
    "# data type of variable a\n",
    "print(type(a))"
   ]
  },
  {
   "cell_type": "code",
   "execution_count": null,
   "metadata": {
    "id": "evHxEKZjjhag"
   },
   "outputs": [],
   "source": [
    "a = {1,2,3}  # in Set data type we cannot access the elements because set is unordered collection\n",
    "a[1]  # Index [1] means element 2"
   ]
  },
  {
   "cell_type": "code",
   "execution_count": null,
   "metadata": {
    "id": "JMw4Ro-ujo44"
   },
   "outputs": [],
   "source": [
    "d = {1: 'Apple', 2: 'Cat', 3: 'Food'}  # 'Apple' is element and 1 is the key of element.\n",
    "print(d, type(d))\n",
    "\n",
    "d[3]"
   ]
  },
  {
   "cell_type": "code",
   "execution_count": null,
   "metadata": {
    "id": "2emjjcInjul_"
   },
   "outputs": [],
   "source": [
    "d = {1:'value',2:'key'} # '1' is the key to access 'value' and 'key' is the key to access '2'\n",
    "print(type(d))\n",
    "\n",
    "print(\"d[1] = \", d[1]); # try to find the element from key.\n",
    "\n",
    "print(\"d['key'] = \", d['key']); # try to find the key from the element.\n"
   ]
  },
  {
   "cell_type": "code",
   "execution_count": null,
   "metadata": {
    "id": "9irQlwDwj7a4"
   },
   "outputs": [],
   "source": [
    "dict_1 = {'apple':3, 'oragne':4, 'pear':2}\n",
    "dict_1"
   ]
  },
  {
   "cell_type": "code",
   "execution_count": null,
   "metadata": {
    "id": "0v-upsK4k9XA"
   },
   "outputs": [],
   "source": [
    "dict_1.keys()"
   ]
  },
  {
   "cell_type": "code",
   "execution_count": null,
   "metadata": {
    "id": "DvvPhqIJlBLo"
   },
   "outputs": [],
   "source": [
    "dict_1['apple']"
   ]
  },
  {
   "cell_type": "code",
   "execution_count": null,
   "metadata": {
    "id": "EMCF1Xh0lMFL"
   },
   "outputs": [],
   "source": [
    "dict_1.values()"
   ]
  },
  {
   "cell_type": "code",
   "execution_count": null,
   "metadata": {
    "id": "upCVLP6HlWrJ"
   },
   "outputs": [],
   "source": [
    "len(dict_1)"
   ]
  },
  {
   "cell_type": "code",
   "execution_count": null,
   "metadata": {
    "id": "P48eapKxlfbK"
   },
   "outputs": [],
   "source": [
    "school_dict = {}\n",
    "school_dict['UC Berkeley'] = 'USA'\n",
    "print(school_dict)\n",
    "school_dict['IIT Hyderabad'] = 'India'\n",
    "school_dict['Ruhr Universitat'] = 'Germany'\n",
    "school_dict['Oxford University'] = 'UK'\n"
   ]
  },
  {
   "cell_type": "code",
   "execution_count": null,
   "metadata": {
    "id": "-zAC7xi8mJLa"
   },
   "outputs": [],
   "source": [
    "school_dict"
   ]
  },
  {
   "cell_type": "code",
   "execution_count": null,
   "metadata": {
    "id": "i-KEElAYmSQx"
   },
   "outputs": [],
   "source": [
    "\"UC Berkeley\" in school_dict"
   ]
  },
  {
   "cell_type": "code",
   "execution_count": null,
   "metadata": {
    "id": "Zi1UshOHmc20"
   },
   "outputs": [],
   "source": [
    "\"UC SantaBarbara\" in school_dict"
   ]
  },
  {
   "cell_type": "code",
   "execution_count": null,
   "metadata": {
    "id": "Pqwulk1RmjOC"
   },
   "outputs": [],
   "source": [
    "school_dict['IIT Hyderabad']"
   ]
  },
  {
   "cell_type": "code",
   "execution_count": null,
   "metadata": {
    "id": "37E2RuNOmrCG"
   },
   "outputs": [],
   "source": [
    "school_dict['India']"
   ]
  },
  {
   "cell_type": "code",
   "execution_count": null,
   "metadata": {
    "id": "uighAvW_musp"
   },
   "outputs": [],
   "source": [
    "list(school_dict.values())"
   ]
  },
  {
   "cell_type": "code",
   "execution_count": null,
   "metadata": {
    "colab": {
     "base_uri": "https://localhost:8080/"
    },
    "executionInfo": {
     "elapsed": 534,
     "status": "ok",
     "timestamp": 1693740640976,
     "user": {
      "displayName": "Saswata Bhattacharya",
      "userId": "15308225954730866968"
     },
     "user_tz": -330
    },
    "id": "BbqlAbxlm88v",
    "outputId": "c84c26fc-2d8f-442c-b50a-2f646b404ab3"
   },
   "outputs": [
    {
     "data": {
      "text/plain": [
       "{1, 2, 3}"
      ]
     },
     "execution_count": 72,
     "metadata": {},
     "output_type": "execute_result"
    }
   ],
   "source": [
    "# Unique elements\n",
    "set_1 = set([1, 2, 2, 3, 2, 1, 2])\n",
    "set_1\n"
   ]
  },
  {
   "cell_type": "code",
   "execution_count": null,
   "metadata": {
    "colab": {
     "base_uri": "https://localhost:8080/"
    },
    "executionInfo": {
     "elapsed": 395,
     "status": "ok",
     "timestamp": 1693740649370,
     "user": {
      "displayName": "Saswata Bhattacharya",
      "userId": "15308225954730866968"
     },
     "user_tz": -330
    },
    "id": "fULUxoCBnUPU",
    "outputId": "7a198c1f-418b-46bd-e319-0f0cd1e7946d"
   },
   "outputs": [
    {
     "data": {
      "text/plain": [
       "{'B', 'a', 'n'}"
      ]
     },
     "execution_count": 73,
     "metadata": {},
     "output_type": "execute_result"
    }
   ],
   "source": [
    "set('Banana')"
   ]
  },
  {
   "cell_type": "code",
   "execution_count": null,
   "metadata": {
    "id": "eDIe-u-wnc5B"
   },
   "outputs": [],
   "source": [
    "set_2 = set([2,4,6,5,2])"
   ]
  },
  {
   "cell_type": "code",
   "execution_count": null,
   "metadata": {
    "id": "EhfXPfbanmrn"
   },
   "outputs": [],
   "source": [
    "print(set_1)\n",
    "print(set_2)"
   ]
  },
  {
   "cell_type": "code",
   "execution_count": null,
   "metadata": {
    "colab": {
     "base_uri": "https://localhost:8080/"
    },
    "executionInfo": {
     "elapsed": 375,
     "status": "ok",
     "timestamp": 1693740665250,
     "user": {
      "displayName": "Saswata Bhattacharya",
      "userId": "15308225954730866968"
     },
     "user_tz": -330
    },
    "id": "JEheK27Mnucf",
    "outputId": "a5fde967-63f5-4cf4-fad0-893a0d3dd1f1"
   },
   "outputs": [
    {
     "data": {
      "text/plain": [
       "{1, 2, 3, 4, 5, 6}"
      ]
     },
     "execution_count": 75,
     "metadata": {},
     "output_type": "execute_result"
    }
   ],
   "source": [
    "set_1.union(set_2)"
   ]
  },
  {
   "cell_type": "code",
   "execution_count": null,
   "metadata": {
    "colab": {
     "base_uri": "https://localhost:8080/"
    },
    "executionInfo": {
     "elapsed": 348,
     "status": "ok",
     "timestamp": 1693740681899,
     "user": {
      "displayName": "Saswata Bhattacharya",
      "userId": "15308225954730866968"
     },
     "user_tz": -330
    },
    "id": "Ib-KY0rLn4fJ",
    "outputId": "14e1d9ed-bbb6-4b78-837c-3f0881202479"
   },
   "outputs": [
    {
     "data": {
      "text/plain": [
       "{2}"
      ]
     },
     "execution_count": 76,
     "metadata": {},
     "output_type": "execute_result"
    }
   ],
   "source": [
    "set_1.intersection(set_2)"
   ]
  },
  {
   "cell_type": "code",
   "execution_count": null,
   "metadata": {
    "colab": {
     "base_uri": "https://localhost:8080/"
    },
    "executionInfo": {
     "elapsed": 349,
     "status": "ok",
     "timestamp": 1693740709369,
     "user": {
      "displayName": "Saswata Bhattacharya",
      "userId": "15308225954730866968"
     },
     "user_tz": -330
    },
    "id": "WJLm47T-oLjL",
    "outputId": "41c4c18f-52aa-47c3-ec45-55c2f40ef5de"
   },
   "outputs": [
    {
     "data": {
      "text/plain": [
       "False"
      ]
     },
     "execution_count": 77,
     "metadata": {},
     "output_type": "execute_result"
    }
   ],
   "source": [
    "set_1.issubset(set_2)"
   ]
  },
  {
   "cell_type": "code",
   "execution_count": null,
   "metadata": {
    "colab": {
     "base_uri": "https://localhost:8080/"
    },
    "executionInfo": {
     "elapsed": 3,
     "status": "ok",
     "timestamp": 1693742610938,
     "user": {
      "displayName": "Saswata Bhattacharya",
      "userId": "15308225954730866968"
     },
     "user_tz": -330
    },
    "id": "w78AFNK_olRG",
    "outputId": "7b87d8a3-4925-4fdd-b1c4-0e93bb754d45"
   },
   "outputs": [
    {
     "data": {
      "text/plain": [
       "array([[[ 2,  3],\n",
       "        [ 5,  9]],\n",
       "\n",
       "       [[11,  9],\n",
       "        [ 7,  8]]])"
      ]
     },
     "execution_count": 92,
     "metadata": {},
     "output_type": "execute_result"
    }
   ],
   "source": [
    "import numpy as np\n",
    "y = np.array([[1, 4, 3], [9, 2, 7]])\n",
    "z = np.array([2, 3, 5, 9, 11, 9, 7, 8])\n",
    "type(z)\n",
    "z.shape\n",
    "z.reshape(2,2,2)"
   ]
  },
  {
   "cell_type": "code",
   "execution_count": null,
   "metadata": {
    "colab": {
     "base_uri": "https://localhost:8080/"
    },
    "executionInfo": {
     "elapsed": 6,
     "status": "ok",
     "timestamp": 1693744644423,
     "user": {
      "displayName": "Saswata Bhattacharya",
      "userId": "15308225954730866968"
     },
     "user_tz": -330
    },
    "id": "1yMjrIf184w0",
    "outputId": "b12311ba-f740-43dd-8af0-952312e61554"
   },
   "outputs": [
    {
     "name": "stdout",
     "output_type": "stream",
     "text": [
      "(3, 3, 3)\n"
     ]
    },
    {
     "data": {
      "text/plain": [
       "14"
      ]
     },
     "execution_count": 133,
     "metadata": {},
     "output_type": "execute_result"
    }
   ],
   "source": [
    "a = np.array([[[1,2,3],[4,5,6],[7,8,9]],[[10,11,12],[13,14,15],[16,17,18]],[[19,20,21],[22,23,24],[25,26,27]]])\n",
    "print(a.shape)\n",
    "a[1,1,1]"
   ]
  },
  {
   "cell_type": "code",
   "execution_count": null,
   "metadata": {
    "colab": {
     "base_uri": "https://localhost:8080/"
    },
    "executionInfo": {
     "elapsed": 4,
     "status": "ok",
     "timestamp": 1693744667167,
     "user": {
      "displayName": "Saswata Bhattacharya",
      "userId": "15308225954730866968"
     },
     "user_tz": -330
    },
    "id": "nm6vaUUmozTU",
    "outputId": "30596b1d-950c-4cf5-82a3-ddd8270632f1"
   },
   "outputs": [
    {
     "name": "stdout",
     "output_type": "stream",
     "text": [
      "depth= 3\n",
      "row = 3\n",
      "col = 3\n"
     ]
    }
   ],
   "source": [
    "depth,row,col = a.shape\n",
    "print('depth=',depth)\n",
    "print('row =', row)\n",
    "print('col =', col)"
   ]
  },
  {
   "cell_type": "code",
   "execution_count": null,
   "metadata": {
    "colab": {
     "base_uri": "https://localhost:8080/"
    },
    "executionInfo": {
     "elapsed": 356,
     "status": "ok",
     "timestamp": 1693744857934,
     "user": {
      "displayName": "Saswata Bhattacharya",
      "userId": "15308225954730866968"
     },
     "user_tz": -330
    },
    "id": "foP7f-cwo1hI",
    "outputId": "e932ca19-6cd5-43d6-93a0-88e3f22b9e47"
   },
   "outputs": [
    {
     "data": {
      "text/plain": [
       "array([ 0,  3,  6,  9, 12, 15, 18])"
      ]
     },
     "execution_count": 142,
     "metadata": {},
     "output_type": "execute_result"
    }
   ],
   "source": [
    "z = np.arange(0, 20, 3)\n",
    "len(z)\n",
    "z"
   ]
  },
  {
   "cell_type": "code",
   "execution_count": null,
   "metadata": {
    "colab": {
     "base_uri": "https://localhost:8080/",
     "height": 435
    },
    "executionInfo": {
     "elapsed": 394,
     "status": "ok",
     "timestamp": 1693745275131,
     "user": {
      "displayName": "Saswata Bhattacharya",
      "userId": "15308225954730866968"
     },
     "user_tz": -330
    },
    "id": "oVWhjx6KFRmq",
    "outputId": "0a9e3107-3d88-440b-dd55-e429efb041aa"
   },
   "outputs": [
    {
     "data": {
      "image/png": "[encoded data removed]",
      "text/plain": [
       "<Figure size 640x480 with 1 Axes>"
      ]
     },
     "metadata": {},
     "output_type": "display_data"
    }
   ],
   "source": [
    "import matplotlib.pyplot as plt\n",
    "N = 8\n",
    "y = np.zeros(N)\n",
    "x1 = np.linspace(0, 10, N, endpoint=True)\n",
    "x2 = np.linspace(0, 10, N, endpoint=False)\n",
    "plt.plot(x1, y, 'o')\n",
    "plt.plot(x2, y + 0.5, 'o')\n",
    "plt.ylim([-0.5, 1])\n",
    "plt.show()"
   ]
  },
  {
   "cell_type": "code",
   "execution_count": null,
   "metadata": {
    "colab": {
     "base_uri": "https://localhost:8080/"
    },
    "executionInfo": {
     "elapsed": 5,
     "status": "ok",
     "timestamp": 1693745735157,
     "user": {
      "displayName": "Saswata Bhattacharya",
      "userId": "15308225954730866968"
     },
     "user_tz": -330
    },
    "id": "eaIUTvo6GLDd",
    "outputId": "9275faa1-401f-4e41-cb49-8f63dee5b2dd"
   },
   "outputs": [
    {
     "data": {
      "text/plain": [
       "array([[ 0.        ,  0.        ],\n",
       "       [ 1.        ,  2.11111111],\n",
       "       [ 2.        ,  4.22222222],\n",
       "       [ 3.        ,  6.33333333],\n",
       "       [ 4.        ,  8.44444444],\n",
       "       [ 5.        , 10.55555556],\n",
       "       [ 6.        , 12.66666667],\n",
       "       [ 7.        , 14.77777778],\n",
       "       [ 8.        , 16.88888889],\n",
       "       [ 9.        , 19.        ]])"
      ]
     },
     "execution_count": 160,
     "metadata": {},
     "output_type": "execute_result"
    }
   ],
   "source": [
    "x = np.linspace((0,0),(9,19),10)\n",
    "x.shape\n",
    "x"
   ]
  },
  {
   "cell_type": "code",
   "execution_count": null,
   "metadata": {
    "colab": {
     "base_uri": "https://localhost:8080/"
    },
    "executionInfo": {
     "elapsed": 603,
     "status": "ok",
     "timestamp": 1693745035984,
     "user": {
      "displayName": "Saswata Bhattacharya",
      "userId": "15308225954730866968"
     },
     "user_tz": -330
    },
    "id": "4PeuOLKtpdzA",
    "outputId": "2c48ae90-2ca5-47b9-8c1c-ec65a4d5f7df"
   },
   "outputs": [
    {
     "data": {
      "text/plain": [
       "(10,)"
      ]
     },
     "execution_count": 147,
     "metadata": {},
     "output_type": "execute_result"
    }
   ],
   "source": [
    "x=np.linspace(1, 10, 10)\n",
    "x.shape"
   ]
  },
  {
   "cell_type": "code",
   "execution_count": null,
   "metadata": {
    "id": "wocfmr3Ipj_I"
   },
   "outputs": [],
   "source": [
    "np.linspace?"
   ]
  },
  {
   "cell_type": "code",
   "execution_count": null,
   "metadata": {
    "id": "gTZCF0pxpt_O"
   },
   "outputs": [],
   "source": [
    "def my_adder(a, b, c):\n",
    "    \"\"\"\n",
    "    function to sum the 3 numbers\n",
    "    Input: 3 numbers a, b, c\n",
    "    Output: the sum of a, b, and c\n",
    "    author:\n",
    "    date:\n",
    "    \"\"\"\n",
    "\n",
    "    # this is the summation\n",
    "    out = a + b + c\n",
    "\n",
    "    return out"
   ]
  },
  {
   "cell_type": "code",
   "execution_count": null,
   "metadata": {
    "colab": {
     "base_uri": "https://localhost:8080/"
    },
    "executionInfo": {
     "elapsed": 5,
     "status": "ok",
     "timestamp": 1693745935744,
     "user": {
      "displayName": "Saswata Bhattacharya",
      "userId": "15308225954730866968"
     },
     "user_tz": -330
    },
    "id": "bvZOzj-BqQB_",
    "outputId": "95628cfb-9612-4df0-9e71-f2823a68812d"
   },
   "outputs": [
    {
     "name": "stdout",
     "output_type": "stream",
     "text": [
      "Help on function my_adder in module __main__:\n",
      "\n",
      "my_adder(a, b, c)\n",
      "\n",
      "The value out within the function is 10.0\n"
     ]
    },
    {
     "data": {
      "text/plain": [
       "10.0"
      ]
     },
     "execution_count": 164,
     "metadata": {},
     "output_type": "execute_result"
    }
   ],
   "source": [
    "help(my_adder)\n",
    "my_adder(2,3,5.0)"
   ]
  },
  {
   "cell_type": "code",
   "execution_count": null,
   "metadata": {
    "colab": {
     "base_uri": "https://localhost:8080/"
    },
    "executionInfo": {
     "elapsed": 343,
     "status": "ok",
     "timestamp": 1693746847729,
     "user": {
      "displayName": "Saswata Bhattacharya",
      "userId": "15308225954730866968"
     },
     "user_tz": -330
    },
    "id": "GWbje_wQqT2g",
    "outputId": "73f17fb2-b44d-463d-981a-bee3b41e9586"
   },
   "outputs": [
    {
     "name": "stdout",
     "output_type": "stream",
     "text": [
      "The value out within the function is 174\n",
      "Sum=174\n"
     ]
    }
   ],
   "source": [
    "\n",
    "\n",
    "def my_adder(a, b, c):\n",
    "    out = a + b + c\n",
    "#    print(f'The value out within the function is {out}')\n",
    "    return out\n",
    "\n",
    "sum_1 = my_adder(4, 88, 82)\n",
    "print(f'Sum={sum_1}')"
   ]
  },
  {
   "cell_type": "code",
   "execution_count": null,
   "metadata": {
    "id": "tVbx8bxGq9Lz"
   },
   "outputs": [],
   "source": [
    "def my_test(a, b):\n",
    "    x = a + b\n",
    "    y = x * b\n",
    "    z = a + b\n",
    "\n",
    "    m = 2\n",
    "\n",
    "    print(f'Within function: x={x}, y={y}, z={z}')\n",
    "    return x, y"
   ]
  },
  {
   "cell_type": "code",
   "execution_count": null,
   "metadata": {
    "id": "H1JcO3UgrKvh"
   },
   "outputs": [],
   "source": [
    "a = 2\n",
    "b = 3\n",
    "z = 1\n",
    "y, x = my_test(b, a)\n",
    "\n",
    "print(f'Outside function: x={x}, y={y}, z={z}')"
   ]
  },
  {
   "cell_type": "code",
   "execution_count": null,
   "metadata": {
    "id": "X_jxYqbUrPzZ"
   },
   "outputs": [],
   "source": [
    "m"
   ]
  },
  {
   "cell_type": "code",
   "execution_count": null,
   "metadata": {
    "id": "wukPcucursDa"
   },
   "outputs": [],
   "source": [
    "n = 42\n",
    "\n",
    "def func():\n",
    "    print(f'Within function: n is {n}')\n",
    "    n = 3\n",
    "    print(f'Within function: change n to {n}')\n",
    "\n",
    "func()\n",
    "print(f'Outside function: Value of n is {n}')"
   ]
  },
  {
   "cell_type": "code",
   "execution_count": null,
   "metadata": {
    "colab": {
     "base_uri": "https://localhost:8080/"
    },
    "executionInfo": {
     "elapsed": 370,
     "status": "ok",
     "timestamp": 1694265743485,
     "user": {
      "displayName": "Saswata Bhattacharya",
      "userId": "15308225954730866968"
     },
     "user_tz": -330
    },
    "id": "0CVC6OYVr2Ar",
    "outputId": "0fc5ea47-49ee-419e-808c-a06a7c4cb66f"
   },
   "outputs": [
    {
     "name": "stdout",
     "output_type": "stream",
     "text": [
      "Within function: n is 5\n",
      "Within function: change n to 3\n",
      "Outside function: Value of n is 3\n"
     ]
    }
   ],
   "source": [
    "n = 42\n",
    "\n",
    "def func():\n",
    "    global n\n",
    "    n = 5\n",
    "    print(f'Within function: n is {n}')\n",
    "    n = 3\n",
    "    print(f'Within function: change n to {n}')\n",
    "\n",
    "func()\n",
    "print(f'Outside function: Value of n is {n}')"
   ]
  },
  {
   "cell_type": "code",
   "execution_count": null,
   "metadata": {
    "id": "tfMA7dw4r-r_"
   },
   "outputs": [],
   "source": [
    "import numpy as np\n",
    "\n",
    "def my_dist_xyz(x, y, z):\n",
    "    \"\"\"\n",
    "    x, y, z are 2D coordinates contained in a tuple\n",
    "    output:\n",
    "    d - list, where\n",
    "        d[0] is the distance between x and y\n",
    "        d[1] is the distance between x and z\n",
    "        d[2] is the distance between y and z\n",
    "    \"\"\"\n",
    "\n",
    "    def my_dist(x, y):\n",
    "        \"\"\"\n",
    "        subfunction for my_dist_xyz\n",
    "        Output is the distance between x and y,\n",
    "        computed using the distance formula\n",
    "        \"\"\"\n",
    "        out = np.sqrt((x[0]-y[0])**2+(x[1]-y[1])**2)\n",
    "        return out\n",
    "    help(my_dist)\n",
    "    d0 = my_dist(x, y)\n",
    "    d1 = my_dist(x, z)\n",
    "    d2 = my_dist(y, z)\n",
    "\n",
    "    return [d0, d1, d2]"
   ]
  },
  {
   "cell_type": "code",
   "execution_count": null,
   "metadata": {
    "colab": {
     "base_uri": "https://localhost:8080/"
    },
    "executionInfo": {
     "elapsed": 4,
     "status": "ok",
     "timestamp": 1694266384533,
     "user": {
      "displayName": "Saswata Bhattacharya",
      "userId": "15308225954730866968"
     },
     "user_tz": -330
    },
    "id": "xd-JXnursQBn",
    "outputId": "c8482049-5a8a-41d0-829f-07eb70322438"
   },
   "outputs": [
    {
     "name": "stdout",
     "output_type": "stream",
     "text": [
      "[2.0, 1.4142135623730951, 1.4142135623730951]\n"
     ]
    }
   ],
   "source": [
    "d = my_dist_xyz_complicated((2, 2), (2, 4), (1, 3))\n",
    "print(d)\n",
    "#d = my_dist((0, 0), (0, 1)) # my_dist is a nested function - cannot be called"
   ]
  },
  {
   "cell_type": "code",
   "execution_count": null,
   "metadata": {
    "id": "aZj_DWiHsijc"
   },
   "outputs": [],
   "source": [
    "\n",
    "import numpy as np\n",
    "\n",
    "def my_dist_xyz_complicated(x, y, z):\n",
    "    \"\"\"\n",
    "    x, y, z are 2D coordinates contained in a tuple\n",
    "    output:\n",
    "    d - list, where\n",
    "        d[0] is the distance between x and y\n",
    "        d[1] is the distance between x and z\n",
    "        d[2] is the distance between y and z\n",
    "    \"\"\"\n",
    "\n",
    "    d0 = np.sqrt((x[0]-y[0])**2+(x[1]-y[1])**2)\n",
    "    d1 = np.sqrt((x[0]-z[0])**2+(x[1]-z[1])**2)\n",
    "    d2 = np.sqrt((y[0]-z[0])**2+(y[1]-z[1])**2)\n",
    "\n",
    "    return [d0, d1, d2]"
   ]
  },
  {
   "cell_type": "code",
   "execution_count": null,
   "metadata": {
    "colab": {
     "base_uri": "https://localhost:8080/"
    },
    "executionInfo": {
     "elapsed": 357,
     "status": "ok",
     "timestamp": 1694268577769,
     "user": {
      "displayName": "Saswata Bhattacharya",
      "userId": "15308225954730866968"
     },
     "user_tz": -330
    },
    "id": "aNH8vhAHQkbi",
    "outputId": "5a8e00be-806f-40a4-938a-0905c2d91526"
   },
   "outputs": [
    {
     "data": {
      "text/plain": [
       "3.2e+20"
      ]
     },
     "execution_count": 82,
     "metadata": {},
     "output_type": "execute_result"
    }
   ],
   "source": [
    "32000%(10*10*10)\n",
    "32000/(10*10*10)\n",
    "320000000000000000000/(10**19)\n",
    "32e19"
   ]
  },
  {
   "cell_type": "code",
   "execution_count": null,
   "metadata": {
    "id": "lkfHe8cqLWhj"
   },
   "outputs": [],
   "source": [
    "def factorial_new(n):\n",
    "    \"\"\"\n",
    "    Input a number n.\n",
    "    Check whether n is a positive integer (n > 0 type(n)==int)\n",
    "    Calculate factorial of n\n",
    "\n",
    "    \"\"\"\n",
    "    if not isinstance(n, int):\n",
    "        raise TypeError(\"Sorry. n must be an integer.\")\n",
    "    if n < 0:\n",
    "        raise ValueError(\"Sorry. n must be zero or positive.\")\n",
    "    b = 1\n",
    "    while(n>0):\n",
    "      print(\"The value of n is\",n)\n",
    "      print(f\"{b}x{n}=\",{b})\n",
    "      b = b * n\n",
    "      n = n-1\n",
    "    return(b)"
   ]
  },
  {
   "cell_type": "markdown",
   "metadata": {
    "id": "r7SVWCpfLV59"
   },
   "source": []
  },
  {
   "cell_type": "code",
   "execution_count": null,
   "metadata": {
    "id": "u828DM2EszIi"
   },
   "outputs": [],
   "source": [
    "def factorial(n):\n",
    "    \"\"\"\n",
    "    Input a number n.\n",
    "    Check whether n is a positive integer (n > 0 type(n)==int)\n",
    "    Calculate factorial of n\n",
    "\n",
    "    \"\"\"\n",
    "    if not isinstance(n, int):\n",
    "        raise TypeError(\"Sorry. n must be an integer.\")\n",
    "    if n < 0:\n",
    "        raise ValueError(\"Sorry. n must be zero or positive.\")\n",
    "        # Nested function to calculate the factorial of number\n",
    "    def inner_factorial(n):\n",
    "        if n <= 1:\n",
    "            return 1\n",
    "        return n * inner_factorial(n - 1)\n",
    "    return inner_factorial(n)\n"
   ]
  },
  {
   "cell_type": "code",
   "execution_count": null,
   "metadata": {
    "colab": {
     "base_uri": "https://localhost:8080/"
    },
    "executionInfo": {
     "elapsed": 3,
     "status": "ok",
     "timestamp": 1694269386272,
     "user": {
      "displayName": "Saswata Bhattacharya",
      "userId": "15308225954730866968"
     },
     "user_tz": -330
    },
    "id": "yL589K-JnF8f",
    "outputId": "777167d2-90f9-467b-b442-ea86671328ed"
   },
   "outputs": [
    {
     "name": "stdout",
     "output_type": "stream",
     "text": [
      "93326215443944152681699238856266700490715968264381621468592963895217599993229915608941463976156518286253697920827223758251185210916864000000000000000000000000\n",
      "x=9.333e+157\n"
     ]
    }
   ],
   "source": [
    "x=factorial(100)\n",
    "print(x)\n",
    "print(f'x={x:.3e}')"
   ]
  },
  {
   "cell_type": "code",
   "execution_count": null,
   "metadata": {
    "colab": {
     "base_uri": "https://localhost:8080/",
     "height": 309
    },
    "executionInfo": {
     "elapsed": 344,
     "status": "error",
     "timestamp": 1694266597978,
     "user": {
      "displayName": "Saswata Bhattacharya",
      "userId": "15308225954730866968"
     },
     "user_tz": -330
    },
    "id": "n6stG-XYnF8g",
    "outputId": "42861e75-882f-425c-e8b3-24862b36d2b7"
   },
   "outputs": [
    {
     "ename": "TypeError",
     "evalue": "ignored",
     "output_type": "error",
     "traceback": [
      "\u001b[0;31m---------------------------------------------------------------------------\u001b[0m",
      "\u001b[0;31mTypeError\u001b[0m                                 Traceback (most recent call last)",
      "\u001b[0;32m<ipython-input-22-8df02afd682a>\u001b[0m in \u001b[0;36m<cell line: 1>\u001b[0;34m()\u001b[0m\n\u001b[0;32m----> 1\u001b[0;31m \u001b[0mfactorial\u001b[0m\u001b[0;34m(\u001b[0m\u001b[0;36m2.0\u001b[0m\u001b[0;34m)\u001b[0m\u001b[0;34m\u001b[0m\u001b[0;34m\u001b[0m\u001b[0m\n\u001b[0m",
      "\u001b[0;32m<ipython-input-20-d9edac0dcd33>\u001b[0m in \u001b[0;36mfactorial\u001b[0;34m(n)\u001b[0m\n\u001b[1;32m      7\u001b[0m     \"\"\"\n\u001b[1;32m      8\u001b[0m     \u001b[0;32mif\u001b[0m \u001b[0;32mnot\u001b[0m \u001b[0misinstance\u001b[0m\u001b[0;34m(\u001b[0m\u001b[0mn\u001b[0m\u001b[0;34m,\u001b[0m \u001b[0mint\u001b[0m\u001b[0;34m)\u001b[0m\u001b[0;34m:\u001b[0m\u001b[0;34m\u001b[0m\u001b[0;34m\u001b[0m\u001b[0m\n\u001b[0;32m----> 9\u001b[0;31m         \u001b[0;32mraise\u001b[0m \u001b[0mTypeError\u001b[0m\u001b[0;34m(\u001b[0m\u001b[0;34m\"Sorry. n must be an integer.\"\u001b[0m\u001b[0;34m)\u001b[0m\u001b[0;34m\u001b[0m\u001b[0;34m\u001b[0m\u001b[0m\n\u001b[0m\u001b[1;32m     10\u001b[0m     \u001b[0;32mif\u001b[0m \u001b[0mn\u001b[0m \u001b[0;34m<\u001b[0m \u001b[0;36m0\u001b[0m\u001b[0;34m:\u001b[0m\u001b[0;34m\u001b[0m\u001b[0;34m\u001b[0m\u001b[0m\n\u001b[1;32m     11\u001b[0m         \u001b[0;32mraise\u001b[0m \u001b[0mValueError\u001b[0m\u001b[0;34m(\u001b[0m\u001b[0;34m\"Sorry. n must be zero or positive.\"\u001b[0m\u001b[0;34m)\u001b[0m\u001b[0;34m\u001b[0m\u001b[0;34m\u001b[0m\u001b[0m\n",
      "\u001b[0;31mTypeError\u001b[0m: Sorry. n must be an integer."
     ]
    }
   ],
   "source": [
    "factorial(2.0)"
   ]
  },
  {
   "cell_type": "code",
   "execution_count": null,
   "metadata": {
    "colab": {
     "base_uri": "https://localhost:8080/"
    },
    "executionInfo": {
     "elapsed": 6,
     "status": "ok",
     "timestamp": 1694266772104,
     "user": {
      "displayName": "Saswata Bhattacharya",
      "userId": "15308225954730866968"
     },
     "user_tz": -330
    },
    "id": "Giiqrgg6nF8g",
    "outputId": "f7b75c34-4631-45ee-b2bd-0b4fcf80054e"
   },
   "outputs": [
    {
     "data": {
      "text/plain": [
       "963506170965083130752749020132679046843254405809438907781336703820394438604127249454109623889701106950379117503604474886157397916518990877555319520509209121458749968664439703801179380200891994781974594848464842120162691929194155219411690443497622808832224065074343657574742171109968309745891530122298521077456001852818541396538927035116654446437768269601711683438092698006116097838183844080184051899808835253707212762418877084709092558381454051293237657195015723272332788169418090603642843458715462942384291389887746069212650686145847361000757816260570324238415687242504201830656733002192809197351535615773025123920029644336075605216301185188529589726197044210424193794427914327269606126426253959019559278654312350578256542533918344828659368032459857747885757358803195190478933533720491143016398832205487951426258598476178060838549453135920358916002805158662189662206358396888501996830781292868044495825726803558164111654162823368603032864306908312077038246460400395339746890403923096116866791566513826318681668124888581328069967832692444117638658825398455875847130526421545261500075514910480924570663436596186353500172921151605797504570529159690443867760825864155108874087103521863252367289726009155036795892702445989802704316519329897128358282555192678128275816550944215957639958742205637716519906701357277278105424216667643989428440752488282204776606244853276650325094204470435372119524848250206349779056675273220215021231851255038960148989739946666877223398705050646965788795982924946695469052583129725629872149430818561099597297388140290627406805387588456449417655907400213236418616711691343828496810024682826781561821399869648185314314081920173557289620960460374589138029815784721662164757652876662401203796373083875171378720532968709694326440135226598929839359130810346860677756196192852582906041989830857152996711642152583572966411519751748129665030278747952625834384532265199894486855578644770932934721935013469505499951629467604127830436187618357280416146273262864638018543673792422585158018124274579108792130358748274247185330833071142528025006089234690481362572483207225917336528590351424426534029614145665086538119695230240536274084041727075561705990262712729114804979863573765432196647092224000000000000000000000000000000000000000000000000000000000000000000000000000000000000000000000000000000000000000000000000000000000000000000000000000000000000000000000000000000000000000000000000000000000000000000000000000000000000000000000"
      ]
     },
     "execution_count": 41,
     "metadata": {},
     "output_type": "execute_result"
    }
   ],
   "source": [
    "factorial(958)"
   ]
  },
  {
   "cell_type": "code",
   "execution_count": null,
   "metadata": {
    "id": "qGeYJ99lnF8g"
   },
   "outputs": [],
   "source": [
    "def manipulate_strings(a,b):\n",
    "\n",
    "    def inner(s):\n",
    "        s = s.lower()\n",
    "        return s[::-1]\n",
    "\n",
    "    return inner(a), inner(b)"
   ]
  },
  {
   "cell_type": "code",
   "execution_count": null,
   "metadata": {
    "id": "Y1rl1I3CnF8h"
   },
   "outputs": [],
   "source": [
    "a = \"HELLO\"\n",
    "b = \"WORLD\""
   ]
  },
  {
   "cell_type": "code",
   "execution_count": null,
   "metadata": {
    "id": "o9fILOLwnF8i"
   },
   "outputs": [],
   "source": [
    "manipulate_strings(\"HELLO\",\"WORLD\")"
   ]
  },
  {
   "cell_type": "code",
   "execution_count": null,
   "metadata": {
    "colab": {
     "base_uri": "https://localhost:8080/"
    },
    "executionInfo": {
     "elapsed": 4,
     "status": "ok",
     "timestamp": 1694270268673,
     "user": {
      "displayName": "Saswata Bhattacharya",
      "userId": "15308225954730866968"
     },
     "user_tz": -330
    },
    "id": "ZN-tAK4hnF8i",
    "outputId": "8d3ebbf1-7ee8-4e33-e776-51867d9ace62"
   },
   "outputs": [
    {
     "name": "stdout",
     "output_type": "stream",
     "text": [
      "[8, 7, 6, 5, 4, 3, 2, 1]\n",
      "[1, 2, 3, 4, 5, 6, 7, 8]\n",
      "[3, 2, 1]\n",
      "Length of a = 8\n"
     ]
    }
   ],
   "source": [
    "# List slicing\n",
    "# List[start:stop:step]\n",
    "a = [1,2,3,4,5,6,7,8]\n",
    "b = a[::-1]\n",
    "print(b)\n",
    "print(a[::])\n",
    "\n",
    "print(a[-len(a)+2::-1])\n",
    "print(f'Length of a = {len(a)}')"
   ]
  },
  {
   "cell_type": "code",
   "execution_count": null,
   "metadata": {
    "colab": {
     "base_uri": "https://localhost:8080/"
    },
    "executionInfo": {
     "elapsed": 2,
     "status": "ok",
     "timestamp": 1694270594039,
     "user": {
      "displayName": "Saswata Bhattacharya",
      "userId": "15308225954730866968"
     },
     "user_tz": -330
    },
    "id": "4aM9xGAfY9MQ",
    "outputId": "9e9892f7-4559-4049-c4eb-d8a77d739ae8"
   },
   "outputs": [
    {
     "name": "stdout",
     "output_type": "stream",
     "text": [
      "0\n",
      "3\n",
      "6\n",
      "9\n"
     ]
    }
   ],
   "source": [
    "for i in range(11):\n",
    "  if i%3==0:\n",
    "    print(i)"
   ]
  },
  {
   "cell_type": "code",
   "execution_count": null,
   "metadata": {
    "colab": {
     "base_uri": "https://localhost:8080/"
    },
    "executionInfo": {
     "elapsed": 4,
     "status": "ok",
     "timestamp": 1694270626119,
     "user": {
      "displayName": "Saswata Bhattacharya",
      "userId": "15308225954730866968"
     },
     "user_tz": -330
    },
    "id": "RxfTMY1knF8j",
    "outputId": "d4113268-2696-4bd6-cb46-efa19f32ea18"
   },
   "outputs": [
    {
     "name": "stdout",
     "output_type": "stream",
     "text": [
      "[0, 2, 4, 6, 8, 10]\n"
     ]
    }
   ],
   "source": [
    "#List comprehension\n",
    "l = [i for i in range(11) if i % 2 == 0]\n",
    "print(l)"
   ]
  },
  {
   "cell_type": "code",
   "execution_count": null,
   "metadata": {
    "colab": {
     "base_uri": "https://localhost:8080/"
    },
    "executionInfo": {
     "elapsed": 405,
     "status": "ok",
     "timestamp": 1694270656178,
     "user": {
      "displayName": "Saswata Bhattacharya",
      "userId": "15308225954730866968"
     },
     "user_tz": -330
    },
    "id": "-78DBl0gnF8j",
    "outputId": "91999bda-cfcf-4310-cbe4-6fbc47a50bc9"
   },
   "outputs": [
    {
     "name": "stdout",
     "output_type": "stream",
     "text": [
      "[[0 2 4]\n",
      " [0 2 4]\n",
      " [0 2 4]]\n"
     ]
    }
   ],
   "source": [
    "m = np.array([[j*2 for j in range(3)] for i in range(3)])\n",
    "print(m)"
   ]
  },
  {
   "cell_type": "code",
   "execution_count": null,
   "metadata": {
    "colab": {
     "base_uri": "https://localhost:8080/"
    },
    "executionInfo": {
     "elapsed": 4,
     "status": "ok",
     "timestamp": 1694270702408,
     "user": {
      "displayName": "Saswata Bhattacharya",
      "userId": "15308225954730866968"
     },
     "user_tz": -330
    },
    "id": "1VzKzjounF8j",
    "outputId": "3496572f-e1e5-466e-e933-907097cb1f3e"
   },
   "outputs": [
    {
     "name": "stdout",
     "output_type": "stream",
     "text": [
      "['H', 'e', 'l', 'l', 'o', ',', ' ', 'W', 'o', 'r', 'l', 'd', '!']\n"
     ]
    }
   ],
   "source": [
    "L= [char for char in 'Hello, World!']\n",
    "print(L)"
   ]
  },
  {
   "cell_type": "code",
   "execution_count": null,
   "metadata": {
    "colab": {
     "base_uri": "https://localhost:8080/"
    },
    "executionInfo": {
     "elapsed": 4,
     "status": "ok",
     "timestamp": 1694270741219,
     "user": {
      "displayName": "Saswata Bhattacharya",
      "userId": "15308225954730866968"
     },
     "user_tz": -330
    },
    "id": "GoumbSDEnF8k",
    "outputId": "f34b977c-1b59-46bb-9757-8377135362f8"
   },
   "outputs": [
    {
     "name": "stdout",
     "output_type": "stream",
     "text": [
      "[[1 2 3]\n",
      " [4 5 6]\n",
      " [7 8 9]]\n"
     ]
    }
   ],
   "source": [
    "M = np.array([[1,2,3],\n",
    "     [4,5,6],\n",
    "     [7,8,9]])\n",
    "print(M)"
   ]
  },
  {
   "cell_type": "code",
   "execution_count": null,
   "metadata": {
    "colab": {
     "base_uri": "https://localhost:8080/"
    },
    "executionInfo": {
     "elapsed": 5,
     "status": "ok",
     "timestamp": 1694270951145,
     "user": {
      "displayName": "Saswata Bhattacharya",
      "userId": "15308225954730866968"
     },
     "user_tz": -330
    },
    "id": "4HeI6vgQnF8k",
    "outputId": "f668de67-e183-4d67-bf4f-f80b18e7c4ef"
   },
   "outputs": [
    {
     "name": "stdout",
     "output_type": "stream",
     "text": [
      "(3, 3)\n",
      "[[0 3 6]\n",
      " [1 4 7]\n",
      " [2 5 8]]\n"
     ]
    }
   ],
   "source": [
    "Mtrans = np.array([[0,1,2], [3,4,5], [6,7,8]])\n",
    "#for row in range(3):\n",
    "#    for col in range(3):\n",
    "#        Mtrans[col][row] = M[row][col]\n",
    "print(Mtrans.shape)\n",
    "print(Mtrans.T)\n",
    "\n"
   ]
  },
  {
   "cell_type": "code",
   "execution_count": null,
   "metadata": {
    "colab": {
     "base_uri": "https://localhost:8080/"
    },
    "executionInfo": {
     "elapsed": 4,
     "status": "ok",
     "timestamp": 1694270957832,
     "user": {
      "displayName": "Saswata Bhattacharya",
      "userId": "15308225954730866968"
     },
     "user_tz": -330
    },
    "id": "DNw8zYJGnF8k",
    "outputId": "a4b2c734-a08e-479b-cd9f-ce392487db47"
   },
   "outputs": [
    {
     "name": "stdout",
     "output_type": "stream",
     "text": [
      "[[1, 4, 7], [2, 5, 8], [3, 6, 9]]\n"
     ]
    },
    {
     "data": {
      "text/plain": [
       "[[1, 4, 7], [2, 5, 8], [3, 6, 9]]"
      ]
     },
     "execution_count": 129,
     "metadata": {},
     "output_type": "execute_result"
    }
   ],
   "source": [
    "Mtrans = []\n",
    "for i in range(3):\n",
    "    Mtrans.append([row[i] for row in M])\n",
    "print(Mtrans)\n",
    "Mtrans\n"
   ]
  },
  {
   "cell_type": "code",
   "execution_count": null,
   "metadata": {
    "id": "7HUayDs7nF8l"
   },
   "outputs": [],
   "source": [
    "Mtrans = [[row[i] for row in M] for i in range(3)]\n",
    "print(Mtrans)"
   ]
  },
  {
   "cell_type": "code",
   "execution_count": null,
   "metadata": {
    "id": "WNF2eg1YnF8l"
   },
   "outputs": [],
   "source": [
    "x = range(8)\n"
   ]
  },
  {
   "cell_type": "code",
   "execution_count": null,
   "metadata": {
    "colab": {
     "base_uri": "https://localhost:8080/"
    },
    "executionInfo": {
     "elapsed": 403,
     "status": "ok",
     "timestamp": 1694271839216,
     "user": {
      "displayName": "Saswata Bhattacharya",
      "userId": "15308225954730866968"
     },
     "user_tz": -330
    },
    "id": "o1vuKSE6nF8m",
    "outputId": "1ce46829-a8ac-40b2-9716-944a64a57c62"
   },
   "outputs": [
    {
     "name": "stdout",
     "output_type": "stream",
     "text": [
      "[ 0  1  2  3  4  5  6  7  8  9 10 11]\n",
      "(12,)\n",
      "[[ 0  1  2  3  4  5  6  7  8  9 10 11]]\n",
      "[[ 0  1  2  3  4  5  6  7  8  9 10 11]]\n",
      "138103817587568\n",
      "138103817587568\n",
      "[[ 0  1  2  3]\n",
      " [ 4  5  6  7]\n",
      " [ 8  9 10 11]]\n",
      "[[ 0  1  2  3]\n",
      " [ 4  5  6  7]\n",
      " [ 8  9 10 11]]\n"
     ]
    }
   ],
   "source": [
    "import numpy as np\n",
    "a = np.arange(12)\n",
    "print(a)\n",
    "print(a.shape)\n",
    "a.shape=1,12\n",
    "print(a)\n",
    "b = a\n",
    "c = np.copy(a)\n",
    "print(b)\n",
    "print(c)\n",
    "print(id(b))\n",
    "print(id(a))\n",
    "print(id(c))\n",
    "c.shape = 4,3\n",
    "print(c)\n",
    "b.shape=3,4\n",
    "print(b)\n",
    "\n",
    "print(a)\n",
    "#print(a.shape)"
   ]
  },
  {
   "cell_type": "code",
   "execution_count": null,
   "metadata": {
    "id": "8YjqFJULnF8m"
   },
   "outputs": [],
   "source": [
    "b = a"
   ]
  },
  {
   "cell_type": "code",
   "execution_count": null,
   "metadata": {
    "id": "A_VAKLwjnF8n"
   },
   "outputs": [],
   "source": [
    "b = 2 * b"
   ]
  },
  {
   "cell_type": "code",
   "execution_count": null,
   "metadata": {
    "id": "_ZrMXwhBnF8n"
   },
   "outputs": [],
   "source": [
    "id(b)"
   ]
  },
  {
   "cell_type": "code",
   "execution_count": null,
   "metadata": {
    "id": "DPZcWsyWnF8n"
   },
   "outputs": [],
   "source": [
    "id(a)"
   ]
  },
  {
   "cell_type": "code",
   "execution_count": null,
   "metadata": {
    "id": "RTlnLO-UnF8o"
   },
   "outputs": [],
   "source": [
    "def my_sinh(s):\n",
    "  \"\"\"\n",
    "  my_sinh(s) calculates (exp(s)-exp(-s))/2\n",
    "  s is the input\n",
    "  \"\"\"\n",
    "  from math import exp\n",
    "  y = exp(s)-exp(-s)\n",
    "  y = 0.5 * y\n",
    "  return y\n"
   ]
  },
  {
   "cell_type": "code",
   "execution_count": null,
   "metadata": {
    "colab": {
     "base_uri": "https://localhost:8080/"
    },
    "executionInfo": {
     "elapsed": 349,
     "status": "ok",
     "timestamp": 1693747547898,
     "user": {
      "displayName": "Saswata Bhattacharya",
      "userId": "15308225954730866968"
     },
     "user_tz": -330
    },
    "id": "HbpX5SZmNxLL",
    "outputId": "bdf2accc-e013-4264-9252-8cfa54297b72"
   },
   "outputs": [
    {
     "data": {
      "text/plain": [
       "1.1752011936438014"
      ]
     },
     "execution_count": 195,
     "metadata": {},
     "output_type": "execute_result"
    }
   ],
   "source": [
    "my_sinh(1)"
   ]
  },
  {
   "cell_type": "code",
   "execution_count": null,
   "metadata": {
    "id": "_IOX2li5N6jF"
   },
   "outputs": [],
   "source": []
  }
 ],
 "metadata": {
  "colab": {
   "provenance": []
  },
  "kernelspec": {
   "display_name": "Python 3 (ipykernel)",
   "language": "python",
   "name": "python3"
  },
  "language_info": {
   "codemirror_mode": {
    "name": "ipython",
    "version": 3
   },
   "file_extension": ".py",
   "mimetype": "text/x-python",
   "name": "python",
   "nbconvert_exporter": "python",
   "pygments_lexer": "ipython3",
   "version": "3.11.4"
  }
 },
 "nbformat": 4,
 "nbformat_minor": 4
}
