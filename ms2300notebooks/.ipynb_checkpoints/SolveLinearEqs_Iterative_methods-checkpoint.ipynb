{
 "cells": [
  {
   "cell_type": "markdown",
   "id": "ac96cf57",
   "metadata": {},
   "source": [
    "#### Jacobi iterations\n",
    "\n",
    "$$\n",
    "x_i^{k+1} = \\left(-\\sum_{j=1, j\\neq i}^n a_{ij}x_j^k + b_i\\right)/a_{ii}\n",
    "$$\n",
    "\n",
    "\n",
    "How do I define $x_i^{k+1} - x_i^k$?\n",
    "\n",
    "Let $e_i = x_i^{k+1} - x_i^k$\n",
    "\n",
    "1. Measure of convergence is max($e_i$) < Tolerance (maximum error between old and new values of x will be compared with a user-defined Tolerance) $L_{\\infty}$ norm\n",
    "\n",
    "2. $L_2$ norm: $\\sqrt{\\sum_{i=1}^N e_i^2}$"
   ]
  },
  {
   "cell_type": "code",
   "execution_count": 20,
   "id": "805e89fd",
   "metadata": {},
   "outputs": [],
   "source": [
    "import numpy as np"
   ]
  },
  {
   "cell_type": "markdown",
   "id": "a6e45a35",
   "metadata": {},
   "source": [
    "$$\n",
    "10 x_1 - x_2 + 2 x_3 = 6 \\\\\n",
    "-x_1 + 11 x_2 -x_3 + 3 x_4 = 25 \\\\\n",
    "2 x_1 - x_2 + 10x_3 -x_4 = -11 \\\\\n",
    "-3x_2 -x_3 +8x_4 = 15\n",
    "$$"
   ]
  },
  {
   "cell_type": "code",
   "execution_count": 21,
   "id": "fbdd6bb9",
   "metadata": {},
   "outputs": [],
   "source": [
    "A = np.array([[10,-1,2,0],[-1,11,-1,3],[2,-1,10,-1],[0,-3,-1,8]])\n",
    "b = np.array([[6,25,-11,15]])\n",
    "b = np.transpose(b)"
   ]
  },
  {
   "cell_type": "code",
   "execution_count": 22,
   "id": "9b4c62d2",
   "metadata": {},
   "outputs": [
    {
     "data": {
      "text/plain": [
       "array([[10, -1,  2,  0],\n",
       "       [-1, 11, -1,  3],\n",
       "       [ 2, -1, 10, -1],\n",
       "       [ 0, -3, -1,  8]])"
      ]
     },
     "execution_count": 22,
     "metadata": {},
     "output_type": "execute_result"
    }
   ],
   "source": [
    "A"
   ]
  },
  {
   "cell_type": "code",
   "execution_count": 23,
   "id": "05003751",
   "metadata": {},
   "outputs": [
    {
     "data": {
      "text/plain": [
       "array([[  6],\n",
       "       [ 25],\n",
       "       [-11],\n",
       "       [ 15]])"
      ]
     },
     "execution_count": 23,
     "metadata": {},
     "output_type": "execute_result"
    }
   ],
   "source": [
    "b"
   ]
  },
  {
   "cell_type": "code",
   "execution_count": 24,
   "id": "0e61e1f9",
   "metadata": {},
   "outputs": [
    {
     "data": {
      "text/plain": [
       "4"
      ]
     },
     "execution_count": 24,
     "metadata": {},
     "output_type": "execute_result"
    }
   ],
   "source": [
    "n = np.size(b)\n",
    "n"
   ]
  },
  {
   "cell_type": "code",
   "execution_count": 25,
   "id": "b03cf8ff",
   "metadata": {},
   "outputs": [
    {
     "data": {
      "text/plain": [
       "array([10, 11, 10,  8])"
      ]
     },
     "execution_count": 25,
     "metadata": {},
     "output_type": "execute_result"
    }
   ],
   "source": [
    "np.diagonal(A)"
   ]
  },
  {
   "cell_type": "code",
   "execution_count": 26,
   "id": "eb74cff3",
   "metadata": {},
   "outputs": [],
   "source": [
    "np.reshape?"
   ]
  },
  {
   "cell_type": "code",
   "execution_count": 27,
   "id": "c176d7a0",
   "metadata": {},
   "outputs": [
    {
     "data": {
      "text/plain": [
       "array([[10],\n",
       "       [11],\n",
       "       [10],\n",
       "       [ 8]])"
      ]
     },
     "execution_count": 27,
     "metadata": {},
     "output_type": "execute_result"
    }
   ],
   "source": [
    "np.reshape(np.diagonal(A), [n,1])"
   ]
  },
  {
   "cell_type": "code",
   "execution_count": 28,
   "id": "71049566",
   "metadata": {},
   "outputs": [
    {
     "data": {
      "text/plain": [
       "array([[10,  0,  0,  0],\n",
       "       [ 0, 11,  0,  0],\n",
       "       [ 0,  0, 10,  0],\n",
       "       [ 0,  0,  0,  8]])"
      ]
     },
     "execution_count": 28,
     "metadata": {},
     "output_type": "execute_result"
    }
   ],
   "source": [
    "np.diag(np.diagonal(A))"
   ]
  },
  {
   "cell_type": "code",
   "execution_count": 29,
   "id": "380acd07",
   "metadata": {},
   "outputs": [
    {
     "data": {
      "text/plain": [
       "array([[ 0, -1,  2,  0],\n",
       "       [-1,  0, -1,  3],\n",
       "       [ 2, -1,  0, -1],\n",
       "       [ 0, -3, -1,  0]])"
      ]
     },
     "execution_count": 29,
     "metadata": {},
     "output_type": "execute_result"
    }
   ],
   "source": [
    "LU = A - np.diag(np.diagonal(A))\n",
    "LU"
   ]
  },
  {
   "cell_type": "code",
   "execution_count": 30,
   "id": "ce7e35dc",
   "metadata": {},
   "outputs": [
    {
     "data": {
      "text/plain": [
       "array([[0],\n",
       "       [0],\n",
       "       [0],\n",
       "       [0]])"
      ]
     },
     "execution_count": 30,
     "metadata": {},
     "output_type": "execute_result"
    }
   ],
   "source": [
    "x_o = np.zeros_like(b)\n",
    "x_o"
   ]
  },
  {
   "cell_type": "code",
   "execution_count": 31,
   "id": "72a22c53",
   "metadata": {},
   "outputs": [
    {
     "data": {
      "text/plain": [
       "array([[  6],\n",
       "       [ 25],\n",
       "       [-11],\n",
       "       [ 15]])"
      ]
     },
     "execution_count": 31,
     "metadata": {},
     "output_type": "execute_result"
    }
   ],
   "source": [
    "(b - np.dot(LU,x_o))"
   ]
  },
  {
   "cell_type": "code",
   "execution_count": 32,
   "id": "fa4e8aa6",
   "metadata": {},
   "outputs": [],
   "source": [
    "x = np.zeros_like(b)"
   ]
  },
  {
   "cell_type": "code",
   "execution_count": 33,
   "id": "c8ee847b",
   "metadata": {},
   "outputs": [],
   "source": [
    "x[:] = (b - np.dot(LU,x_o))"
   ]
  },
  {
   "cell_type": "code",
   "execution_count": 34,
   "id": "d74d7672",
   "metadata": {},
   "outputs": [
    {
     "data": {
      "text/plain": [
       "array([[  6],\n",
       "       [ 25],\n",
       "       [-11],\n",
       "       [ 15]])"
      ]
     },
     "execution_count": 34,
     "metadata": {},
     "output_type": "execute_result"
    }
   ],
   "source": [
    "x"
   ]
  },
  {
   "cell_type": "code",
   "execution_count": 86,
   "id": "90236bbb",
   "metadata": {},
   "outputs": [
    {
     "data": {
      "text/plain": [
       "array([[3, 3, 3, 3]])"
      ]
     },
     "execution_count": 86,
     "metadata": {},
     "output_type": "execute_result"
    }
   ],
   "source": [
    "z = np.array([[3, 3, 3, 3]])\n",
    "z"
   ]
  },
  {
   "cell_type": "code",
   "execution_count": 36,
   "id": "863f083d",
   "metadata": {},
   "outputs": [
    {
     "data": {
      "text/plain": [
       "array([[ 2.        ,  2.        ,  2.        ,  2.        ],\n",
       "       [ 8.33333333,  8.33333333,  8.33333333,  8.33333333],\n",
       "       [-3.66666667, -3.66666667, -3.66666667, -3.66666667],\n",
       "       [ 5.        ,  5.        ,  5.        ,  5.        ]])"
      ]
     },
     "execution_count": 36,
     "metadata": {},
     "output_type": "execute_result"
    }
   ],
   "source": [
    "x/z"
   ]
  },
  {
   "cell_type": "code",
   "execution_count": 87,
   "id": "79edc7a2",
   "metadata": {},
   "outputs": [
    {
     "data": {
      "text/plain": [
       "array([[3],\n",
       "       [3],\n",
       "       [3],\n",
       "       [3]])"
      ]
     },
     "execution_count": 87,
     "metadata": {},
     "output_type": "execute_result"
    }
   ],
   "source": [
    "z = np.transpose(z)\n",
    "z"
   ]
  },
  {
   "cell_type": "code",
   "execution_count": 38,
   "id": "672c6347",
   "metadata": {},
   "outputs": [
    {
     "data": {
      "text/plain": [
       "array([[ 2.        ],\n",
       "       [ 8.33333333],\n",
       "       [-3.66666667],\n",
       "       [ 5.        ]])"
      ]
     },
     "execution_count": 38,
     "metadata": {},
     "output_type": "execute_result"
    }
   ],
   "source": [
    "x/z"
   ]
  },
  {
   "cell_type": "code",
   "execution_count": 39,
   "id": "be0fdaee",
   "metadata": {},
   "outputs": [
    {
     "data": {
      "text/plain": [
       "array([[10],\n",
       "       [11],\n",
       "       [10],\n",
       "       [ 8]])"
      ]
     },
     "execution_count": 39,
     "metadata": {},
     "output_type": "execute_result"
    }
   ],
   "source": [
    "z = np.reshape(np.diagonal(A), [n,1])\n",
    "z"
   ]
  },
  {
   "cell_type": "code",
   "execution_count": 40,
   "id": "70c51bd5",
   "metadata": {},
   "outputs": [
    {
     "data": {
      "text/plain": [
       "array([[0],\n",
       "       [0],\n",
       "       [0],\n",
       "       [0]])"
      ]
     },
     "execution_count": 40,
     "metadata": {},
     "output_type": "execute_result"
    }
   ],
   "source": [
    "x_o"
   ]
  },
  {
   "cell_type": "code",
   "execution_count": 41,
   "id": "6d54962b",
   "metadata": {},
   "outputs": [
    {
     "data": {
      "text/plain": [
       "array([[0],\n",
       "       [0],\n",
       "       [0],\n",
       "       [0]])"
      ]
     },
     "execution_count": 41,
     "metadata": {},
     "output_type": "execute_result"
    }
   ],
   "source": [
    "x = np.zeros_like(b)\n",
    "x"
   ]
  },
  {
   "cell_type": "code",
   "execution_count": 42,
   "id": "ef4f4c61",
   "metadata": {},
   "outputs": [
    {
     "data": {
      "text/plain": [
       "array([[  6],\n",
       "       [ 25],\n",
       "       [-11],\n",
       "       [ 15]])"
      ]
     },
     "execution_count": 42,
     "metadata": {},
     "output_type": "execute_result"
    }
   ],
   "source": [
    "b - np.dot(LU,x_o)"
   ]
  },
  {
   "cell_type": "code",
   "execution_count": 43,
   "id": "542be019",
   "metadata": {},
   "outputs": [
    {
     "data": {
      "text/plain": [
       "array([[ 0.6       ],\n",
       "       [ 2.27272727],\n",
       "       [-1.1       ],\n",
       "       [ 1.875     ]])"
      ]
     },
     "execution_count": 43,
     "metadata": {},
     "output_type": "execute_result"
    }
   ],
   "source": [
    "x = (b - np.dot(LU,x_o))/z\n",
    "x"
   ]
  },
  {
   "cell_type": "code",
   "execution_count": 44,
   "id": "9d1988bd",
   "metadata": {},
   "outputs": [],
   "source": [
    "#np.linalg.norm?"
   ]
  },
  {
   "cell_type": "code",
   "execution_count": 45,
   "id": "15351d7c",
   "metadata": {},
   "outputs": [
    {
     "data": {
      "text/plain": [
       "3.201704898362488"
      ]
     },
     "execution_count": 45,
     "metadata": {},
     "output_type": "execute_result"
    }
   ],
   "source": [
    "e = np.linalg.norm(x-x_o)\n",
    "e"
   ]
  },
  {
   "cell_type": "code",
   "execution_count": 46,
   "id": "1db57804",
   "metadata": {},
   "outputs": [
    {
     "data": {
      "text/plain": [
       "3.201704898362488"
      ]
     },
     "execution_count": 46,
     "metadata": {},
     "output_type": "execute_result"
    }
   ],
   "source": [
    "e = np.linalg.norm(x-x_o, ord='fro')\n",
    "e"
   ]
  },
  {
   "cell_type": "code",
   "execution_count": 47,
   "id": "b6ff3ed6",
   "metadata": {},
   "outputs": [
    {
     "name": "stdout",
     "output_type": "stream",
     "text": [
      "[[ 0.6       ]\n",
      " [ 2.27272727]\n",
      " [-1.1       ]\n",
      " [ 1.875     ]] 3.201704898362488\n",
      "[[ 1.04727273]\n",
      " [ 1.71590909]\n",
      " [-0.80522727]\n",
      " [ 2.58977273]] 1.0525637237535712\n",
      "[[ 0.93263636]\n",
      " [ 1.58842975]\n",
      " [-0.87888636]\n",
      " [ 2.4178125 ]] 0.2537488111043132\n",
      "[[ 0.93462025]\n",
      " [ 1.61821023]\n",
      " [-0.88590305]\n",
      " [ 2.36080036]] 0.06473353289835929\n",
      "[[ 0.93900163]\n",
      " [ 1.63330147]\n",
      " [-0.88902299]\n",
      " [ 2.37109095]] 0.019041332158094715\n",
      "[[ 0.94113474]\n",
      " [ 1.63060962]\n",
      " [-0.88736108]\n",
      " [ 2.37636018]] 0.006505600946624251\n",
      "[[ 0.94053318]\n",
      " [ 1.62951756]\n",
      " [-0.88752997]\n",
      " [ 2.37555847]] 0.0014918870903770948\n",
      "[[ 0.94045775]\n",
      " [ 1.62966616]\n",
      " [-0.88759903]\n",
      " [ 2.37512784]] 0.00046689119364635523\n",
      "[[ 0.94048642]\n",
      " [ 1.62977047]\n",
      " [-0.88761215]\n",
      " [ 2.37517493]] 0.00011871216351128154\n",
      "[[ 0.94049948]\n",
      " [ 1.62975904]\n",
      " [-0.88760274]\n",
      " [ 2.37521241]] 4.23557525173989e-05\n",
      "[[ 0.94049645]\n",
      " [ 1.62975086]\n",
      " [-0.88760275]\n",
      " [ 2.3752093 ]] 9.258327925570206e-06\n",
      "[[ 0.94049564]\n",
      " [ 1.62975144]\n",
      " [-0.88760327]\n",
      " [ 2.37520623]] 3.2683091290261632e-06\n",
      "[[ 0.9404958 ]\n",
      " [ 1.62975215]\n",
      " [-0.88760336]\n",
      " [ 2.37520638]] 7.529610644307511e-07\n",
      "[[ 0.94049589]\n",
      " [ 1.62975212]\n",
      " [-0.88760331]\n",
      " [ 2.37520664]] 2.795054906972435e-07\n",
      "[[ 0.94049587]\n",
      " [ 1.62975206]\n",
      " [-0.8876033 ]\n",
      " [ 2.37520663]] 5.940258055366186e-08\n",
      "[[ 0.94049587]\n",
      " [ 1.62975206]\n",
      " [-0.88760331]\n",
      " [ 2.37520661]] 2.2190175024957278e-08\n",
      "[[ 0.94049587]\n",
      " [ 1.62975207]\n",
      " [-0.88760331]\n",
      " [ 2.37520661]] 4.885183516060895e-09\n",
      "[[ 0.94049587]\n",
      " [ 1.62975207]\n",
      " [-0.88760331]\n",
      " [ 2.37520661]] 1.838174910026982e-09\n",
      "[[ 0.94049587]\n",
      " [ 1.62975207]\n",
      " [-0.88760331]\n",
      " [ 2.37520661]] 3.9290733179380644e-10\n",
      "Iterations converged after 18 steps\n"
     ]
    }
   ],
   "source": [
    "import numpy as np\n",
    "max_iter = 50\n",
    "Tol = 1.e-9\n",
    "\n",
    "A = np.array([[10,-1,2,0],[-1,11,-1,3],[2,-1,10,-1],[0,-3,-1,8]])\n",
    "b = np.array([[6,25,-11,15]])\n",
    "b = np.transpose(b)\n",
    "n = np.size(b)\n",
    "z = np.reshape(np.diagonal(A),[n,1])\n",
    "LU = A - np.diag(np.diagonal(A))\n",
    "x_o = np.zeros_like(b)\n",
    "for i in range(max_iter):\n",
    "    x = (b - np.dot(LU,x_o))/z\n",
    "    e = np.linalg.norm(x-x_o, ord='fro')\n",
    "    print(x,e)\n",
    "    if e < Tol:\n",
    "        print(f'Iterations converged after {i} steps')\n",
    "        break\n",
    "    x_o = x"
   ]
  },
  {
   "cell_type": "code",
   "execution_count": 48,
   "id": "ce6ef76d",
   "metadata": {},
   "outputs": [],
   "source": [
    "def myJacobi(A,b,max_iter,Tolerance):\n",
    "    n = np.size(A[0])\n",
    "    b = np.reshape(b,[n,1])\n",
    "    z = np.reshape(np.diagonal(A),[n,1])\n",
    "    # i != j\n",
    "    B = A - np.diag(np.diagonal(A))\n",
    "    x_o = np.zeros_like(b)\n",
    "    for i in range(max_iter):\n",
    "        x = (b - np.dot(B,x_o))/z\n",
    "        e = np.linalg.norm(x-x_o, ord='fro')\n",
    "        print(x,e)\n",
    "        if e < Tol:\n",
    "            print(f'Iterations converged after {i} steps')\n",
    "            break\n",
    "        x_o = x\n",
    "    return x\n",
    "    "
   ]
  },
  {
   "cell_type": "markdown",
   "id": "dddedc6c",
   "metadata": {},
   "source": [
    "### Gauss Seidel method\n",
    "\n",
    "$$\n",
    "x_i^{k+1} = \\left(b_i - \\sum_{j=1}^{i-1} a_{ij}x_j^{k+1} - \\sum_{j=i+1}^n a_{ij}x_j^k\\right)/a_{ii}\n",
    "$$"
   ]
  },
  {
   "cell_type": "code",
   "execution_count": 49,
   "id": "40c87ecc",
   "metadata": {},
   "outputs": [],
   "source": [
    "import numpy as np\n",
    "from scipy.linalg import norm\n",
    "def myGaussSeidel(A,b,max_iter,Tolerance):\n",
    "    n = np.size(A[0])\n",
    "    b = np.reshape(b,[n,1])\n",
    "    z = np.reshape(np.diagonal(A),[n,1])\n",
    "    x   = np.zeros_like(b,dtype=np.double)\n",
    "    for i in range(max_iter):\n",
    "        x_o = x.copy()\n",
    "        for j in range(n):\n",
    "            x[j] = b[j] - np.dot(A[j,:j],x[:j])- np.dot(A[j,j+1:],x_o[j+1:])\n",
    "            x[j] = x[j]/A[j,j]\n",
    "        print(f'{norm(x-x_o)}')    \n",
    "        if norm(x-x_o) < Tolerance:\n",
    "                print(f'Iterations converged after {i} steps')\n",
    "                print(f'{(x-x_o)}')\n",
    "                break\n",
    "    return x"
   ]
  },
  {
   "cell_type": "code",
   "execution_count": 50,
   "id": "8057ee3a",
   "metadata": {},
   "outputs": [
    {
     "data": {
      "text/plain": [
       "array([[  6],\n",
       "       [ 25],\n",
       "       [-11],\n",
       "       [ 15]])"
      ]
     },
     "execution_count": 50,
     "metadata": {},
     "output_type": "execute_result"
    }
   ],
   "source": [
    "b"
   ]
  },
  {
   "cell_type": "code",
   "execution_count": 51,
   "id": "3f749f67",
   "metadata": {},
   "outputs": [
    {
     "data": {
      "text/plain": [
       "array([[10],\n",
       "       [11],\n",
       "       [10],\n",
       "       [ 8]])"
      ]
     },
     "execution_count": 51,
     "metadata": {},
     "output_type": "execute_result"
    }
   ],
   "source": [
    "z"
   ]
  },
  {
   "cell_type": "code",
   "execution_count": 60,
   "id": "7c071be9",
   "metadata": {},
   "outputs": [
    {
     "name": "stdout",
     "output_type": "stream",
     "text": [
      "[[  60]\n",
      " [ 275]\n",
      " [-110]\n",
      " [ 120]] 0.0015590190887451172\n"
     ]
    }
   ],
   "source": [
    "import time\n",
    "\n",
    "start = time.time()\n",
    "\n",
    "r = np.zeros_like(z)\n",
    "\n",
    "for i in range(len(b)):\n",
    "    r[i] = b[i]*z[i]\n",
    "    \n",
    "end = time.time()\n",
    "\n",
    "dt = end-start\n",
    "dt\n",
    "\n",
    "print(r, dt)"
   ]
  },
  {
   "cell_type": "code",
   "execution_count": 61,
   "id": "dad95fed",
   "metadata": {},
   "outputs": [
    {
     "name": "stdout",
     "output_type": "stream",
     "text": [
      "[[  60]\n",
      " [ 275]\n",
      " [-110]\n",
      " [ 120]] 0.0002620220184326172\n"
     ]
    }
   ],
   "source": [
    "start = time.time()\n",
    "\n",
    "b*z\n",
    "\n",
    "end = time.time()\n",
    "dt = end-start\n",
    "\n",
    "print(b*z, dt)"
   ]
  },
  {
   "cell_type": "markdown",
   "id": "75ad419f",
   "metadata": {},
   "source": [
    "### Vectorization benefits:\n",
    "\n",
    "1. Speed and productivity\n",
    "2. Less resource utilization"
   ]
  },
  {
   "cell_type": "code",
   "execution_count": 90,
   "id": "6e0f7eab",
   "metadata": {},
   "outputs": [
    {
     "name": "stdout",
     "output_type": "stream",
     "text": [
      "[[  6]\n",
      " [ 25]\n",
      " [-11]\n",
      " [ 15]]\n",
      "\n",
      " [[10]\n",
      " [11]\n",
      " [10]\n",
      " [ 8]]\n"
     ]
    }
   ],
   "source": [
    "#Numpy arrays\n",
    "\n",
    "b = np.transpose(np.array([[6,25,-11,15]]))\n",
    "print(b)\n",
    "\n",
    "z = np.reshape(np.diagonal(A), [n,1])\n",
    "print('\\n',z)"
   ]
  },
  {
   "cell_type": "code",
   "execution_count": 91,
   "id": "9600ede6",
   "metadata": {},
   "outputs": [
    {
     "data": {
      "text/plain": [
       "array([[  60],\n",
       "       [ 275],\n",
       "       [-110],\n",
       "       [ 120]])"
      ]
     },
     "execution_count": 91,
     "metadata": {},
     "output_type": "execute_result"
    }
   ],
   "source": [
    "#Element-wise operations\n",
    "\n",
    "#b+z\n",
    "#b-z\n",
    "b*z\n",
    "#b/z"
   ]
  },
  {
   "cell_type": "code",
   "execution_count": 153,
   "id": "6dbf34c9",
   "metadata": {},
   "outputs": [
    {
     "data": {
      "text/plain": [
       "array([2.  , 2.25, 2.5 , 2.75, 3.  ])"
      ]
     },
     "execution_count": 153,
     "metadata": {},
     "output_type": "execute_result"
    }
   ],
   "source": [
    "a=np.linspace(0,1,5)\n",
    "f = a + 2*np.ones_like(a)\n",
    "f"
   ]
  },
  {
   "cell_type": "code",
   "execution_count": 154,
   "id": "e03a3916",
   "metadata": {},
   "outputs": [
    {
     "data": {
      "text/plain": [
       "array([2.  , 2.25, 2.5 , 2.75, 3.  ])"
      ]
     },
     "execution_count": 154,
     "metadata": {},
     "output_type": "execute_result"
    }
   ],
   "source": [
    "#calc_avg\n",
    "\n",
    "f_av=f.copy() # make a copy, just as for lists\n",
    "for i in range(1,len(f)-1): # loop over interior points\n",
    "    f_av[i]=(f[i-1]+f[i]+f[i+1])/3.0\n",
    "f_av"
   ]
  },
  {
   "cell_type": "code",
   "execution_count": 155,
   "id": "3bf2eca7",
   "metadata": {},
   "outputs": [
    {
     "data": {
      "text/plain": [
       "array([2.  , 2.25, 2.5 , 2.75, 3.  ])"
      ]
     },
     "execution_count": 155,
     "metadata": {},
     "output_type": "execute_result"
    }
   ],
   "source": [
    "#Vectorization\n",
    "f_av=f.copy() \n",
    "f_av[1:-1]=(f[ :-2]+f[1:-1]+f[2: ])/3.0\n",
    "f_av"
   ]
  },
  {
   "cell_type": "code",
   "execution_count": 101,
   "id": "2ea90ef5",
   "metadata": {},
   "outputs": [
    {
     "data": {
      "text/plain": [
       "array([2])"
      ]
     },
     "execution_count": 101,
     "metadata": {},
     "output_type": "execute_result"
    }
   ],
   "source": [
    "c = np.array([2])\n",
    "c"
   ]
  },
  {
   "cell_type": "code",
   "execution_count": 102,
   "id": "38028e66",
   "metadata": {},
   "outputs": [
    {
     "data": {
      "text/plain": [
       "array([[  6],\n",
       "       [ 25],\n",
       "       [-11],\n",
       "       [ 15]])"
      ]
     },
     "execution_count": 102,
     "metadata": {},
     "output_type": "execute_result"
    }
   ],
   "source": [
    "b"
   ]
  },
  {
   "cell_type": "code",
   "execution_count": 104,
   "id": "e540dc3e",
   "metadata": {},
   "outputs": [
    {
     "data": {
      "text/plain": [
       "array([[ 8],\n",
       "       [27],\n",
       "       [-9],\n",
       "       [17]])"
      ]
     },
     "execution_count": 104,
     "metadata": {},
     "output_type": "execute_result"
    }
   ],
   "source": [
    "#Perfrom broadcasting\n",
    "b+c"
   ]
  },
  {
   "cell_type": "code",
   "execution_count": 105,
   "id": "537a456e",
   "metadata": {},
   "outputs": [
    {
     "data": {
      "text/plain": [
       "array([[ 12],\n",
       "       [ 50],\n",
       "       [-22],\n",
       "       [ 30]])"
      ]
     },
     "execution_count": 105,
     "metadata": {},
     "output_type": "execute_result"
    }
   ],
   "source": [
    "b*c"
   ]
  },
  {
   "cell_type": "code",
   "execution_count": 106,
   "id": "d3b49fc3",
   "metadata": {},
   "outputs": [
    {
     "data": {
      "text/plain": [
       "array([[ 3. ],\n",
       "       [12.5],\n",
       "       [-5.5],\n",
       "       [ 7.5]])"
      ]
     },
     "execution_count": 106,
     "metadata": {},
     "output_type": "execute_result"
    }
   ],
   "source": [
    "b/c"
   ]
  },
  {
   "cell_type": "code",
   "execution_count": 162,
   "id": "5e4b6d06",
   "metadata": {},
   "outputs": [
    {
     "name": "stdout",
     "output_type": "stream",
     "text": [
      "[10. 15. 20.]\n"
     ]
    },
    {
     "data": {
      "text/plain": [
       "(3,)"
      ]
     },
     "execution_count": 162,
     "metadata": {},
     "output_type": "execute_result"
    }
   ],
   "source": [
    "u=np.linspace(10,20,3)\n",
    "print(u)\n",
    "u.shape\n",
    "#vg=np.reshape(np.linspace(0,7,15),(5,3))\n",
    "#u+vg #Component by component addition via broadcasting"
   ]
  },
  {
   "cell_type": "code",
   "execution_count": 164,
   "id": "e9123260",
   "metadata": {},
   "outputs": [
    {
     "name": "stdout",
     "output_type": "stream",
     "text": [
      "[[0.  0.5 1. ]\n",
      " [1.5 2.  2.5]\n",
      " [3.  3.5 4. ]\n",
      " [4.5 5.  5.5]\n",
      " [6.  6.5 7. ]]\n"
     ]
    },
    {
     "data": {
      "text/plain": [
       "(5, 3)"
      ]
     },
     "execution_count": 164,
     "metadata": {},
     "output_type": "execute_result"
    }
   ],
   "source": [
    "vg=np.reshape(np.linspace(0,7,15),(5,3))\n",
    "print(vg)\n",
    "vg.shape"
   ]
  },
  {
   "cell_type": "code",
   "execution_count": 165,
   "id": "3bf0cd74",
   "metadata": {},
   "outputs": [
    {
     "data": {
      "text/plain": [
       "array([[10. , 15.5, 21. ],\n",
       "       [11.5, 17. , 22.5],\n",
       "       [13. , 18.5, 24. ],\n",
       "       [14.5, 20. , 25.5],\n",
       "       [16. , 21.5, 27. ]])"
      ]
     },
     "execution_count": 165,
     "metadata": {},
     "output_type": "execute_result"
    }
   ],
   "source": [
    "u+vg #Component by component addition via broadcasting"
   ]
  },
  {
   "cell_type": "code",
   "execution_count": 166,
   "id": "0d5e030b",
   "metadata": {},
   "outputs": [
    {
     "data": {
      "text/plain": [
       "array([[10. , 15.5, 21. ],\n",
       "       [11.5, 17. , 22.5],\n",
       "       [13. , 18.5, 24. ],\n",
       "       [14.5, 20. , 25.5],\n",
       "       [16. , 21.5, 27. ]])"
      ]
     },
     "execution_count": 166,
     "metadata": {},
     "output_type": "execute_result"
    }
   ],
   "source": [
    "vg+u"
   ]
  },
  {
   "cell_type": "code",
   "execution_count": 168,
   "id": "a00ca359",
   "metadata": {},
   "outputs": [
    {
     "data": {
      "text/plain": [
       "(5, 3)"
      ]
     },
     "execution_count": 168,
     "metadata": {},
     "output_type": "execute_result"
    }
   ],
   "source": [
    "(u+vg).shape"
   ]
  },
  {
   "cell_type": "code",
   "execution_count": 152,
   "id": "36999703",
   "metadata": {},
   "outputs": [
    {
     "name": "stdout",
     "output_type": "stream",
     "text": [
      "[1 3 5]\n"
     ]
    }
   ],
   "source": [
    "## more vectorization e.g = indexing\n",
    "\n",
    "a = np.array([1, 2, 3, 4, 5])\n",
    "\n",
    "#array with index \n",
    "index = np.array([0,2,4])\n",
    "\n",
    "result = a[index]\n",
    "print(result)\n"
   ]
  },
  {
   "cell_type": "markdown",
   "id": "079c3962",
   "metadata": {},
   "source": [
    "The first rule of broadcasting is that, if the arrays do not have the same number of\n",
    "dimensions, then a $1$ will be repeatedly prepended to the shapes of the smaller\n",
    "arrays until all the arrays have the same number of axes.\n",
    "\n",
    "The second rule of broadcasting ensures that arrays with a size of 1 along a particular\n",
    "dimension or axis act as if they had the size of the array with the largest size along\n",
    "that dimension. The value of the array element is assumed to be the same along\n",
    "that dimension for the “broadcasted” array"
   ]
  },
  {
   "cell_type": "code",
   "execution_count": 113,
   "id": "1638b552",
   "metadata": {},
   "outputs": [
    {
     "name": "stdout",
     "output_type": "stream",
     "text": [
      "[3 4 5]\n"
     ]
    }
   ],
   "source": [
    "## e.g = condition\n",
    "\n",
    "condition = a > 2.3\n",
    "result = a[condition]\n",
    "\n",
    "print(result)"
   ]
  },
  {
   "cell_type": "code",
   "execution_count": 156,
   "id": "a7ab244c",
   "metadata": {},
   "outputs": [
    {
     "data": {
      "text/plain": [
       "(array([-2. , -1.5, -1. , -0.5,  0. ,  0.5,  1. ,  1.5,  2. ]),\n",
       " array([ True,  True,  True,  True, False, False, False, False, False]))"
      ]
     },
     "execution_count": 156,
     "metadata": {},
     "output_type": "execute_result"
    }
   ],
   "source": [
    "x=np.linspace(-2,2,9)\n",
    "y=x<0\n",
    "x, y"
   ]
  },
  {
   "cell_type": "code",
   "execution_count": 122,
   "id": "997c923a",
   "metadata": {},
   "outputs": [
    {
     "name": "stdout",
     "output_type": "stream",
     "text": [
      "[2 3 4]\n"
     ]
    }
   ],
   "source": [
    "## e.g = slicing\n",
    "\n",
    "result = a[1:4]\n",
    "print(result)"
   ]
  },
  {
   "cell_type": "code",
   "execution_count": 128,
   "id": "99bc7a32",
   "metadata": {},
   "outputs": [
    {
     "data": {
      "text/plain": [
       "array([[10, -1,  2,  0],\n",
       "       [-1, 11, -1,  3],\n",
       "       [ 2, -1, 10, -1],\n",
       "       [ 0, -3, -1,  8]])"
      ]
     },
     "execution_count": 128,
     "metadata": {},
     "output_type": "execute_result"
    }
   ],
   "source": [
    "#Matrices\n",
    "\n",
    "A = np.array([[10,-1,2,0],[-1,11,-1,3],[2,-1,10,-1],[0,-3,-1,8]])\n",
    "A"
   ]
  },
  {
   "cell_type": "code",
   "execution_count": 129,
   "id": "dc36b0c4",
   "metadata": {},
   "outputs": [
    {
     "name": "stdout",
     "output_type": "stream",
     "text": [
      "[[10 -1  2  0]\n",
      " [ 0 -3 -1  8]]\n"
     ]
    }
   ],
   "source": [
    "#array with index \n",
    "index = np.array([0,-1])\n",
    "\n",
    "result = A[index]\n",
    "\n",
    "print(result)"
   ]
  },
  {
   "cell_type": "code",
   "execution_count": 130,
   "id": "bef77799",
   "metadata": {},
   "outputs": [
    {
     "name": "stdout",
     "output_type": "stream",
     "text": [
      "[10 11  3 10  8]\n"
     ]
    }
   ],
   "source": [
    "#condition\n",
    "\n",
    "condition = A > 2.3\n",
    "result = A[condition]\n",
    "\n",
    "print(result)"
   ]
  },
  {
   "cell_type": "code",
   "execution_count": 132,
   "id": "e9ccec24",
   "metadata": {},
   "outputs": [
    {
     "data": {
      "text/plain": [
       "array([[10, -1,  2,  0]])"
      ]
     },
     "execution_count": 132,
     "metadata": {},
     "output_type": "execute_result"
    }
   ],
   "source": [
    "#slicing\n",
    "\n",
    "A[:1]"
   ]
  },
  {
   "cell_type": "code",
   "execution_count": 135,
   "id": "5c66993c",
   "metadata": {},
   "outputs": [
    {
     "data": {
      "text/plain": [
       "array([[-1, 11, -1,  3],\n",
       "       [ 2, -1, 10, -1],\n",
       "       [ 0, -3, -1,  8]])"
      ]
     },
     "execution_count": 135,
     "metadata": {},
     "output_type": "execute_result"
    }
   ],
   "source": [
    "A[1:]"
   ]
  },
  {
   "cell_type": "code",
   "execution_count": 146,
   "id": "53d877f6",
   "metadata": {},
   "outputs": [
    {
     "data": {
      "text/plain": [
       "array([[10, -1]])"
      ]
     },
     "execution_count": 146,
     "metadata": {},
     "output_type": "execute_result"
    }
   ],
   "source": [
    "A[:1,:2]"
   ]
  },
  {
   "cell_type": "code",
   "execution_count": 148,
   "id": "1eaafe1a",
   "metadata": {},
   "outputs": [
    {
     "data": {
      "text/plain": [
       "array([[10, -1],\n",
       "       [-1,  8]])"
      ]
     },
     "execution_count": 148,
     "metadata": {},
     "output_type": "execute_result"
    }
   ],
   "source": [
    "A[2:,2:]"
   ]
  },
  {
   "cell_type": "code",
   "execution_count": 158,
   "id": "075691d7",
   "metadata": {},
   "outputs": [
    {
     "data": {
      "text/plain": [
       "array([[10, -1,  2,  0],\n",
       "       [-1, 11, -1,  3],\n",
       "       [ 2, -1, 10, -1],\n",
       "       [ 0, -3, -1,  8]])"
      ]
     },
     "execution_count": 158,
     "metadata": {},
     "output_type": "execute_result"
    }
   ],
   "source": [
    "A"
   ]
  },
  {
   "cell_type": "code",
   "execution_count": 159,
   "id": "04cd694f",
   "metadata": {},
   "outputs": [],
   "source": [
    "A[2:,2:] = 0."
   ]
  },
  {
   "cell_type": "code",
   "execution_count": 160,
   "id": "cb06aa6d",
   "metadata": {},
   "outputs": [
    {
     "data": {
      "text/plain": [
       "array([[10, -1,  2,  0],\n",
       "       [-1, 11, -1,  3],\n",
       "       [ 2, -1,  0,  0],\n",
       "       [ 0, -3,  0,  0]])"
      ]
     },
     "execution_count": 160,
     "metadata": {},
     "output_type": "execute_result"
    }
   ],
   "source": [
    "A"
   ]
  },
  {
   "cell_type": "markdown",
   "id": "e7991bf5",
   "metadata": {},
   "source": [
    "##choices and outcomes\n",
    "\n",
    "$k(x) = -x$ if $x<0$\n",
    "\n",
    "$k(x) = x^3$ if $0\\leq x < 1$\n",
    "\n",
    "$k(x) = x^2$ if $1\\leq x < 2$\n",
    "\n",
    "$k(x) = 4$ otherwise"
   ]
  },
  {
   "cell_type": "code",
   "execution_count": 157,
   "id": "2d18fd35",
   "metadata": {},
   "outputs": [
    {
     "name": "stdout",
     "output_type": "stream",
     "text": [
      "[-1.  -0.5  0.   0.5  1.   1.5  2.   2.5  3. ]\n",
      "\n",
      " [1.    0.5   0.    0.125 1.    2.25  4.    4.    4.   ]\n"
     ]
    }
   ],
   "source": [
    "x=np.linspace(-1,3,9)\n",
    "print(x)\n",
    "\n",
    "choices=[ x>=2, x>=1, x>=0, x<0 ]\n",
    "outcomes=[ 4.0, x**2, x**3, -x ]\n",
    "k=np.select(choices, outcomes)\n",
    "print('\\n',k)"
   ]
  },
  {
   "cell_type": "code",
   "execution_count": null,
   "id": "363cdde9",
   "metadata": {},
   "outputs": [],
   "source": []
  }
 ],
 "metadata": {
  "kernelspec": {
   "display_name": "Python 3 (ipykernel)",
   "language": "python",
   "name": "python3"
  },
  "language_info": {
   "codemirror_mode": {
    "name": "ipython",
    "version": 3
   },
   "file_extension": ".py",
   "mimetype": "text/x-python",
   "name": "python",
   "nbconvert_exporter": "python",
   "pygments_lexer": "ipython3",
   "version": "3.10.6"
  }
 },
 "nbformat": 4,
 "nbformat_minor": 5
}
