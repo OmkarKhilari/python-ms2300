{
 "cells": [
  {
   "cell_type": "code",
   "execution_count": 4,
   "id": "fd575593",
   "metadata": {},
   "outputs": [],
   "source": [
    "import numpy as np"
   ]
  },
  {
   "cell_type": "markdown",
   "id": "2da46c70",
   "metadata": {},
   "source": [
    "### Matrix\n",
    "\n",
    "$ A_{n\\times m} = \\begin{bmatrix} a_{11} & a_{12} & ... & a_{1m} \\\\ a_{21} & a_{22} & ... & a_{2m} \\\\ \\vdots & \\vdots & \\vdots & \\vdots\n",
    "\\\\ a_{n1} & a_{n2} & ... & a_{nm}\\end{bmatrix}$\n",
    "\n",
    "$a_{ij}$, \n",
    "where $i$= row element $\\{1, 2, ..., n\\}$, \n",
    "$j$= column element $\\{1, 2, ..., m\\}$\n",
    "\n",
    "Size of matrix $n \\times m$"
   ]
  },
  {
   "cell_type": "code",
   "execution_count": 5,
   "id": "fcb08bac",
   "metadata": {},
   "outputs": [],
   "source": [
    "#Define a matrix\n",
    "A = np.array([[1, 2, 3],\n",
    "              [4, 5, 6],\n",
    "              [7, 8, 9]])"
   ]
  },
  {
   "cell_type": "code",
   "execution_count": 6,
   "id": "a9fbc7b1",
   "metadata": {},
   "outputs": [
    {
     "data": {
      "text/plain": [
       "array([[1, 2, 3],\n",
       "       [4, 5, 6],\n",
       "       [7, 8, 9]])"
      ]
     },
     "execution_count": 6,
     "metadata": {},
     "output_type": "execute_result"
    }
   ],
   "source": [
    "A"
   ]
  },
  {
   "cell_type": "code",
   "execution_count": 7,
   "id": "44b5baf7",
   "metadata": {},
   "outputs": [
    {
     "data": {
      "text/plain": [
       "(3, 3)"
      ]
     },
     "execution_count": 7,
     "metadata": {},
     "output_type": "execute_result"
    }
   ],
   "source": [
    "A.shape"
   ]
  },
  {
   "cell_type": "code",
   "execution_count": 8,
   "id": "fa8fb851",
   "metadata": {},
   "outputs": [
    {
     "data": {
      "text/plain": [
       "array([2, 5, 8])"
      ]
     },
     "execution_count": 8,
     "metadata": {},
     "output_type": "execute_result"
    }
   ],
   "source": [
    "#second column of the matrix\n",
    "A[:,1]"
   ]
  },
  {
   "cell_type": "code",
   "execution_count": 9,
   "id": "f9bef01c",
   "metadata": {},
   "outputs": [
    {
     "data": {
      "text/plain": [
       "array([1, 2, 3])"
      ]
     },
     "execution_count": 9,
     "metadata": {},
     "output_type": "execute_result"
    }
   ],
   "source": [
    "#first row of the matrix\n",
    "A[0,:]"
   ]
  },
  {
   "cell_type": "markdown",
   "id": "8001ddbd",
   "metadata": {},
   "source": [
    "### class numpy.matrix\n",
    "\n",
    "#### \"It is no longer recommended to use this class, even for linear algebra. Instead use regular arrays. The class may be removed in the future.\""
   ]
  },
  {
   "cell_type": "code",
   "execution_count": 10,
   "id": "3c04dce0",
   "metadata": {},
   "outputs": [
    {
     "data": {
      "text/plain": [
       "matrix([[1, 2, 3],\n",
       "        [4, 5, 6],\n",
       "        [7, 8, 9]])"
      ]
     },
     "execution_count": 10,
     "metadata": {},
     "output_type": "execute_result"
    }
   ],
   "source": [
    "M = np.matrix('1 2 3; 4 5 6; 7 8 9')\n",
    "M\n",
    "#type(M)\n",
    "#M.shape"
   ]
  },
  {
   "cell_type": "code",
   "execution_count": 11,
   "id": "7a82e9ac",
   "metadata": {},
   "outputs": [],
   "source": [
    "AA = np.array([[4, 3, 2, 1],[9, 8, 7, 6]])"
   ]
  },
  {
   "cell_type": "code",
   "execution_count": 12,
   "id": "acf3d11b",
   "metadata": {},
   "outputs": [
    {
     "data": {
      "text/plain": [
       "array([[4, 3, 2, 1],\n",
       "       [9, 8, 7, 6]])"
      ]
     },
     "execution_count": 12,
     "metadata": {},
     "output_type": "execute_result"
    }
   ],
   "source": [
    "AA"
   ]
  },
  {
   "cell_type": "code",
   "execution_count": 13,
   "id": "95ff878a",
   "metadata": {},
   "outputs": [
    {
     "data": {
      "text/plain": [
       "(2, 4)"
      ]
     },
     "execution_count": 13,
     "metadata": {},
     "output_type": "execute_result"
    }
   ],
   "source": [
    "AA.shape"
   ]
  },
  {
   "cell_type": "code",
   "execution_count": 14,
   "id": "3e6963b0",
   "metadata": {},
   "outputs": [
    {
     "data": {
      "text/plain": [
       "array([[-1, -1, -1, -1],\n",
       "       [ 1,  1,  1,  1]])"
      ]
     },
     "execution_count": 14,
     "metadata": {},
     "output_type": "execute_result"
    }
   ],
   "source": [
    "##Add/substract\n",
    "\n",
    "BB = np.array([[-1, -1, -1, -1],[1, 1, 1, 1]])\n",
    "BB\n",
    "#BB.shape"
   ]
  },
  {
   "cell_type": "code",
   "execution_count": 15,
   "id": "675c50a0",
   "metadata": {},
   "outputs": [
    {
     "data": {
      "text/plain": [
       "array([[ 3,  2,  1,  0],\n",
       "       [10,  9,  8,  7]])"
      ]
     },
     "execution_count": 15,
     "metadata": {},
     "output_type": "execute_result"
    }
   ],
   "source": [
    "##Add/substract (Matrices should have same size)\n",
    "AA+BB"
   ]
  },
  {
   "cell_type": "markdown",
   "id": "42c4bb38",
   "metadata": {},
   "source": [
    "### Matrix Mulitplication\n",
    "\n",
    "$A_{n\\times m} \\ast B_{m\\times p}$\n",
    "\n",
    "$ [a_{ij}]*[b_{ij}] = [c_{ij}] =\n",
    "\\begin{bmatrix} (a_{11}b_{11}+ a_{12}b_{21} + ... + a_{1m}b_{m1}) & ... & (a_{11}b_{1p}+ a_{12}b_{2p} + ... + a_{1m}b_{mp}) \\\\ \n",
    "(a_{21}b_{11}+ a_{22}b_{21} + ... + a_{2m}b_{m1}) & ... & (a_{21}b_{1p}+ a_{22}b_{2p} + ... + a_{2m}b_{mp}) \\\\ \n",
    "\\vdots &  & \\vdots \\\\ \n",
    "(a_{n1}b_{11}+ a_{n2}b_{21} + ... + a_{nm}b_{m1}) & ... & (a_{1p}b_{11}+ a_{12}b_{2p} + ... + a_{1m}b_{mp})\\end{bmatrix}$\n",
    "\n",
    "\n",
    "\n",
    "$c_{ij} = \\sum_{k=1}^{m} a_{ik}b_{kj},$\n",
    "\n",
    "$i = 1, 2, ..., n \\\\$\n",
    "$j = 1, 2, ..., p$"
   ]
  },
  {
   "cell_type": "code",
   "execution_count": 16,
   "id": "72f43598",
   "metadata": {},
   "outputs": [
    {
     "data": {
      "text/plain": [
       "(2, 3)"
      ]
     },
     "execution_count": 16,
     "metadata": {},
     "output_type": "execute_result"
    }
   ],
   "source": [
    "A = np.array([[3, 7, 1],\n",
    "              [-2, 1, -3]])\n",
    "\n",
    "A.shape"
   ]
  },
  {
   "cell_type": "code",
   "execution_count": 17,
   "id": "e3749b6b",
   "metadata": {},
   "outputs": [
    {
     "data": {
      "text/plain": [
       "(3, 2)"
      ]
     },
     "execution_count": 17,
     "metadata": {},
     "output_type": "execute_result"
    }
   ],
   "source": [
    "B = np.array([[5, -2],[0, 3],[1, -1]])\n",
    "\n",
    "B.shape"
   ]
  },
  {
   "cell_type": "code",
   "execution_count": 18,
   "id": "fce6d917",
   "metadata": {},
   "outputs": [
    {
     "data": {
      "text/plain": [
       "array([-3,  1,  4])"
      ]
     },
     "execution_count": 18,
     "metadata": {},
     "output_type": "execute_result"
    }
   ],
   "source": [
    "x = np.array([-3, 1, 4])\n",
    "x"
   ]
  },
  {
   "cell_type": "code",
   "execution_count": 19,
   "id": "5f2e942d",
   "metadata": {},
   "outputs": [
    {
     "data": {
      "text/plain": [
       "array([[ 16,  14],\n",
       "       [-13,  10]])"
      ]
     },
     "execution_count": 19,
     "metadata": {},
     "output_type": "execute_result"
    }
   ],
   "source": [
    "#matrix multiplication\n",
    "np.dot(A,B)"
   ]
  },
  {
   "cell_type": "code",
   "execution_count": 20,
   "id": "0daa315a",
   "metadata": {},
   "outputs": [
    {
     "data": {
      "text/plain": [
       "array([[19, 33, 11],\n",
       "       [-6,  3, -9],\n",
       "       [ 5,  6,  4]])"
      ]
     },
     "execution_count": 20,
     "metadata": {},
     "output_type": "execute_result"
    }
   ],
   "source": [
    "np.dot(B,A)"
   ]
  },
  {
   "cell_type": "markdown",
   "id": "25f8dca2",
   "metadata": {},
   "source": [
    "#### Note: Rule for matrix multiplication:\n",
    "\n",
    "Two matrices A and B can be multiplied as AB\n",
    "when no. of columns(A) = no. of rows(B)\n",
    "\n",
    "Two matrices A and B can be multiplied as BA\n",
    "when no. of columns(B) = no. of rows(A)\n",
    "\n",
    "In general, $AB \\neq BA$"
   ]
  },
  {
   "cell_type": "code",
   "execution_count": 21,
   "id": "12c8f9e6",
   "metadata": {},
   "outputs": [
    {
     "data": {
      "text/plain": [
       "array([ 2, -5])"
      ]
     },
     "execution_count": 21,
     "metadata": {},
     "output_type": "execute_result"
    }
   ],
   "source": [
    "np.dot(A,x)"
   ]
  },
  {
   "cell_type": "code",
   "execution_count": 22,
   "id": "3a0008c2",
   "metadata": {},
   "outputs": [],
   "source": [
    "#np.dot(x,A) --> error \"Matrices not conformable for multiplication\""
   ]
  },
  {
   "cell_type": "code",
   "execution_count": 23,
   "id": "490fdac5",
   "metadata": {},
   "outputs": [
    {
     "data": {
      "text/plain": [
       "array([[ 6, 14,  2],\n",
       "       [-4,  2, -6]])"
      ]
     },
     "execution_count": 23,
     "metadata": {},
     "output_type": "execute_result"
    }
   ],
   "source": [
    "# Scalar * Matrix\n",
    "2*A"
   ]
  },
  {
   "cell_type": "markdown",
   "id": "c38b7f7f",
   "metadata": {},
   "source": [
    "### Matrix multiplication permits us to write linear equations\n",
    "\n",
    "$$a_{11}x_{1}+ a_{12}x_{2} + ... + a_{1n}x_{n} = b_{1},$$\n",
    "$$a_{21}x_{1}+ a_{22}x_{2} + ... + a_{2n}x_{n} = b_{2},$$\n",
    "$$\\vdots $$\n",
    "$$a_{n1}x_{1}+ a_{n2}x_{2} + ... + a_{nn}x_{n} = b_{n},$$\n",
    "\n",
    "In Matrix notation: $$Ax = b$$\n",
    "\n",
    "\n",
    "$$ A_{n\\times n} = \\begin{bmatrix} a_{11} & a_{12} & ... & a_{1n} \\\\ a_{21} & a_{22} & ... & a_{2n} \\\\ \\vdots & \\vdots & \\vdots & \\vdots\n",
    "\\\\ a_{n1} & a_{n2} & ... & a_{nn}\\end{bmatrix}$$\n",
    "\n",
    "$$ x_{n \\times 1}= \\begin{bmatrix} x_{1}\\\\ x_{2}\\\\ \\vdots \\\\ x_{n} \\end{bmatrix}$$\n",
    "\n",
    "$$ b_{n \\times 1}= \\begin{bmatrix} b_{1}\\\\ b_{2}\\\\ \\vdots \\\\ b_{n} \\end{bmatrix}$$"
   ]
  },
  {
   "cell_type": "code",
   "execution_count": 24,
   "id": "54319612",
   "metadata": {},
   "outputs": [
    {
     "data": {
      "text/plain": [
       "array([[ 1,  3, -2]])"
      ]
     },
     "execution_count": 24,
     "metadata": {},
     "output_type": "execute_result"
    }
   ],
   "source": [
    "### Special case: Muliplication Row matrix (vector) with Column matrix (vector)\n",
    "\n",
    "R = np.array([[1, 3, -2]])\n",
    "R\n",
    "#R.shape"
   ]
  },
  {
   "cell_type": "code",
   "execution_count": 25,
   "id": "f379cbb8",
   "metadata": {},
   "outputs": [
    {
     "data": {
      "text/plain": [
       "(3, 1)"
      ]
     },
     "execution_count": 25,
     "metadata": {},
     "output_type": "execute_result"
    }
   ],
   "source": [
    "C = np.array([[4], [-1], [3]])\n",
    "C.shape\n",
    "#C"
   ]
  },
  {
   "cell_type": "code",
   "execution_count": 26,
   "id": "c59a3604",
   "metadata": {},
   "outputs": [
    {
     "data": {
      "text/plain": [
       "array([[-5]])"
      ]
     },
     "execution_count": 26,
     "metadata": {},
     "output_type": "execute_result"
    }
   ],
   "source": [
    "### results in pure number (inner product or scalar product)\n",
    "np.dot(R,C)"
   ]
  },
  {
   "cell_type": "code",
   "execution_count": 27,
   "id": "ca6a8a30",
   "metadata": {},
   "outputs": [
    {
     "data": {
      "text/plain": [
       "array([[-5]])"
      ]
     },
     "execution_count": 27,
     "metadata": {},
     "output_type": "execute_result"
    }
   ],
   "source": [
    "np.matmul(R,C)"
   ]
  },
  {
   "cell_type": "code",
   "execution_count": 28,
   "id": "f642d87b",
   "metadata": {},
   "outputs": [
    {
     "data": {
      "text/plain": [
       "array([[-5]])"
      ]
     },
     "execution_count": 28,
     "metadata": {},
     "output_type": "execute_result"
    }
   ],
   "source": [
    "R = np.array([[1, 3, -2]])\n",
    "R\n",
    "R.shape\n",
    "\n",
    "C = np.transpose(np.array([[4, -1, 3]]))\n",
    "C\n",
    "C.shape\n",
    "\n",
    "np.dot(R,C)"
   ]
  },
  {
   "cell_type": "code",
   "execution_count": 29,
   "id": "77d06b94",
   "metadata": {},
   "outputs": [
    {
     "data": {
      "text/plain": [
       "array([[ 4, 12, -8],\n",
       "       [-1, -3,  2],\n",
       "       [ 3,  9, -6]])"
      ]
     },
     "execution_count": 29,
     "metadata": {},
     "output_type": "execute_result"
    }
   ],
   "source": [
    "### reverse the order of muliplication (outer product or Tensor product)\n",
    "np.dot(C,R)"
   ]
  },
  {
   "cell_type": "code",
   "execution_count": 30,
   "id": "2fc13f31",
   "metadata": {},
   "outputs": [
    {
     "data": {
      "text/plain": [
       "array([[ 4, 12, -8],\n",
       "       [-1, -3,  2],\n",
       "       [ 3,  9, -6]])"
      ]
     },
     "execution_count": 30,
     "metadata": {},
     "output_type": "execute_result"
    }
   ],
   "source": [
    "np.matmul(C,R)"
   ]
  },
  {
   "cell_type": "code",
   "execution_count": 31,
   "id": "2cdbb7ae",
   "metadata": {},
   "outputs": [
    {
     "data": {
      "text/plain": [
       "array([[ 4, 12, -8],\n",
       "       [-1, -3,  2],\n",
       "       [ 3,  9, -6]])"
      ]
     },
     "execution_count": 31,
     "metadata": {},
     "output_type": "execute_result"
    }
   ],
   "source": [
    "### Alternative: Tensor product\n",
    "C@R"
   ]
  },
  {
   "cell_type": "code",
   "execution_count": 32,
   "id": "f24b5aeb",
   "metadata": {},
   "outputs": [
    {
     "data": {
      "text/plain": [
       "array([[ 3,  7,  1],\n",
       "       [-2,  1, -3]])"
      ]
     },
     "execution_count": 32,
     "metadata": {},
     "output_type": "execute_result"
    }
   ],
   "source": [
    "A"
   ]
  },
  {
   "cell_type": "code",
   "execution_count": 33,
   "id": "ad85fded",
   "metadata": {},
   "outputs": [
    {
     "data": {
      "text/plain": [
       "(2, 3)"
      ]
     },
     "execution_count": 33,
     "metadata": {},
     "output_type": "execute_result"
    }
   ],
   "source": [
    "A.shape"
   ]
  },
  {
   "cell_type": "code",
   "execution_count": 34,
   "id": "55de47f3",
   "metadata": {},
   "outputs": [
    {
     "data": {
      "text/plain": [
       "array([[ 3, -2],\n",
       "       [ 7,  1],\n",
       "       [ 1, -3]])"
      ]
     },
     "execution_count": 34,
     "metadata": {},
     "output_type": "execute_result"
    }
   ],
   "source": [
    "##Transpose of A matrix\n",
    "\n",
    "np.transpose(A)"
   ]
  },
  {
   "cell_type": "code",
   "execution_count": 35,
   "id": "fc939097",
   "metadata": {},
   "outputs": [
    {
     "data": {
      "text/plain": [
       "(3, 2)"
      ]
     },
     "execution_count": 35,
     "metadata": {},
     "output_type": "execute_result"
    }
   ],
   "source": [
    "np.transpose(A).shape"
   ]
  },
  {
   "cell_type": "code",
   "execution_count": 36,
   "id": "ec393b32",
   "metadata": {},
   "outputs": [
    {
     "name": "stdout",
     "output_type": "stream",
     "text": [
      "A=\n",
      " [[ 3  7  1]\n",
      " [-2  1 -3]]\n",
      "B=\n",
      " [[ 5 -2]\n",
      " [ 0  3]\n",
      " [ 1 -1]]\n"
     ]
    }
   ],
   "source": [
    "print('A=\\n',A)\n",
    "\n",
    "print('B=\\n',\n",
    "      B)"
   ]
  },
  {
   "cell_type": "code",
   "execution_count": 37,
   "id": "40f91d6f",
   "metadata": {},
   "outputs": [
    {
     "data": {
      "text/plain": [
       "array([[ 16, -13],\n",
       "       [ 14,  10]])"
      ]
     },
     "execution_count": 37,
     "metadata": {},
     "output_type": "execute_result"
    }
   ],
   "source": [
    "np.transpose(np.dot(A,B))"
   ]
  },
  {
   "cell_type": "code",
   "execution_count": 38,
   "id": "fc229955",
   "metadata": {},
   "outputs": [
    {
     "data": {
      "text/plain": [
       "array([[ 16, -13],\n",
       "       [ 14,  10]])"
      ]
     },
     "execution_count": 38,
     "metadata": {},
     "output_type": "execute_result"
    }
   ],
   "source": [
    "np.dot(np.transpose(B), np.transpose(A))"
   ]
  },
  {
   "cell_type": "code",
   "execution_count": null,
   "id": "fcbf395b",
   "metadata": {},
   "outputs": [],
   "source": []
  },
  {
   "cell_type": "code",
   "execution_count": 39,
   "id": "35aae908",
   "metadata": {},
   "outputs": [],
   "source": [
    "### Trace of a matrix --> when matrix is square --> sum of diagonal\n",
    "AA = np.array([[1, 2, 3],\n",
    "              [4, 5, 6],\n",
    "              [7, 8, 9]])"
   ]
  },
  {
   "cell_type": "code",
   "execution_count": 40,
   "id": "9efa8423",
   "metadata": {},
   "outputs": [
    {
     "data": {
      "text/plain": [
       "array([[1, 2, 3],\n",
       "       [4, 5, 6],\n",
       "       [7, 8, 9]])"
      ]
     },
     "execution_count": 40,
     "metadata": {},
     "output_type": "execute_result"
    }
   ],
   "source": [
    "AA"
   ]
  },
  {
   "cell_type": "code",
   "execution_count": 41,
   "id": "0b8dc95f",
   "metadata": {},
   "outputs": [
    {
     "data": {
      "text/plain": [
       "15"
      ]
     },
     "execution_count": 41,
     "metadata": {},
     "output_type": "execute_result"
    }
   ],
   "source": [
    "np.trace(AA)"
   ]
  },
  {
   "cell_type": "code",
   "execution_count": 42,
   "id": "9a9e48e6",
   "metadata": {},
   "outputs": [
    {
     "data": {
      "text/plain": [
       "15"
      ]
     },
     "execution_count": 42,
     "metadata": {},
     "output_type": "execute_result"
    }
   ],
   "source": [
    "### Trace remains the same if a square matrix is transposed\n",
    "np.trace(np.transpose(AA))"
   ]
  },
  {
   "cell_type": "code",
   "execution_count": 43,
   "id": "264e85f1",
   "metadata": {},
   "outputs": [],
   "source": [
    "## Lower Triangular matrix\n",
    "L = np.array([[1, 0, 0],\n",
    "              [4, 6, 0],\n",
    "              [-2, 1, -4]])"
   ]
  },
  {
   "cell_type": "code",
   "execution_count": 44,
   "id": "605e3996",
   "metadata": {},
   "outputs": [],
   "source": [
    "## Upper Triangular matrix\n",
    "U = np.array([[1, -3, 3],\n",
    "              [0, -1, 2],\n",
    "              [0, 0, 1]])"
   ]
  },
  {
   "cell_type": "code",
   "execution_count": 45,
   "id": "5be29c23",
   "metadata": {},
   "outputs": [
    {
     "data": {
      "text/plain": [
       "(4, 4)"
      ]
     },
     "execution_count": 45,
     "metadata": {},
     "output_type": "execute_result"
    }
   ],
   "source": [
    "## Identity matrix --> Diagonal matrix --> diagonal elements == 1\n",
    "\n",
    "I = np.array([[1, 0, 0 ,0],\n",
    "              [0, 1, 0, 0],\n",
    "              [0, 0, 1,0],\n",
    "              [0, 0, 0, 1]])\n",
    "I.shape"
   ]
  },
  {
   "cell_type": "code",
   "execution_count": 46,
   "id": "802737ef",
   "metadata": {},
   "outputs": [
    {
     "data": {
      "text/plain": [
       "array([[ 1,  1,  1],\n",
       "       [-1,  3,  1],\n",
       "       [ 0,  5,  2]])"
      ]
     },
     "execution_count": 46,
     "metadata": {},
     "output_type": "execute_result"
    }
   ],
   "source": [
    "A = np.array([[1,1,1],[-1,3,1],[0,5,2]])\n",
    "A"
   ]
  },
  {
   "cell_type": "code",
   "execution_count": 47,
   "id": "167f7df6",
   "metadata": {},
   "outputs": [
    {
     "data": {
      "text/plain": [
       "array([[1., 0., 0.],\n",
       "       [0., 1., 0.],\n",
       "       [0., 0., 1.]])"
      ]
     },
     "execution_count": 47,
     "metadata": {},
     "output_type": "execute_result"
    }
   ],
   "source": [
    "I = np.eye(A.shape[0])\n",
    "I"
   ]
  },
  {
   "cell_type": "code",
   "execution_count": 48,
   "id": "6b3a1ac6",
   "metadata": {},
   "outputs": [
    {
     "name": "stdout",
     "output_type": "stream",
     "text": [
      "[[ 1.  1.  1.]\n",
      " [-1.  3.  1.]\n",
      " [ 0.  5.  2.]]\n"
     ]
    }
   ],
   "source": [
    "print(I@A)"
   ]
  },
  {
   "cell_type": "markdown",
   "id": "d7c9533e",
   "metadata": {},
   "source": [
    "### Tridiagonal matrix\n",
    "\n",
    "$$ T = \\begin{bmatrix} -4 & 2 & 0 & 0 & 0 \\\\ \n",
    "1 & -4  & 1 & 0 & 0 \\\\\n",
    "0 & 1  & -4 & 1 & 0 \\\\\n",
    "0 & 0  & 1 & -4 & 1 \\\\\n",
    "0 & 0  & 0 & 2 & -4\\end{bmatrix}$$\n",
    "\n",
    "Only non-zero values need to be recorded \n",
    "\n",
    "$$\\begin{bmatrix} 0 & -4 & 2 \\\\ \n",
    "1 & -4  & 1  \\\\\n",
    "1  & -4 & 1  \\\\\n",
    "1 & -4 & 1 \\\\\n",
    "2 & -4 & 0 \\end{bmatrix}$$"
   ]
  },
  {
   "cell_type": "markdown",
   "id": "f0a8c5f2",
   "metadata": {},
   "source": [
    "### Determinant of a square matrix"
   ]
  },
  {
   "cell_type": "code",
   "execution_count": 49,
   "id": "35e9f288",
   "metadata": {},
   "outputs": [
    {
     "data": {
      "text/plain": [
       "array([[1, 2],\n",
       "       [3, 4]])"
      ]
     },
     "execution_count": 49,
     "metadata": {},
     "output_type": "execute_result"
    }
   ],
   "source": [
    "A = np.array([[1, 2], [3, 4]])\n",
    "A"
   ]
  },
  {
   "cell_type": "code",
   "execution_count": 50,
   "id": "6968dbff",
   "metadata": {},
   "outputs": [
    {
     "data": {
      "text/plain": [
       "-2.0000000000000004"
      ]
     },
     "execution_count": 50,
     "metadata": {},
     "output_type": "execute_result"
    }
   ],
   "source": [
    "np.linalg.det(A)"
   ]
  },
  {
   "cell_type": "code",
   "execution_count": 51,
   "id": "a59999aa",
   "metadata": {},
   "outputs": [
    {
     "data": {
      "text/plain": [
       "array([[ 3,  0, -1,  2],\n",
       "       [ 4,  1,  3, -2],\n",
       "       [ 0,  2, -1,  3],\n",
       "       [ 1,  0,  1,  4]])"
      ]
     },
     "execution_count": 51,
     "metadata": {},
     "output_type": "execute_result"
    }
   ],
   "source": [
    "M = np.array([[3, 0, -1 ,2],\n",
    "              [4, 1, 3, -2],\n",
    "              [0, 2, -1, 3],\n",
    "              [1, 0, 1, 4]])\n",
    "M"
   ]
  },
  {
   "cell_type": "code",
   "execution_count": 52,
   "id": "128941ac",
   "metadata": {},
   "outputs": [
    {
     "data": {
      "text/plain": [
       "-146.0"
      ]
     },
     "execution_count": 52,
     "metadata": {},
     "output_type": "execute_result"
    }
   ],
   "source": [
    "np.linalg.det(M)"
   ]
  },
  {
   "cell_type": "code",
   "execution_count": 53,
   "id": "8943b094",
   "metadata": {},
   "outputs": [
    {
     "data": {
      "text/plain": [
       "array([[ 1,  0,  0],\n",
       "       [ 4,  6,  0],\n",
       "       [-2,  1, -4]])"
      ]
     },
     "execution_count": 53,
     "metadata": {},
     "output_type": "execute_result"
    }
   ],
   "source": [
    "L = np.array([[1, 0, 0],\n",
    "              [4, 6, 0],\n",
    "              [-2, 1, -4]])\n",
    "\n",
    "L"
   ]
  },
  {
   "cell_type": "code",
   "execution_count": 54,
   "id": "b8b6be36",
   "metadata": {},
   "outputs": [
    {
     "data": {
      "text/plain": [
       "-23.999999999999993"
      ]
     },
     "execution_count": 54,
     "metadata": {},
     "output_type": "execute_result"
    }
   ],
   "source": [
    "np.linalg.det(L)"
   ]
  },
  {
   "cell_type": "code",
   "execution_count": 55,
   "id": "1607ff76",
   "metadata": {},
   "outputs": [
    {
     "data": {
      "text/plain": [
       "-24"
      ]
     },
     "execution_count": 55,
     "metadata": {},
     "output_type": "execute_result"
    }
   ],
   "source": [
    "1*6*-4"
   ]
  },
  {
   "cell_type": "code",
   "execution_count": 56,
   "id": "d575bb17",
   "metadata": {},
   "outputs": [
    {
     "data": {
      "text/plain": [
       "array([[ 1, -3,  3],\n",
       "       [ 0, -1,  2],\n",
       "       [ 0,  0,  1]])"
      ]
     },
     "execution_count": 56,
     "metadata": {},
     "output_type": "execute_result"
    }
   ],
   "source": [
    "U = np.array([[1, -3, 3],\n",
    "              [0, -1, 2],\n",
    "              [0, 0, 1]])\n",
    "\n",
    "U"
   ]
  },
  {
   "cell_type": "code",
   "execution_count": 57,
   "id": "e914ea66",
   "metadata": {},
   "outputs": [
    {
     "data": {
      "text/plain": [
       "-1.0"
      ]
     },
     "execution_count": 57,
     "metadata": {},
     "output_type": "execute_result"
    }
   ],
   "source": [
    "np.linalg.det(U)"
   ]
  },
  {
   "cell_type": "markdown",
   "id": "ac113076",
   "metadata": {},
   "source": [
    "### Inverse of a Matrix\n",
    "\n",
    "If the product of two square matrices $A \\ast B$\n",
    "\n",
    "equals to identity matrix, then B is inverse of A (and A is inverse of B)\n",
    "\n",
    "A matrix is said to be invertible if it has an inverse. \n",
    "\n",
    "The inverse of a matrix is unique; that is, for an invertible matrix, there is only one inverse for that matrix. "
   ]
  },
  {
   "cell_type": "code",
   "execution_count": 58,
   "id": "eb102955",
   "metadata": {},
   "outputs": [
    {
     "data": {
      "text/plain": [
       "array([[1, 2],\n",
       "       [3, 4]])"
      ]
     },
     "execution_count": 58,
     "metadata": {},
     "output_type": "execute_result"
    }
   ],
   "source": [
    "A = np.array([[1, 2], [3, 4]])\n",
    "A"
   ]
  },
  {
   "cell_type": "markdown",
   "id": "3bfea621",
   "metadata": {},
   "source": [
    "### For a $2 \\times 2$, analytica solution of matrix inverse:\n",
    "\n",
    "$$ M^{-1} = \\begin{bmatrix} a & b \\\\ c & d \\end{bmatrix}^{-1} =\\frac{1}{|M|}\\begin{bmatrix}d & -b \\\\ -c & a \\end{bmatrix} $$\n",
    "\n"
   ]
  },
  {
   "cell_type": "code",
   "execution_count": 59,
   "id": "8ca55786",
   "metadata": {},
   "outputs": [
    {
     "data": {
      "text/plain": [
       "-2.0000000000000004"
      ]
     },
     "execution_count": 59,
     "metadata": {},
     "output_type": "execute_result"
    }
   ],
   "source": [
    "np.linalg.det(A)"
   ]
  },
  {
   "cell_type": "code",
   "execution_count": 60,
   "id": "1a6bade2",
   "metadata": {},
   "outputs": [
    {
     "data": {
      "text/plain": [
       "array([[-2. ,  1. ],\n",
       "       [ 1.5, -0.5]])"
      ]
     },
     "execution_count": 60,
     "metadata": {},
     "output_type": "execute_result"
    }
   ],
   "source": [
    "#Inverse of a Matrix\n",
    "np.linalg.inv(A)"
   ]
  },
  {
   "cell_type": "code",
   "execution_count": 61,
   "id": "cdfd73ca",
   "metadata": {},
   "outputs": [
    {
     "data": {
      "text/plain": [
       "3.0"
      ]
     },
     "execution_count": 61,
     "metadata": {},
     "output_type": "execute_result"
    }
   ],
   "source": [
    "##L2-norm of a vector --> sqrt of the sum of squares of elements of a vector\n",
    "a = np.array([1, 2, 2])\n",
    "a\n",
    "\n",
    "np.linalg.norm(a)"
   ]
  },
  {
   "cell_type": "markdown",
   "id": "1f1203d5",
   "metadata": {},
   "source": [
    "### Matrix Norms\n",
    "\n",
    "$$ \\lVert M \\rVert_{p} = \\Big( \\sum_{i=1}^n \\sum_{j=1}^m \\mid a_{ij} \\mid^{p} \\Big)^{1/p}$$\n",
    "\n",
    "Fornenium norm (Eucledian norm) of $M_{n \\times m}$:\n",
    "\n",
    "$$ \\lVert M \\rVert = \\Big( \\sum_{i=1}^n \\sum_{j=1}^m \\mid a_{ij} \\mid^{2} \\Big)^{1/2}$$\n",
    "\n",
    "1-norm:\n",
    "\n",
    "$$ \\lVert M \\rVert_{1} = \\max\\limits_{1\\le j \\le m} \\sum_{i=1}^n \\mid a_{ij} \\mid $$\n",
    "\n",
    "infinite-norm:\n",
    "\n",
    "$$ \\lVert M \\rVert_{\\infty} = \\max\\limits_{1\\le i \\le n} \\sum_{j=1}^m \\mid a_{ij} \\mid $$"
   ]
  },
  {
   "cell_type": "code",
   "execution_count": 62,
   "id": "a74963eb",
   "metadata": {},
   "outputs": [
    {
     "data": {
      "text/plain": [
       "array([[1, 2],\n",
       "       [3, 4]])"
      ]
     },
     "execution_count": 62,
     "metadata": {},
     "output_type": "execute_result"
    }
   ],
   "source": [
    "A"
   ]
  },
  {
   "cell_type": "code",
   "execution_count": 63,
   "id": "617d4aed",
   "metadata": {},
   "outputs": [
    {
     "data": {
      "text/plain": [
       "5.477225575051661"
      ]
     },
     "execution_count": 63,
     "metadata": {},
     "output_type": "execute_result"
    }
   ],
   "source": [
    "## norm (or Eucliedian norm of a Matrix)\n",
    "np.linalg.norm(A, ord=None)"
   ]
  },
  {
   "cell_type": "code",
   "execution_count": 64,
   "id": "ed3cc157",
   "metadata": {},
   "outputs": [
    {
     "data": {
      "text/plain": [
       "5.477225575051661"
      ]
     },
     "execution_count": 64,
     "metadata": {},
     "output_type": "execute_result"
    }
   ],
   "source": [
    "np.linalg.norm(A, ord='fro')"
   ]
  },
  {
   "cell_type": "code",
   "execution_count": 65,
   "id": "a583ca66",
   "metadata": {},
   "outputs": [
    {
     "data": {
      "text/plain": [
       "6.0"
      ]
     },
     "execution_count": 65,
     "metadata": {},
     "output_type": "execute_result"
    }
   ],
   "source": [
    "## 1-norm (max absolute column sum)\n",
    "np.linalg.norm(A, ord=1)"
   ]
  },
  {
   "cell_type": "code",
   "execution_count": 66,
   "id": "813bec38",
   "metadata": {},
   "outputs": [
    {
     "data": {
      "text/plain": [
       "7.0"
      ]
     },
     "execution_count": 66,
     "metadata": {},
     "output_type": "execute_result"
    }
   ],
   "source": [
    "## infinite-norm (max absolute row sum)\n",
    "np.linalg.norm(A, ord=np.inf)"
   ]
  },
  {
   "cell_type": "code",
   "execution_count": 67,
   "id": "c8621c98",
   "metadata": {},
   "outputs": [
    {
     "data": {
      "text/plain": [
       "array([[0.91647597, 0.02766248, 0.18185507],\n",
       "       [0.21375288, 0.2710276 , 0.16407739],\n",
       "       [0.74737253, 0.8814373 , 0.71279972]])"
      ]
     },
     "execution_count": 67,
     "metadata": {},
     "output_type": "execute_result"
    }
   ],
   "source": [
    "A = np.random.rand(3,3)\n",
    "A.shape\n",
    "A"
   ]
  },
  {
   "cell_type": "code",
   "execution_count": 68,
   "id": "a0efdbf9",
   "metadata": {},
   "outputs": [
    {
     "data": {
      "text/plain": [
       "array([[0.97951399],\n",
       "       [0.91036182],\n",
       "       [0.65641842]])"
      ]
     },
     "execution_count": 68,
     "metadata": {},
     "output_type": "execute_result"
    }
   ],
   "source": [
    "b = np.random.rand(3,1)\n",
    "b"
   ]
  },
  {
   "cell_type": "code",
   "execution_count": 69,
   "id": "722e1201",
   "metadata": {},
   "outputs": [
    {
     "data": {
      "text/plain": [
       "array([[0.91647597, 0.02766248, 0.18185507, 0.97951399],\n",
       "       [0.21375288, 0.2710276 , 0.16407739, 0.91036182],\n",
       "       [0.74737253, 0.8814373 , 0.71279972, 0.65641842]])"
      ]
     },
     "execution_count": 69,
     "metadata": {},
     "output_type": "execute_result"
    }
   ],
   "source": [
    "#horizontal-stacking\n",
    "\n",
    "B = np.hstack((A,b))\n",
    "B"
   ]
  },
  {
   "cell_type": "code",
   "execution_count": 70,
   "id": "72f8c94f",
   "metadata": {},
   "outputs": [
    {
     "data": {
      "text/plain": [
       "array([[0.91647597, 0.02766248, 0.18185507],\n",
       "       [0.21375288, 0.2710276 , 0.16407739],\n",
       "       [0.74737253, 0.8814373 , 0.71279972],\n",
       "       [0.97951399, 0.91036182, 0.65641842]])"
      ]
     },
     "execution_count": 70,
     "metadata": {},
     "output_type": "execute_result"
    }
   ],
   "source": [
    "# vertical-stacking\n",
    "\n",
    "B = np.vstack((A,np.transpose(b)))\n",
    "B"
   ]
  },
  {
   "cell_type": "code",
   "execution_count": 71,
   "id": "05debe72",
   "metadata": {},
   "outputs": [],
   "source": [
    "# Elementary row operations in matrices\n",
    "#1. Add m times row j to row i\n",
    "#2. Multiply row i by scalar m\n",
    "#3. Swap or switch rows i and j"
   ]
  },
  {
   "cell_type": "code",
   "execution_count": 72,
   "id": "42dbc279",
   "metadata": {},
   "outputs": [
    {
     "data": {
      "text/plain": [
       "array([[ 1,  1,  1],\n",
       "       [-1,  3,  1],\n",
       "       [ 0,  5,  2]])"
      ]
     },
     "execution_count": 72,
     "metadata": {},
     "output_type": "execute_result"
    }
   ],
   "source": [
    "A = np.array([[1,1,1],[-1,3,1],[0,5,2]])\n",
    "A"
   ]
  },
  {
   "cell_type": "code",
   "execution_count": 73,
   "id": "9a4530f5",
   "metadata": {},
   "outputs": [
    {
     "data": {
      "text/plain": [
       "array([[1. , 0.2, 0. ],\n",
       "       [0. , 1. , 0. ],\n",
       "       [0. , 0. , 1. ]])"
      ]
     },
     "execution_count": 73,
     "metadata": {},
     "output_type": "execute_result"
    }
   ],
   "source": [
    "# Multiply Row 1 of A (note row indices from 0, 1, 2) by 1/5 \n",
    "# and add to Row 0 of A\n",
    "# Construct a matrix E1 for this operation\n",
    "\n",
    "E1 = np.array([[1,1/5,0],[0,1,0],[0,0,1]])\n",
    "E1"
   ]
  },
  {
   "cell_type": "code",
   "execution_count": 74,
   "id": "c2c25434",
   "metadata": {},
   "outputs": [
    {
     "data": {
      "text/plain": [
       "array([[ 0.8,  1.6,  1.2],\n",
       "       [-1. ,  3. ,  1. ],\n",
       "       [ 0. ,  5. ,  2. ]])"
      ]
     },
     "execution_count": 74,
     "metadata": {},
     "output_type": "execute_result"
    }
   ],
   "source": [
    "np.matmul(E1,A)"
   ]
  },
  {
   "cell_type": "code",
   "execution_count": 75,
   "id": "bd73cd8a",
   "metadata": {},
   "outputs": [
    {
     "data": {
      "text/plain": [
       "array([[ 0.8,  1.6,  1.2],\n",
       "       [-1. ,  3. ,  1. ],\n",
       "       [ 0. ,  5. ,  2. ]])"
      ]
     },
     "execution_count": 75,
     "metadata": {},
     "output_type": "execute_result"
    }
   ],
   "source": [
    "np.dot(E1,A)"
   ]
  },
  {
   "cell_type": "code",
   "execution_count": 76,
   "id": "28d44c3b",
   "metadata": {},
   "outputs": [
    {
     "data": {
      "text/plain": [
       "array([[ 0.8,  1.6,  1.2],\n",
       "       [-1. ,  3. ,  1. ],\n",
       "       [ 0. ,  5. ,  2. ]])"
      ]
     },
     "execution_count": 76,
     "metadata": {},
     "output_type": "execute_result"
    }
   ],
   "source": [
    "E1@A"
   ]
  },
  {
   "cell_type": "code",
   "execution_count": 77,
   "id": "aaba91c0",
   "metadata": {},
   "outputs": [
    {
     "data": {
      "text/plain": [
       "array([[1, 0, 0],\n",
       "       [1, 1, 0],\n",
       "       [0, 0, 1]])"
      ]
     },
     "execution_count": 77,
     "metadata": {},
     "output_type": "execute_result"
    }
   ],
   "source": [
    "#R2== R2+R1\n",
    "#construct a matrix for this operation\n",
    "\n",
    "E2 = np.array([[1, 0, 0], [1, 1, 0], [0, 0, 1]])\n",
    "E2"
   ]
  },
  {
   "cell_type": "code",
   "execution_count": 78,
   "id": "afa082c0",
   "metadata": {},
   "outputs": [
    {
     "data": {
      "text/plain": [
       "array([[1, 1, 1],\n",
       "       [0, 4, 2],\n",
       "       [0, 5, 2]])"
      ]
     },
     "execution_count": 78,
     "metadata": {},
     "output_type": "execute_result"
    }
   ],
   "source": [
    "E2@A"
   ]
  },
  {
   "cell_type": "code",
   "execution_count": 79,
   "id": "cd515655",
   "metadata": {},
   "outputs": [
    {
     "data": {
      "text/plain": [
       "array([[ 1,  0,  0],\n",
       "       [ 0, -2,  0],\n",
       "       [ 0,  0,  1]])"
      ]
     },
     "execution_count": 79,
     "metadata": {},
     "output_type": "execute_result"
    }
   ],
   "source": [
    "#R2 == -2*R2\n",
    "#construct a matrix for this operation\n",
    "\n",
    "E3 = np.array([[1, 0, 0], [0, -2, 0], [0, 0, 1]])\n",
    "E3"
   ]
  },
  {
   "cell_type": "code",
   "execution_count": 80,
   "id": "2488e484",
   "metadata": {},
   "outputs": [
    {
     "data": {
      "text/plain": [
       "array([[ 1,  1,  1],\n",
       "       [ 2, -6, -2],\n",
       "       [ 0,  5,  2]])"
      ]
     },
     "execution_count": 80,
     "metadata": {},
     "output_type": "execute_result"
    }
   ],
   "source": [
    "E3@A"
   ]
  },
  {
   "cell_type": "code",
   "execution_count": 81,
   "id": "d62e3501",
   "metadata": {},
   "outputs": [
    {
     "data": {
      "text/plain": [
       "array([[ 1,  1,  1],\n",
       "       [-1,  3,  1],\n",
       "       [ 0,  5,  2]])"
      ]
     },
     "execution_count": 81,
     "metadata": {},
     "output_type": "execute_result"
    }
   ],
   "source": [
    "A"
   ]
  },
  {
   "cell_type": "code",
   "execution_count": 82,
   "id": "ba35b8ff",
   "metadata": {},
   "outputs": [
    {
     "data": {
      "text/plain": [
       "array([[0, 0, 1],\n",
       "       [0, 1, 0],\n",
       "       [1, 0, 0]])"
      ]
     },
     "execution_count": 82,
     "metadata": {},
     "output_type": "execute_result"
    }
   ],
   "source": [
    "## swap rows 0 and 2 \n",
    "E4 = np.array([[0,0,1],[0,1,0],[1,0,0]])\n",
    "E4"
   ]
  },
  {
   "cell_type": "code",
   "execution_count": 83,
   "id": "bb9cf2ca",
   "metadata": {},
   "outputs": [
    {
     "data": {
      "text/plain": [
       "array([[ 0,  5,  2],\n",
       "       [-1,  3,  1],\n",
       "       [ 1,  1,  1]])"
      ]
     },
     "execution_count": 83,
     "metadata": {},
     "output_type": "execute_result"
    }
   ],
   "source": [
    "E4@A"
   ]
  },
  {
   "cell_type": "code",
   "execution_count": 84,
   "id": "10c4e426",
   "metadata": {},
   "outputs": [],
   "source": [
    "def add_row(A,m,i,j):\n",
    "    \n",
    "    '''\n",
    "    m: multiplier\n",
    "    Add m times row j to row i in a matrix A\n",
    "    '''\n",
    "    # n stores the the size of a matrix A of size n x n\n",
    "    n = A.shape[0] # row dimension of A\n",
    "    E = np.eye(n) # nxn identity matrix\n",
    "    if i==j:\n",
    "        E[i,j] = m + 1\n",
    "    else:\n",
    "        E[i,j] = m\n",
    "    return E @ A"
   ]
  },
  {
   "cell_type": "code",
   "execution_count": 86,
   "id": "97e9a76e",
   "metadata": {},
   "outputs": [
    {
     "data": {
      "text/plain": [
       "array([[1, 1, 1, 1],\n",
       "       [3, 2, 2, 2],\n",
       "       [2, 1, 1, 0]])"
      ]
     },
     "execution_count": 86,
     "metadata": {},
     "output_type": "execute_result"
    }
   ],
   "source": [
    "B=np.array([[1,1,1,1],[3,2,2,2], [2,1,1,0]])\n",
    "B"
   ]
  },
  {
   "cell_type": "code",
   "execution_count": 88,
   "id": "f88806d1",
   "metadata": {},
   "outputs": [
    {
     "data": {
      "text/plain": [
       "array([[ 1.,  1.,  1.,  1.],\n",
       "       [ 3.,  2.,  2.,  2.],\n",
       "       [ 1.,  0.,  0., -1.]])"
      ]
     },
     "execution_count": 88,
     "metadata": {},
     "output_type": "execute_result"
    }
   ],
   "source": [
    "add_row(B,-1,2,0)"
   ]
  },
  {
   "cell_type": "code",
   "execution_count": 89,
   "id": "61a598f9",
   "metadata": {},
   "outputs": [],
   "source": [
    "def scale_row(A,s,i):\n",
    "    '''\n",
    "    A: a matrix \n",
    "    s: scale factor\n",
    "    Multiply row i of A by scale factor s\n",
    "    '''\n",
    "    n = A.shape[0]\n",
    "    E = np.eye(n)\n",
    "# [i,i] is the index of diagonal element of row i that is scaled by s\n",
    "    E[i,i] = s\n",
    "    return E @ A"
   ]
  },
  {
   "cell_type": "code",
   "execution_count": 90,
   "id": "a4cd3f8b",
   "metadata": {},
   "outputs": [
    {
     "data": {
      "text/plain": [
       "array([[1, 1, 1, 1],\n",
       "       [3, 2, 2, 2],\n",
       "       [2, 1, 1, 0]])"
      ]
     },
     "execution_count": 90,
     "metadata": {},
     "output_type": "execute_result"
    }
   ],
   "source": [
    "B=np.array([[1,1,1,1],[3,2,2,2], [2,1,1,0]])\n",
    "B"
   ]
  },
  {
   "cell_type": "code",
   "execution_count": 91,
   "id": "8911fc03",
   "metadata": {},
   "outputs": [
    {
     "data": {
      "text/plain": [
       "array([[10., 10., 10., 10.],\n",
       "       [ 3.,  2.,  2.,  2.],\n",
       "       [ 2.,  1.,  1.,  0.]])"
      ]
     },
     "execution_count": 91,
     "metadata": {},
     "output_type": "execute_result"
    }
   ],
   "source": [
    "scale_row(B,10,0)"
   ]
  },
  {
   "cell_type": "code",
   "execution_count": 98,
   "id": "a90a86e2",
   "metadata": {},
   "outputs": [
    {
     "data": {
      "text/plain": [
       "array([[0.44033037, 0.29455635, 0.88818619],\n",
       "       [0.98359645, 0.57111367, 0.12457728],\n",
       "       [0.39647254, 0.62562807, 0.63446191],\n",
       "       [0.8750779 , 0.5407354 , 0.53800486]])"
      ]
     },
     "execution_count": 98,
     "metadata": {},
     "output_type": "execute_result"
    }
   ],
   "source": [
    "B=np.random.rand(4,3)\n",
    "B"
   ]
  },
  {
   "cell_type": "code",
   "execution_count": 99,
   "id": "7f599d8d",
   "metadata": {},
   "outputs": [
    {
     "data": {
      "text/plain": [
       "4"
      ]
     },
     "execution_count": 99,
     "metadata": {},
     "output_type": "execute_result"
    }
   ],
   "source": [
    "n=B.shape[0]\n",
    "n"
   ]
  },
  {
   "cell_type": "code",
   "execution_count": 100,
   "id": "0f8c644e",
   "metadata": {},
   "outputs": [
    {
     "data": {
      "text/plain": [
       "array([[1., 0., 0., 0.],\n",
       "       [0., 1., 0., 0.],\n",
       "       [0., 0., 1., 0.],\n",
       "       [0., 0., 0., 1.]])"
      ]
     },
     "execution_count": 100,
     "metadata": {},
     "output_type": "execute_result"
    }
   ],
   "source": [
    "I=np.eye(n)\n",
    "I"
   ]
  },
  {
   "cell_type": "code",
   "execution_count": 102,
   "id": "07850f7b",
   "metadata": {},
   "outputs": [
    {
     "name": "stdout",
     "output_type": "stream",
     "text": [
      "[[0.0690943  0.91819031 0.00623497]\n",
      " [0.63138322 0.26315372 0.2392418 ]\n",
      " [0.33929223 0.28742849 0.297444  ]\n",
      " [0.5083793  0.65486998 0.19407323]]\n",
      "[[1. 0. 0. 0.]\n",
      " [0. 1. 0. 0.]\n",
      " [0. 0. 1. 0.]\n",
      " [0. 0. 0. 1.]]\n",
      "[0.5083793  0.65486998 0.19407323]\n",
      "[[0.5083793  0.65486998 0.19407323]\n",
      " [0.63138322 0.26315372 0.2392418 ]\n",
      " [0.33929223 0.28742849 0.297444  ]\n",
      " [0.0690943  0.91819031 0.00623497]]\n"
     ]
    }
   ],
   "source": [
    "B=np.random.rand(4,3)\n",
    "n=B.shape[0]\n",
    "I=np.eye(n)\n",
    "print(B)\n",
    "print(I)\n",
    "print(B[3,:])\n",
    "I[0,0]=0\n",
    "I[3,3]=0\n",
    "I[0,3]=1\n",
    "I[3,0]=1\n",
    "print(I@B)\n",
    "\n",
    "# A is m x n\n",
    "# E is m x m identity\n",
    "# E x A will give A (mxm)x(mxn)=(mxn) \n",
    "# Swap rows in E\n",
    "# E @ A = mxn swapped A matrix"
   ]
  },
  {
   "cell_type": "code",
   "execution_count": 103,
   "id": "4e56c200",
   "metadata": {},
   "outputs": [],
   "source": [
    "def swap_rows(A,i,j):\n",
    "    '''\n",
    "    Interchange rows i and j of a matrix A\n",
    "    Note the identity matrix E is always a square matrix\n",
    "    Swap rows of identity matrix E to interchange rows of A\n",
    "    Returns E @ A\n",
    "    '''\n",
    "    n = A.shape[0]\n",
    "    E = np.eye(n)\n",
    "    E[i,i] = 0\n",
    "    E[j,j] = 0\n",
    "    E[i,j] = 1\n",
    "    E[j,i] = 1\n",
    "    return E @ A"
   ]
  },
  {
   "cell_type": "code",
   "execution_count": 104,
   "id": "21f2c81e",
   "metadata": {},
   "outputs": [
    {
     "name": "stdout",
     "output_type": "stream",
     "text": [
      "2\n",
      "[[ 1  1  1]\n",
      " [ 1 -1  0]]\n"
     ]
    },
    {
     "data": {
      "text/plain": [
       "array([[ 1., -1.,  0.],\n",
       "       [ 1.,  1.,  1.]])"
      ]
     },
     "execution_count": 104,
     "metadata": {},
     "output_type": "execute_result"
    }
   ],
   "source": [
    "A = np.array([[1,1,1],[1,-1,0]])\n",
    "print(A.shape[0])\n",
    "print(A)\n",
    "swap_rows(A,0,1)"
   ]
  },
  {
   "cell_type": "code",
   "execution_count": null,
   "id": "14eeef35",
   "metadata": {},
   "outputs": [],
   "source": []
  }
 ],
 "metadata": {
  "kernelspec": {
   "display_name": "Python 3 (ipykernel)",
   "language": "python",
   "name": "python3"
  },
  "language_info": {
   "codemirror_mode": {
    "name": "ipython",
    "version": 3
   },
   "file_extension": ".py",
   "mimetype": "text/x-python",
   "name": "python",
   "nbconvert_exporter": "python",
   "pygments_lexer": "ipython3",
   "version": "3.10.6"
  }
 },
 "nbformat": 4,
 "nbformat_minor": 5
}
