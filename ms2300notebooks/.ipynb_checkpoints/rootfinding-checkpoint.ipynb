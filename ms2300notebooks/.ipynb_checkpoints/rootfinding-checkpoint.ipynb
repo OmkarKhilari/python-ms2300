{
 "cells": [
  {
   "cell_type": "code",
   "execution_count": 1,
   "id": "d03bd60b",
   "metadata": {},
   "outputs": [],
   "source": [
    "import numpy as np"
   ]
  },
  {
   "cell_type": "code",
   "execution_count": 2,
   "id": "876addac",
   "metadata": {},
   "outputs": [],
   "source": [
    "## Define a function\n",
    "\n",
    "def f(x):\n",
    "    return x**3 - 15*x - 4.0"
   ]
  },
  {
   "cell_type": "code",
   "execution_count": 3,
   "id": "592e8aef",
   "metadata": {},
   "outputs": [],
   "source": [
    "## Bisection function\n",
    "\n",
    "def bisect(f, x1, x2, tol=0.00001):\n",
    "    if f(x1)*f(x2) > 0:\n",
    "        print('Change the choice of interval')\n",
    "        return\n",
    "    #otherwise - search for root within 500 iterations\n",
    "    for i in range(500):\n",
    "        xm = (x1+x2)/2\n",
    "        if f(x1)*f(xm) < 0.0:\n",
    "            x2 = xm\n",
    "        else:\n",
    "            x1 = xm\n",
    "        print('xm =',xm)\n",
    "        print('f(xm) =', f(xm))\n",
    "        #set up tolerance criteria\n",
    "#        if -tol <= f(xm) <= tol:\n",
    "        if abs(f(xm)) <= tol:\n",
    "#            print('found root')\n",
    "            return xm\n",
    "            break\n",
    "\n",
    "    print('cannot find the root')\n",
    "    return xm"
   ]
  },
  {
   "cell_type": "code",
   "execution_count": 4,
   "id": "3ccff84f",
   "metadata": {},
   "outputs": [],
   "source": [
    "%matplotlib inline\n",
    "import matplotlib.pyplot as plt"
   ]
  },
  {
   "cell_type": "code",
   "execution_count": 5,
   "id": "cdc4a6f3",
   "metadata": {},
   "outputs": [
    {
     "data": {
      "image/png": "[encoded data removed]",
      "text/plain": [
       "<Figure size 640x480 with 1 Axes>"
      ]
     },
     "metadata": {},
     "output_type": "display_data"
    }
   ],
   "source": [
    "plt.rc(\"font\", size=18)\n",
    "\n",
    "#data\n",
    "x = np.linspace(-10, 10, 100)\n",
    "\n",
    "fig, ax = plt.subplots()\n",
    "ax.plot(x, f(x))\n",
    "\n",
    "ax.set(xlabel='x', ylabel='f(x)')\n",
    "ax.set_ylim(-50, 50)\n",
    "#ax.set_xticks(np.arange(-10, 10.01,2))\n",
    "\n",
    "ax.grid()\n",
    "\n",
    "plt.show()"
   ]
  },
  {
   "cell_type": "code",
   "execution_count": 6,
   "id": "0e84c886-72e8-46b4-aa44-24059d18e7a3",
   "metadata": {},
   "outputs": [
    {
     "name": "stdout",
     "output_type": "stream",
     "text": [
      "xm = 3.5\n",
      "f(xm) = -13.625\n",
      "xm = 4.75\n",
      "f(xm) = 31.921875\n",
      "xm = 4.125\n",
      "f(xm) = 4.314453125\n",
      "xm = 3.8125\n",
      "f(xm) = -5.772216796875\n",
      "xm = 3.96875\n",
      "f(xm) = -1.019561767578125\n",
      "xm = 4.046875\n",
      "f(xm) = 1.5733451843261719\n",
      "xm = 4.0078125\n",
      "f(xm) = 0.2585453987121582\n",
      "xm = 3.98828125\n",
      "f(xm) = -0.38507241010665894\n",
      "xm = 3.998046875\n",
      "f(xm) = -0.0644073560833931\n",
      "xm = 4.0029296875\n",
      "f(xm) = 0.09678270947188139\n",
      "xm = 4.00048828125\n",
      "f(xm) = 0.01611614238936454\n",
      "xm = 3.999267578125\n",
      "f(xm) = -0.02416348496626597\n",
      "xm = 3.9998779296875\n",
      "f(xm) = -0.004028141500384663\n",
      "xm = 4.00018310546875\n",
      "f(xm) = 0.006042882806241323\n",
      "xm = 4.000030517578125\n",
      "f(xm) = 0.001007091254024317\n",
      "xm = 3.9999542236328125\n",
      "f(xm) = -0.0015105949715774614\n",
      "xm = 3.9999923706054688\n",
      "f(xm) = -0.00025176932103931904\n",
      "xm = 4.000011444091797\n",
      "f(xm) = 0.00037765660090371966\n",
      "xm = 4.000001907348633\n",
      "f(xm) = 6.294254853855819e-05\n",
      "xm = 3.999997138977051\n",
      "f(xm) = -9.441365909879096e-05\n",
      "xm = 3.999999523162842\n",
      "f(xm) = -1.573562349221902e-05\n",
      "xm = 4.000000715255737\n",
      "f(xm) = 2.3603445470143924e-05\n",
      "xm = 4.0000001192092896\n",
      "f(xm) = 3.933906725706038e-06\n",
      "xm = 3.9999998211860657\n",
      "f(xm) = -5.9008594490705946e-06\n",
      "xm = 3.9999999701976776\n",
      "f(xm) = -9.83476631688518e-07\n",
      "root = 3.9999999701976776\n",
      "func val =, -9.83476631688518e-07\n"
     ]
    }
   ],
   "source": [
    "x1 = 6\n",
    "x2 = 1\n",
    "tol = 1e-6\n",
    "\n",
    "#import time\n",
    "#tstart = time.time()\n",
    "\n",
    "root = bisect(f, x1, x2, tol)\n",
    "print('root =', root)\n",
    "print('func val =,', f(root))\n",
    "\n",
    "#tstop = time.time()\n",
    "#t = tstop-tstart\n",
    "#print('total time taken =', t)"
   ]
  },
  {
   "cell_type": "code",
   "execution_count": 7,
   "id": "68343f1a",
   "metadata": {},
   "outputs": [],
   "source": [
    "#Ref:https://pythonnumericalmethods.berkeley.edu/notebooks/chapter19.03-Bisection-Method.html\n",
    "def my_bisection(f,a,b,tol):\n",
    "    if np.sign(f(a)) == np.sign(f(b)):\n",
    "        print('error')\n",
    "        raise Exception(\"a and b do not bound the root\")\n",
    "    #get midpoint\n",
    "    m = (a + b)/2\n",
    "#    print(a, b, m)\n",
    "#    print(f(m))\n",
    "    if np.abs(f(m)) < tol:\n",
    "#        print('found root')\n",
    "        #found the root, equal to xm\n",
    "        return m\n",
    "    elif np.sign(f(a)) == np.sign(f(m)):\n",
    "#        print('switch a to m')\n",
    "        return my_bisection(f,m,b,tol)\n",
    "    elif np.sign(f(b)) == np.sign(f(m)):\n",
    "#        print('switch b to m')\n",
    "        return my_bisection(f,a,m,tol)"
   ]
  },
  {
   "cell_type": "code",
   "execution_count": 8,
   "id": "55bd9a30-fdf1-49e5-be31-cd2642da2ced",
   "metadata": {},
   "outputs": [
    {
     "data": {
      "text/plain": [
       "-3.7320507913827896"
      ]
     },
     "execution_count": 8,
     "metadata": {},
     "output_type": "execute_result"
    }
   ],
   "source": [
    "x1 = -6\n",
    "x2 = -1\n",
    "\n",
    "root_fun2 = my_bisection(f, x1, x2, tol)\n",
    "\n",
    "root_fun2"
   ]
  },
  {
   "cell_type": "code",
   "execution_count": 9,
   "id": "8abf878a",
   "metadata": {},
   "outputs": [],
   "source": [
    "##Newton-raphson method"
   ]
  },
  {
   "cell_type": "code",
   "execution_count": 10,
   "id": "79b0a0b7",
   "metadata": {},
   "outputs": [],
   "source": [
    "# define function\n",
    "def f(x):\n",
    "    return x**3 - 15*x - 4\n",
    "\n",
    "def df(x):\n",
    "    return 3*x**2 - 15"
   ]
  },
  {
   "cell_type": "code",
   "execution_count": 11,
   "id": "b0932904",
   "metadata": {},
   "outputs": [],
   "source": [
    "def newtonraph(f, df, x1, tol):\n",
    "    #manually-hard-code to run for specific iterations\n",
    "    for i in range(500):\n",
    "        x2 = x1 - f(x1)/df(x1)\n",
    "        if abs(f(x2)) < tol:\n",
    "            print('found root')\n",
    "            return x2\n",
    "            break\n",
    "        x1 = x2\n",
    "\n",
    "    print('root not found')\n",
    "    "
   ]
  },
  {
   "cell_type": "code",
   "execution_count": 12,
   "id": "a167a79c",
   "metadata": {},
   "outputs": [
    {
     "name": "stdout",
     "output_type": "stream",
     "text": [
      "found root\n"
     ]
    }
   ],
   "source": [
    "x1 = 6\n",
    "root = newtonraph(f, df, x1, tol=1e-6)"
   ]
  },
  {
   "cell_type": "code",
   "execution_count": 13,
   "id": "fdbe3e23",
   "metadata": {},
   "outputs": [],
   "source": [
    "#https://pythonnumericalmethods.berkeley.edu/notebooks/chapter19.04-Newton-Raphson-Method.html\n",
    "def my_newton(f, df, x1, tol):\n",
    "    # output is an estimation of the root of f \n",
    "    # using the Newton Raphson method\n",
    "    # recursive implementation\n",
    "    if abs(f(x1)) < tol:\n",
    "        return x1\n",
    "    else:\n",
    "        return my_newton(f, df, x1 - f(x1)/df(x1), tol)"
   ]
  },
  {
   "cell_type": "code",
   "execution_count": 14,
   "id": "0e466afb-ee40-4268-b57f-f3bd2b54c5e5",
   "metadata": {},
   "outputs": [],
   "source": [
    "# define function\n",
    "def f(x):\n",
    "    return x**3 - x**2 - 1\n",
    "\n",
    "def df(x):\n",
    "    return 3*x**2 - 2*x"
   ]
  },
  {
   "cell_type": "code",
   "execution_count": 15,
   "id": "72f401b2-20a5-425f-92d7-78c4692c00ef",
   "metadata": {},
   "outputs": [
    {
     "name": "stdout",
     "output_type": "stream",
     "text": [
      "found root\n"
     ]
    },
    {
     "data": {
      "text/plain": [
       "1.4655712318913283"
      ]
     },
     "execution_count": 15,
     "metadata": {},
     "output_type": "execute_result"
    }
   ],
   "source": [
    "x1 = 30\n",
    "tol = 1e-5\n",
    "\n",
    "newtonraph(f, df, x1, tol)"
   ]
  },
  {
   "cell_type": "code",
   "execution_count": 16,
   "id": "0a299ede-01d1-401f-923a-e96f1e7db3c5",
   "metadata": {},
   "outputs": [],
   "source": [
    "# define function\n",
    "def f(x):\n",
    "    return x**(1/3)\n",
    "\n",
    "def df(x):\n",
    "    return (1/3)*x**(-2/3)"
   ]
  },
  {
   "cell_type": "code",
   "execution_count": 17,
   "id": "d39151f9-8586-425e-98e5-644ddc37b12f",
   "metadata": {},
   "outputs": [],
   "source": [
    "#x1 = 3\n",
    "#tol = 1e-5\n",
    "\n",
    "#newtonraph(f, df, x1, tol)"
   ]
  },
  {
   "cell_type": "code",
   "execution_count": 18,
   "id": "dcc1aa52",
   "metadata": {},
   "outputs": [
    {
     "data": {
      "image/png": "[encoded data removed]",
      "text/plain": [
       "<Figure size 640x480 with 1 Axes>"
      ]
     },
     "metadata": {},
     "output_type": "display_data"
    }
   ],
   "source": [
    "plt.rc(\"font\", size=18)\n",
    "\n",
    "#data\n",
    "x = np.linspace(1e-6, 1000, 100)\n",
    "#x = np.linspace(-10, -1, 100)\n",
    "\n",
    "fig, ax = plt.subplots()\n",
    "ax.plot(x, x**(1/3)+10)\n",
    "\n",
    "ax.set(xlabel='x', ylabel='f(x)')\n",
    "#ax.set_ylim(-50, 50)\n",
    "#ax.set_xticks(np.arange(-10, 10.01,2))\n",
    "\n",
    "ax.grid()\n",
    "\n",
    "plt.show()"
   ]
  },
  {
   "cell_type": "code",
   "execution_count": 19,
   "id": "e86377d8",
   "metadata": {},
   "outputs": [],
   "source": [
    "# Secant method (https://en.wikipedia.org/wiki/Secant_method)"
   ]
  },
  {
   "cell_type": "code",
   "execution_count": null,
   "id": "039ce1f2-07be-40a4-a41c-93c968bd6144",
   "metadata": {},
   "outputs": [],
   "source": []
  }
 ],
 "metadata": {
  "kernelspec": {
   "display_name": "Python 3 (ipykernel)",
   "language": "python",
   "name": "python3"
  },
  "language_info": {
   "codemirror_mode": {
    "name": "ipython",
    "version": 3
   },
   "file_extension": ".py",
   "mimetype": "text/x-python",
   "name": "python",
   "nbconvert_exporter": "python",
   "pygments_lexer": "ipython3",
   "version": "3.10.6"
  }
 },
 "nbformat": 4,
 "nbformat_minor": 5
}
