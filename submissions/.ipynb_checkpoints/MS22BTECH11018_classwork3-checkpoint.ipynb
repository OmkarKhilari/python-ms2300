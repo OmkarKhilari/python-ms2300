{
 "cells": [
  {
   "cell_type": "code",
   "execution_count": null,
   "metadata": {},
   "outputs": [],
   "source": [
    "def f(x):\n",
    "    return x**2 - x - 2\n",
    "\n",
    "def df(x):\n",
    "    return 2*x - 1\n",
    "\n",
    "def minima_func(x0, alpha=0.5, tol=1e-3):\n",
    "    # x1 = x0 - alpha*df(x0)\n",
    "    iter_no = 0\n",
    "    for i in range(500):\n",
    "        x1 = x0 - alpha*df(x0)\n",
    "        iter_no += 1\n",
    "        if abs(df(x1) - 0) <= tol:\n",
    "            return x1, iter_no\n",
    "\n",
    "        x0 = x1\n",
    "\n",
    "    return None, iter_no    \n",
    "\n",
    "result = minima_func(5)\n",
    "minima = result[0]\n",
    "iterations = result[1]\n",
    "if minima != None:\n",
    "    print(\"Minima:\", minima)\n",
    "    print(\"No. of Iterations:\", iterations)\n",
    "else:\n",
    "    print(\"Minima not found\")\n"
   ]
  }
 ],
 "metadata": {
  "language_info": {
   "name": "python"
  },
  "orig_nbformat": 4
 },
 "nbformat": 4,
 "nbformat_minor": 2
}
