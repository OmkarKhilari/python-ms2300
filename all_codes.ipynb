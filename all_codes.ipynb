{
 "cells": [
  {
   "cell_type": "code",
   "execution_count": 13,
   "metadata": {},
   "outputs": [],
   "source": [
    "import numpy as np"
   ]
  },
  {
   "cell_type": "code",
   "execution_count": 14,
   "metadata": {},
   "outputs": [],
   "source": [
    "# swap rows\n",
    "def swap_rows(A,i,j):\n",
    "    '''\n",
    "    Interchange rows i and j of a matrix A\n",
    "    Note the identity matrix E is always a square matrix\n",
    "    Swap rows of identity matrix E to interchange rows of A\n",
    "    Returns E @ A\n",
    "    '''\n",
    "    n = A.shape[0]\n",
    "    E = np.eye(n)\n",
    "    E[i,i] = 0\n",
    "    E[j,j] = 0\n",
    "    E[i,j] = 1\n",
    "    E[j,i] = 1\n",
    "    return E @ A"
   ]
  },
  {
   "cell_type": "code",
   "execution_count": 15,
   "metadata": {},
   "outputs": [],
   "source": [
    "# add rows\n",
    "def add_rows(A,m,i,j):\n",
    "    \n",
    "    '''\n",
    "    m: multiplier\n",
    "    Add m times row j to row i in a matrix A\n",
    "    '''\n",
    "    # n stores the the size of a matrix A of size n x n\n",
    "    n = A.shape[0] # row dimension of A\n",
    "    E = np.eye(n) # nxn identity matrix\n",
    "    if i==j:\n",
    "        E[i,j] = m + 1\n",
    "    else:\n",
    "        E[i,j] = m\n",
    "    return E @ A"
   ]
  },
  {
   "cell_type": "code",
   "execution_count": 16,
   "metadata": {},
   "outputs": [],
   "source": [
    "# scale row\n",
    "def scale_row(A,s,i):\n",
    "    '''\n",
    "    A: a matrix \n",
    "    s: scale factor\n",
    "    Multiply row i of A by scale factor s\n",
    "    '''\n",
    "    n = A.shape[0]\n",
    "    E = np.eye(n)\n",
    "# [i,i] is the index of diagonal element of row i that is scaled by s\n",
    "    E[i,i] = s\n",
    "    return E @ A"
   ]
  },
  {
   "cell_type": "code",
   "execution_count": 17,
   "metadata": {},
   "outputs": [
    {
     "name": "stdout",
     "output_type": "stream",
     "text": [
      "Root found\n",
      "Root: 1.5874\n"
     ]
    }
   ],
   "source": [
    "# Bisection Method\n",
    "# Given : f, a, b, tol\n",
    "\n",
    "import numpy as np\n",
    "\n",
    "def bisection_method(f, a, b, tol):\n",
    "    if np.sign(f(a)) == np.sign(f(b)):\n",
    "        print(\"No root in the given interval\")\n",
    "        return None\n",
    "\n",
    "    start = a\n",
    "    end = b\n",
    "\n",
    "    for i in range(500):\n",
    "        mid = start + (end - start) / 2\n",
    "\n",
    "        if np.sign(f(mid)) == 0 or np.abs(f(mid)) <= tol:\n",
    "            print(\"Root found\")\n",
    "            return mid\n",
    "\n",
    "        if np.sign(f(mid)) != np.sign(f(start)):\n",
    "            end = mid\n",
    "        else:\n",
    "            start = mid\n",
    "\n",
    "    print(\"Maximum number of iterations reached. No root found.\")\n",
    "    return None\n",
    "\n",
    "def f(x):\n",
    "    return x**3 - 4\n",
    "\n",
    "result = bisection_method(f, -10, 10, 0.0001)\n",
    "print(\"Root:\", np.round(result,4))\n"
   ]
  },
  {
   "cell_type": "code",
   "execution_count": 18,
   "metadata": {},
   "outputs": [
    {
     "name": "stdout",
     "output_type": "stream",
     "text": [
      "Root found\n",
      "Root: 1.5874\n"
     ]
    }
   ],
   "source": [
    "# Newton-Raphson Method\n",
    "# Given : f, df, x0, tol\n",
    "# Formula : x1 = x0 - f(x0)/f'(x0)\n",
    "\n",
    "def newton_raphson(f, df, x0, tol):\n",
    "    for i in range(500):\n",
    "        x1 = x0 - f(x0)/df(x0)\n",
    "        if np.abs(f(x1)) <= tol:\n",
    "            print(\"Root found\")\n",
    "            return x1\n",
    "        x0 = x1\n",
    "    print(\"Maximum number of iterations reached. No root found.\")\n",
    "    return None    \n",
    "\n",
    "def f(x):\n",
    "    return x**3 - 4\n",
    "\n",
    "def df(x):\n",
    "    return 3*(x**2)\n",
    "\n",
    "result = newton_raphson(f, df, 1, 0.0001)\n",
    "print(\"Root:\", np.round(result,4))"
   ]
  },
  {
   "cell_type": "code",
   "execution_count": 19,
   "metadata": {},
   "outputs": [
    {
     "name": "stdout",
     "output_type": "stream",
     "text": [
      "Root found\n",
      "Root: 1.5874\n"
     ]
    }
   ],
   "source": [
    "# Secant Method\n",
    "# Given : f, x0, x1, tol\n",
    "# Formula : x2 = x1 - f(x1)(x1 - x0)/(f'(x1) - f'(x0))\n",
    "\n",
    "def secant_method(f, x0, x1, tol):\n",
    "    for i in range(500):\n",
    "        if f(x0) == f(x1):\n",
    "            print('Divide by zero error!')\n",
    "            break\n",
    "\n",
    "        x2 = x1 - f(x1)*((x1 - x0)/(f(x1) - f(x0)))\n",
    "\n",
    "        if np.abs(f(x2)) <= tol:\n",
    "            print(\"Root found\")\n",
    "            return x2\n",
    "        x0 = x1\n",
    "        x1 = x2\n",
    "    print(\"Maximum number of iterations reached. No root found.\")\n",
    "    return None\n",
    "\n",
    "def f(x):\n",
    "    return x**3 - 4\n",
    "\n",
    "result = secant_method(f, 1, 100, 0.0001)\n",
    "print(\"Root:\", np.round(result,4))"
   ]
  },
  {
   "cell_type": "code",
   "execution_count": 20,
   "metadata": {},
   "outputs": [],
   "source": [
    "# Gauss Methods"
   ]
  },
  {
   "cell_type": "code",
   "execution_count": 86,
   "metadata": {},
   "outputs": [
    {
     "name": "stdout",
     "output_type": "stream",
     "text": [
      "final matrix after partial pivoting:\n",
      "[[3.         3.         5.         1.        ]\n",
      " [0.         3.         4.         1.        ]\n",
      " [0.         0.         1.66666667 8.33333333]]\n",
      "Number of row interchanges: 1\n",
      "SOLUTIONS: [-1.6666666666666667, -6.333333333333331, 4.999999999999998]\n"
     ]
    }
   ],
   "source": [
    "def partial_pivoting_method(mat):\n",
    "    shape = np.shape(mat)\n",
    "    # matrix of m x n\n",
    "    m = shape[0]\n",
    "    n = shape[1]\n",
    "    max_val_row = [0]* m\n",
    "    \n",
    "    #determining maximum value contain rows for each column\n",
    "    for i in range(m):\n",
    "        max_val_row[i] = i\n",
    "        for j in range(i,n-1,1):\n",
    "            if abs(mat[j][i]) > abs(mat[i][max_val_row[i]]) :\n",
    "                max_val_row[i] = j\n",
    "\n",
    "    cnt = 0 # number of row interchanges\n",
    "    #here we are swaping rows with the max value rows and then pivoting(column by column)\n",
    "    for i in range(m):\n",
    "        if max_val_row[i] != i:\n",
    "            mat = swap_rows(mat, i, max_val_row[i])\n",
    "            cnt += 1\n",
    "        mat = pivoting(mat, i, m)\n",
    "\n",
    "    x = backsubstitution(mat) # this `x` contains the value of solutions (eg- x0,x1,x2...)\n",
    "\n",
    "    print(f\"final matrix after partial pivoting:\\n{mat}\")\n",
    "    print(f\"Number of row interchanges: {cnt}\")\n",
    "    print(f\"SOLUTIONS: {x}\")\n",
    "\n",
    "    \n",
    "#function to do pivoting\n",
    "def pivoting(mat, target_col, total_row):\n",
    "    # mat = scale_row(mat, 1/mat[target_col][target_col],target_col)\n",
    "    for i in range(target_col + 1, total_row):\n",
    "        m = mat[i][target_col]/mat[target_col][target_col]\n",
    "        mat = add_rows(mat, -1 * m, i, target_col)\n",
    "    return mat\n",
    "\n",
    "#function for backsubstitution and it will return a list of solutions \n",
    "def backsubstitution(mat):\n",
    "    shape = mat.shape\n",
    "    m = shape[0]\n",
    "    n = shape[1]\n",
    "\n",
    "    x = [0] * m \n",
    "    x[m-1] = mat[m-1][n-1] / mat[m-1][m-1] \n",
    "    for i in range(m-2,-1,-1):\n",
    "        ax = 0\n",
    "        for j in range (i+1, n-1):\n",
    "            ax += mat[i][j] * x[j]\n",
    "        x[i] = (mat[i][n-1] - ax) / mat[i][i]\n",
    "\n",
    "    return x\n",
    "\n",
    "\n",
    "\n",
    "partial_pivoting_method(np.array([[2, -1, 1, 8], [3, 6, 9, 2], [3, 3, 5, 1]]))"
   ]
  },
  {
   "cell_type": "code",
   "execution_count": 65,
   "metadata": {},
   "outputs": [
    {
     "name": "stdout",
     "output_type": "stream",
     "text": [
      "Original Matrix:\n",
      "[[ 5  4  2]\n",
      " [-1  2  1]\n",
      " [ 1  1  1]]\n",
      "\n",
      "Inversed Augmented Matrix:\n",
      "[[ 1.    0.    0.    0.14 -0.29  0.  ]\n",
      " [ 0.    1.    0.    0.29  0.43 -1.  ]\n",
      " [ 0.    0.    1.   -0.43 -0.14  2.  ]]\n"
     ]
    }
   ],
   "source": [
    "def gauss_jordan_elimination(mat):\n",
    "    mat = mat.astype(float)\n",
    "    m, n = np.shape(mat)\n",
    "    I = np.eye(m, dtype=float)\n",
    "\n",
    "    augmented_matrix = np.hstack((mat, I))\n",
    "\n",
    "    i = 0\n",
    "    while i < m:\n",
    "        # Pivot the current row\n",
    "        pivot = augmented_matrix[i, i]\n",
    "        j = 0\n",
    "        while j < m + n:\n",
    "            augmented_matrix[i, j] /= pivot\n",
    "            j += 1\n",
    "\n",
    "        # Eliminate other rows\n",
    "        j = 0\n",
    "        while j < m:\n",
    "            if i != j:\n",
    "                factor = augmented_matrix[j, i]\n",
    "                k = 0\n",
    "                while k < m + n:\n",
    "                    augmented_matrix[j, k] -= factor * augmented_matrix[i, k]\n",
    "                    k += 1\n",
    "            j += 1\n",
    "        i += 1\n",
    "\n",
    "    return augmented_matrix\n",
    "\n",
    "# Example usage:\n",
    "Y = np.array([[5, 4, 2], [-1, 2, 1], [1, 1, 1]])\n",
    "\n",
    "# Compute the augmented matrix using the simplified function\n",
    "augmented_matrix = gauss_jordan_elimination(Y)\n",
    "\n",
    "# Display the results\n",
    "print(\"Original Matrix:\")\n",
    "print(np.round(Y, 2))\n",
    "print(\"\\nInversed Augmented Matrix:\")\n",
    "print(np.round(augmented_matrix, 2))"
   ]
  },
  {
   "cell_type": "code",
   "execution_count": null,
   "metadata": {},
   "outputs": [
    {
     "name": "stdout",
     "output_type": "stream",
     "text": [
      "Solution: [4.91071403 4.64285687 3.66071403]\n"
     ]
    }
   ],
   "source": [
    "def jacobi_method(A,b,max_iter,Tolerance):\n",
    "    n = np.size(A[0])\n",
    "    b = np.reshape(b,[n,1])\n",
    "    z = np.reshape(np.diagonal(A),[n,1])\n",
    "    # i != j\n",
    "    B = A - np.diag(np.diagonal(A))\n",
    "    x_o = np.zeros_like(b)\n",
    "    for i in range(max_iter):\n",
    "        x = (b - np.dot(B,x_o))/z\n",
    "        e = np.linalg.norm(x-x_o, ord='fro')\n",
    "        print(x,e)\n",
    "        if e < Tolerance:\n",
    "            print(f'Iterations converged after {i} steps')\n",
    "            break\n",
    "        x_o = x\n",
    "    return x\n",
    "    "
   ]
  },
  {
   "cell_type": "code",
   "execution_count": null,
   "metadata": {},
   "outputs": [
    {
     "name": "stdout",
     "output_type": "stream",
     "text": [
      "Solution: [4.91071414 4.64285707 3.66071427]\n"
     ]
    }
   ],
   "source": [
    "import numpy as np\n",
    "from scipy.linalg import norm\n",
    "def myGaussSeidel(A,b,max_iter,Tolerance):\n",
    "    n = np.size(A[0])\n",
    "    b = np.reshape(b,[n,1])\n",
    "    z = np.reshape(np.diagonal(A),[n,1])\n",
    "    x   = np.zeros_like(b,dtype=np.double)\n",
    "    for i in range(max_iter):\n",
    "        x_o = x.copy()\n",
    "        for j in range(n):\n",
    "            x[j] = b[j] - np.dot(A[j,:j],x[:j])- np.dot(A[j,j+1:],x_o[j+1:])\n",
    "            x[j] = x[j]/A[j,j]\n",
    "        print(f'{norm(x-x_o)}')    \n",
    "        if norm(x-x_o) < Tolerance:\n",
    "                print(f'Iterations converged after {i} steps')\n",
    "                print(f'{(x-x_o)}')\n",
    "                break\n",
    "    return x"
   ]
  },
  {
   "cell_type": "code",
   "execution_count": null,
   "metadata": {},
   "outputs": [],
   "source": [
    "# Integration (Monte Carlo)"
   ]
  },
  {
   "cell_type": "code",
   "execution_count": 75,
   "metadata": {},
   "outputs": [
    {
     "name": "stdout",
     "output_type": "stream",
     "text": [
      "441.33333400001834\n"
     ]
    }
   ],
   "source": [
    "# Integration (Area)\n",
    "def integration_trape(x):\n",
    "    return x**2 + 5*x + 5\n",
    "\n",
    "a = 6\n",
    "b = 10\n",
    "dx = 0.001\n",
    "integral = 0\n",
    "\n",
    "for i in range(abs(b-a)*1000):\n",
    "    c = a + dx\n",
    "    avg = (integration_trape(a)+integration_trape(c))/2\n",
    "    integral += avg*dx\n",
    "    a += dx\n",
    "    \n",
    "print(integral)"
   ]
  },
  {
   "cell_type": "code",
   "execution_count": 1,
   "metadata": {},
   "outputs": [
    {
     "name": "stdout",
     "output_type": "stream",
     "text": [
      "L:\n",
      "[[1.  0.  0. ]\n",
      " [1.5 1.  0. ]\n",
      " [1.5 1.  1. ]]\n",
      "\n",
      "U:\n",
      "[[ 2 -1  1]\n",
      " [ 0  4  7]\n",
      " [ 0  0 -4]]\n",
      "\n",
      "L1 (L times U):\n",
      "[[ 2.  -1.   1. ]\n",
      " [ 3.   2.5  8.5]\n",
      " [ 3.   2.5  4.5]]\n",
      "\n",
      "Solution (x):\n",
      "[ 0.875  -0.5625 -0.125 ]\n"
     ]
    }
   ],
   "source": [
    "# LU Method\n",
    "\n",
    "import numpy as np\n",
    "\n",
    "def lu(A):\n",
    "    n = A.shape[0]\n",
    "    \n",
    "    U = A.copy()\n",
    "    L = np.eye(n, dtype=np.double)\n",
    "    \n",
    "    for i in range(n):\n",
    "        factor = U[i+1:, i] / U[i, i]\n",
    "        L[i+1:, i] = factor\n",
    "        U[i+1:] = U[i+1:] - factor[:, np.newaxis] * U[i]\n",
    "        \n",
    "    return L, U\n",
    "\n",
    "# Example usage:\n",
    "AA = np.array([[2, -1, 1], [3, 3, 9], [3, 3, 5]])\n",
    "b = np.array([8, 3, 1])\n",
    "\n",
    "L, U = lu(AA)\n",
    "L1 = L @ U\n",
    "y = np.linalg.solve(L1, b.T)\n",
    "x = np.linalg.solve(U, y)\n",
    "\n",
    "print(\"L:\")\n",
    "print(L)\n",
    "print(\"\\nU:\")\n",
    "print(U)\n",
    "print(\"\\nL1 (L times U):\")\n",
    "print(L1)\n",
    "print(\"\\nSolution (x):\")\n",
    "print(x)\n"
   ]
  }
 ],
 "metadata": {
  "kernelspec": {
   "display_name": "Python 3 (ipykernel)",
   "language": "python",
   "name": "python3"
  },
  "orig_nbformat": 4
 },
 "nbformat": 4,
 "nbformat_minor": 2
}
