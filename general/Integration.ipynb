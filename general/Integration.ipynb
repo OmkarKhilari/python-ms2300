{
 "cells": [
  {
   "cell_type": "code",
   "execution_count": 1,
   "id": "047c32df-c5a9-4eef-8c36-e234ce67a65f",
   "metadata": {},
   "outputs": [],
   "source": [
    "import numpy as np"
   ]
  },
  {
   "cell_type": "code",
   "execution_count": 9,
   "id": "4549cf66-23e4-4d87-bceb-e2a24026a9bb",
   "metadata": {},
   "outputs": [],
   "source": [
    "def f(x):\n",
    "    return x**2 + 1\n",
    "\n",
    "def g(x,y):\n",
    "    return y - x**2 - 1"
   ]
  },
  {
   "cell_type": "code",
   "execution_count": 10,
   "id": "181fc6fb-d389-49fd-a568-360c70c47803",
   "metadata": {},
   "outputs": [],
   "source": [
    "import random\n",
    "def mc_area(a,b):\n",
    "    inside=0   \n",
    "    for i in range(10000):\n",
    "        x = random.uniform(a,b)\n",
    "        y = random.uniform(0,max(f(a),f(b)))\n",
    "        if(g(x,y)*g(0,0) > 0):\n",
    "          inside += 1  \n",
    "    area = ((inside)/10000) * ((b-a) * (max(f(a) , f(b))))\n",
    "    return area"
   ]
  },
  {
   "cell_type": "code",
   "execution_count": 30,
   "id": "d2a4c6e2-9066-49b4-9b16-86fc557f8f2a",
   "metadata": {},
   "outputs": [
    {
     "data": {
      "text/plain": [
       "9.41"
      ]
     },
     "execution_count": 30,
     "metadata": {},
     "output_type": "execute_result"
    }
   ],
   "source": [
    "mc_area(-2,2)"
   ]
  },
  {
   "cell_type": "code",
   "execution_count": 25,
   "id": "20403397-227c-49b9-b5b1-737bdc3ebb41",
   "metadata": {},
   "outputs": [],
   "source": [
    "def grid_area(a,b):\n",
    "    count = 0 \n",
    "    step = (b-a)/(100)\n",
    "    for i in np.linspace(a, b, 100):\n",
    "        for j in np.linspace(0,max(f(a),f(b)), 100):\n",
    "            if (g(i,j)*g(0,0) > 0):\n",
    "                count += 1\n",
    "                \n",
    "    area = count*((step)**2)\n",
    "                \n",
    "                \n",
    "    return area"
   ]
  },
  {
   "cell_type": "code",
   "execution_count": 31,
   "id": "8831f787-037b-4a3a-829e-518c7481922a",
   "metadata": {},
   "outputs": [
    {
     "data": {
      "text/plain": [
       "7.5488"
      ]
     },
     "execution_count": 31,
     "metadata": {},
     "output_type": "execute_result"
    }
   ],
   "source": [
    "grid_area(-2,2)"
   ]
  },
  {
   "cell_type": "code",
   "execution_count": null,
   "id": "6baa2ca0-b553-4499-8cc6-679ec56e359c",
   "metadata": {},
   "outputs": [],
   "source": []
  }
 ],
 "metadata": {
  "kernelspec": {
   "display_name": "Python 3 (ipykernel)",
   "language": "python",
   "name": "python3"
  },
  "language_info": {
   "codemirror_mode": {
    "name": "ipython",
    "version": 3
   },
   "file_extension": ".py",
   "mimetype": "text/x-python",
   "name": "python",
   "nbconvert_exporter": "python",
   "pygments_lexer": "ipython3",
   "version": "3.10.12"
  }
 },
 "nbformat": 4,
 "nbformat_minor": 5
}
